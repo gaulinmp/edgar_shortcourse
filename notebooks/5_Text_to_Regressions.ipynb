{
 "cells": [
  {
   "cell_type": "markdown",
   "metadata": {
    "toc": true
   },
   "source": [
    "<h1>Contents<span class=\"tocSkip\"></span></h1>\n",
    "<div class=\"toc\"><ul class=\"toc-item\"><li><span><a href=\"#Imports\" data-toc-modified-id=\"Imports-1\"><span class=\"toc-item-num\">1&nbsp;&nbsp;</span>Imports</a></span></li><li><span><a href=\"#Load-Data\" data-toc-modified-id=\"Load-Data-2\"><span class=\"toc-item-num\">2&nbsp;&nbsp;</span>Load Data</a></span></li><li><span><a href=\"#Dimensionality-Reduction\" data-toc-modified-id=\"Dimensionality-Reduction-3\"><span class=\"toc-item-num\">3&nbsp;&nbsp;</span>Dimensionality Reduction</a></span><ul class=\"toc-item\"><li><span><a href=\"#Save-off-texts-for-LDA\" data-toc-modified-id=\"Save-off-texts-for-LDA-3.1\"><span class=\"toc-item-num\">3.1&nbsp;&nbsp;</span>Save off texts for LDA</a></span></li><li><span><a href=\"#Perform-LDA\" data-toc-modified-id=\"Perform-LDA-3.2\"><span class=\"toc-item-num\">3.2&nbsp;&nbsp;</span>Perform LDA</a></span><ul class=\"toc-item\"><li><span><a href=\"#Make-Dictionary-/-TF-IDF-model\" data-toc-modified-id=\"Make-Dictionary-/-TF-IDF-model-3.2.1\"><span class=\"toc-item-num\">3.2.1&nbsp;&nbsp;</span>Make Dictionary / TF-IDF model</a></span><ul class=\"toc-item\"><li><span><a href=\"#Dictionary\" data-toc-modified-id=\"Dictionary-3.2.1.1\"><span class=\"toc-item-num\">3.2.1.1&nbsp;&nbsp;</span>Dictionary</a></span></li><li><span><a href=\"#BOW-Corpus\" data-toc-modified-id=\"BOW-Corpus-3.2.1.2\"><span class=\"toc-item-num\">3.2.1.2&nbsp;&nbsp;</span>BOW Corpus</a></span></li><li><span><a href=\"#TFIDF-Corpus\" data-toc-modified-id=\"TFIDF-Corpus-3.2.1.3\"><span class=\"toc-item-num\">3.2.1.3&nbsp;&nbsp;</span>TFIDF Corpus</a></span></li></ul></li><li><span><a href=\"#Train-LDA\" data-toc-modified-id=\"Train-LDA-3.2.2\"><span class=\"toc-item-num\">3.2.2&nbsp;&nbsp;</span>Train LDA</a></span></li></ul></li><li><span><a href=\"#Test-LDA\" data-toc-modified-id=\"Test-LDA-3.3\"><span class=\"toc-item-num\">3.3&nbsp;&nbsp;</span>Test LDA</a></span></li></ul></li><li><span><a href=\"#Regressions\" data-toc-modified-id=\"Regressions-4\"><span class=\"toc-item-num\">4&nbsp;&nbsp;</span>Regressions</a></span></li><li><span><a href=\"#Plotting\" data-toc-modified-id=\"Plotting-5\"><span class=\"toc-item-num\">5&nbsp;&nbsp;</span>Plotting</a></span></li></ul></div>"
   ]
  },
  {
   "cell_type": "markdown",
   "metadata": {},
   "source": [
    "To cover today:\n",
    "\n",
    "  1. Quick run through pipeline getting text into gensim\n",
    "  1. Dimensionality reduction (LDA)\n",
    "  1. direct use or similarity\n",
    "  1. Input to regressions\n",
    "  1. Regression/graphical output"
   ]
  },
  {
   "cell_type": "markdown",
   "metadata": {},
   "source": [
    "# Imports"
   ]
  },
  {
   "cell_type": "code",
   "execution_count": 103,
   "metadata": {
    "ExecuteTime": {
     "end_time": "2022-02-03T19:41:55.296091Z",
     "start_time": "2022-02-03T19:41:55.185042Z"
    }
   },
   "outputs": [
    {
     "name": "stdout",
     "output_type": "stream",
     "text": [
      "Set LOG_LEVEL=\"WARNING\" before running the import file to reduce the clutter.\n",
      "Set LOG_FORMAT=\"%(levelname)s::%(message)s\" to change log format.\n",
      "IPython: 7.25.0\n",
      "Numpy (np): 1.21.4\n",
      "Scipy (sp, stats): 1.7.0\n",
      "Pandas (pd): 1.3.0\n",
      "MatPlotLib (mpl, plt): 3.5.0\n",
      "Seaborn (sns): 0.11.2\n",
      "Scikit-Learn (sk): 0.24.2\n",
      "Statsmodels (sm): 0.12.2\n",
      "Patsy (pt): 0.5.1\n",
      "SQLAlchemy (sa): 1.4.21\n",
      "Gensim: 4.0.1\n",
      "/home4tb/u6013631/Dropbox/Documents/School/edgar_shortcourse/LDA\n"
     ]
    }
   ],
   "source": [
    "%run imports.ipynb\n",
    "\n",
    "import json\n",
    "import pickle\n",
    "from wordcloud import WordCloud\n",
    "\n",
    "MODEL_ROOT = os.path.join(\"..\", 'LDA')\n",
    "if not os.path.exists(MODEL_ROOT):\n",
    "    os.mkdir(MODEL_ROOT)\n",
    "    \n",
    "def GET_MODEL(*x):\n",
    "    pth = os.path.join(MODEL_ROOT, *x)\n",
    "    if not os.path.exists(os.path.dirname(pth)):\n",
    "        os.mkdir(os.path.dirname(pth))\n",
    "    return os.path.abspath(pth)\n",
    "    \n",
    "print(GET_MODEL(''))"
   ]
  },
  {
   "cell_type": "markdown",
   "metadata": {},
   "source": [
    "# Load Data"
   ]
  },
  {
   "cell_type": "code",
   "execution_count": 9,
   "metadata": {
    "ExecuteTime": {
     "end_time": "2022-02-03T18:44:03.396105Z",
     "start_time": "2022-02-03T18:44:03.266098Z"
    }
   },
   "outputs": [
    {
     "name": "stdout",
     "output_type": "stream",
     "text": [
      "rf_individual_fyear-2004_2021-12-02.xlsx\r\n"
     ]
    }
   ],
   "source": [
    "DB = os.path.expanduser('~/Dropbox/Documents/School/_data/big/risk factors/')\n",
    "!ls \"{DB}\" | head -n 1"
   ]
  },
  {
   "cell_type": "code",
   "execution_count": 50,
   "metadata": {
    "ExecuteTime": {
     "end_time": "2022-02-03T19:14:58.812788Z",
     "start_time": "2022-02-03T19:14:58.795824Z"
    }
   },
   "outputs": [
    {
     "data": {
      "text/html": [
       "<div>\n",
       "<style scoped>\n",
       "    .dataframe tbody tr th:only-of-type {\n",
       "        vertical-align: middle;\n",
       "    }\n",
       "\n",
       "    .dataframe tbody tr th {\n",
       "        vertical-align: top;\n",
       "    }\n",
       "\n",
       "    .dataframe thead th {\n",
       "        text-align: right;\n",
       "    }\n",
       "</style>\n",
       "<table border=\"1\" class=\"dataframe\">\n",
       "  <thead>\n",
       "    <tr style=\"text-align: right;\">\n",
       "      <th></th>\n",
       "      <th>accession</th>\n",
       "      <th>cik</th>\n",
       "      <th>name</th>\n",
       "      <th>form</th>\n",
       "      <th>next_item</th>\n",
       "      <th>header</th>\n",
       "      <th>header_number</th>\n",
       "      <th>header_start</th>\n",
       "      <th>header_end</th>\n",
       "      <th>text_end</th>\n",
       "      <th>text</th>\n",
       "      <th>filedate</th>\n",
       "    </tr>\n",
       "  </thead>\n",
       "  <tbody>\n",
       "    <tr>\n",
       "      <th>3</th>\n",
       "      <td>0001448788-09-000244</td>\n",
       "      <td>1088787</td>\n",
       "      <td>China Direct Industries, Inc.</td>\n",
       "      <td>10-K</td>\n",
       "      <td>0</td>\n",
       "      <td>RISK FACTORS</td>\n",
       "      <td>2</td>\n",
       "      <td>27</td>\n",
       "      <td>47</td>\n",
       "      <td>1875</td>\n",
       "      <td>RISK FACTORS\\nThe risk factors in this section...</td>\n",
       "      <td>2010-01-04</td>\n",
       "    </tr>\n",
       "  </tbody>\n",
       "</table>\n",
       "</div>"
      ],
      "text/plain": [
       "              accession      cik                           name  form  \\\n",
       "3  0001448788-09-000244  1088787  China Direct Industries, Inc.  10-K   \n",
       "\n",
       "   next_item        header  header_number  header_start  header_end  text_end  \\\n",
       "3          0  RISK FACTORS              2            27          47      1875   \n",
       "\n",
       "                                                text   filedate  \n",
       "3  RISK FACTORS\\nThe risk factors in this section... 2010-01-04  "
      ]
     },
     "execution_count": 50,
     "metadata": {},
     "output_type": "execute_result"
    }
   ],
   "source": [
    "if False: # don't overwrite because load took 20 minutes\n",
    "    df_rf = []\n",
    "    for file in os.scandir(DB):\n",
    "        df_rf.append(pd.read_excel(file.path))\n",
    "    df_rf = pd.concat(df_rf)\n",
    "    \n",
    "    df_rf = df_rf[(df_rf.next_item==0) & (df_rf.text.str.len() > 100)]\n",
    "df_rf.head(1)"
   ]
  },
  {
   "cell_type": "code",
   "execution_count": 35,
   "metadata": {
    "ExecuteTime": {
     "end_time": "2022-02-03T19:11:01.489297Z",
     "start_time": "2022-02-03T19:11:01.475751Z"
    }
   },
   "outputs": [],
   "source": [
    "from cpn import config\n",
    "from cpn.data.sources.compustat import CompustatAnnual\n",
    "df_comp = CompustatAnnual().data\n",
    "df_link = pd.read_csv(os.path.join(config.DATA_DIR_INTERIM, \"all_gvkey_cik_pairs.tab\"),\n",
    "                      sep='\\t')"
   ]
  },
  {
   "cell_type": "code",
   "execution_count": 206,
   "metadata": {
    "ExecuteTime": {
     "end_time": "2022-02-03T22:02:13.173992Z",
     "start_time": "2022-02-03T22:01:56.228563Z"
    }
   },
   "outputs": [
    {
     "data": {
      "text/html": [
       "<div>\n",
       "<style scoped>\n",
       "    .dataframe tbody tr th:only-of-type {\n",
       "        vertical-align: middle;\n",
       "    }\n",
       "\n",
       "    .dataframe tbody tr th {\n",
       "        vertical-align: top;\n",
       "    }\n",
       "\n",
       "    .dataframe thead th {\n",
       "        text-align: right;\n",
       "    }\n",
       "</style>\n",
       "<table border=\"1\" class=\"dataframe\">\n",
       "  <thead>\n",
       "    <tr style=\"text-align: right;\">\n",
       "      <th></th>\n",
       "      <th>gvkey</th>\n",
       "      <th>fyear</th>\n",
       "      <th>datadate</th>\n",
       "      <th>rdq</th>\n",
       "      <th>at</th>\n",
       "      <th>mve</th>\n",
       "      <th>ni</th>\n",
       "      <th>ebit</th>\n",
       "      <th>xrd</th>\n",
       "      <th>btm</th>\n",
       "      <th>lev_book</th>\n",
       "      <th>zscore_public</th>\n",
       "      <th>liquidity</th>\n",
       "      <th>tangibility</th>\n",
       "      <th>cik</th>\n",
       "      <th>accession</th>\n",
       "      <th>filedate</th>\n",
       "      <th>diff</th>\n",
       "    </tr>\n",
       "  </thead>\n",
       "  <tbody>\n",
       "    <tr>\n",
       "      <th>598483</th>\n",
       "      <td>6314</td>\n",
       "      <td>1991</td>\n",
       "      <td>1991-12-31</td>\n",
       "      <td>1992-02-27</td>\n",
       "      <td>71.022</td>\n",
       "      <td>23.888</td>\n",
       "      <td>3.653</td>\n",
       "      <td>6.908</td>\n",
       "      <td>3.598</td>\n",
       "      <td>1.078</td>\n",
       "      <td>0.379</td>\n",
       "      <td>2.452</td>\n",
       "      <td>1.964</td>\n",
       "      <td>0.297</td>\n",
       "      <td>20</td>\n",
       "      <td>0000893220-06-000650</td>\n",
       "      <td>2006-03-23</td>\n",
       "      <td>5196</td>\n",
       "    </tr>\n",
       "  </tbody>\n",
       "</table>\n",
       "</div>"
      ],
      "text/plain": [
       "        gvkey  fyear   datadate        rdq     at    mve    ni  ebit   xrd  \\\n",
       "598483   6314   1991 1991-12-31 1992-02-27 71.022 23.888 3.653 6.908 3.598   \n",
       "\n",
       "         btm  lev_book  zscore_public  liquidity  tangibility  cik  \\\n",
       "598483 1.078     0.379          2.452      1.964        0.297   20   \n",
       "\n",
       "                   accession   filedate  diff  \n",
       "598483  0000893220-06-000650 2006-03-23  5196  "
      ]
     },
     "execution_count": 206,
     "metadata": {},
     "output_type": "execute_result"
    }
   ],
   "source": [
    "df_data = (\n",
    "    df_comp[df_comp.S('gvkey fyear datadate rdq at mve ni ebit xrd btm '\n",
    "                      'lev_book zscore_public liquidity tangibility')]\n",
    "    .merge(df_link)\n",
    "    .merge(df_rf[S('cik accession filedate')].drop_duplicates())\n",
    "    .query('filedate > datadate')\n",
    "    .assign(diff=lambda x: (x.filedate - x.datadate)/TD_DAY)\n",
    "    .sort_values(S('cik fyear diff'))\n",
    "    .drop_duplicates(S('cik fyear datadate'))\n",
    ")\n",
    "df_data.head(1)"
   ]
  },
  {
   "cell_type": "code",
   "execution_count": 75,
   "metadata": {
    "ExecuteTime": {
     "end_time": "2022-02-03T19:26:17.885541Z",
     "start_time": "2022-02-03T19:26:17.194659Z"
    }
   },
   "outputs": [
    {
     "data": {
      "text/plain": [
       "2250412"
      ]
     },
     "execution_count": 75,
     "metadata": {},
     "output_type": "execute_result"
    }
   ],
   "source": [
    "KEEP_ACCESSIONS = df_rf.accession.isin(df_data.accession)\n",
    "len(df_rf[KEEP_ACCESSIONS])"
   ]
  },
  {
   "cell_type": "markdown",
   "metadata": {},
   "source": [
    "# Dimensionality Reduction"
   ]
  },
  {
   "cell_type": "markdown",
   "metadata": {},
   "source": [
    "## Save off texts for LDA"
   ]
  },
  {
   "cell_type": "code",
   "execution_count": 73,
   "metadata": {
    "ExecuteTime": {
     "end_time": "2022-02-03T19:25:04.384550Z",
     "start_time": "2022-02-03T19:25:04.370055Z"
    }
   },
   "outputs": [
    {
     "name": "stdout",
     "output_type": "stream",
     "text": [
      "[0, 1, 2, 3, 4, 5, 6, 7, 8, 9, 10, 11, 12, 13, 14, 15, 16, 17, 18, 19, 20, 21, 22, 23, 24, 25, 26, 27, 28, 29, 30, 31, 32, 33, 34, 35, 36, 37, 38, 39]\n"
     ]
    }
   ],
   "source": [
    "import ipyparallel as ipp\n",
    "IP_client = ipp.Client()\n",
    "print(IP_client.ids)\n",
    "IP_view = IP_client.load_balanced_view()"
   ]
  },
  {
   "cell_type": "code",
   "execution_count": null,
   "metadata": {
    "ExecuteTime": {
     "end_time": "2022-02-03T19:32:36.282635Z",
     "start_time": "2022-02-03T19:32:35.767134Z"
    }
   },
   "outputs": [],
   "source": [
    "txt = df_rf[KEEP_ACCESSIONS].text.values[0]"
   ]
  },
  {
   "cell_type": "code",
   "execution_count": 88,
   "metadata": {
    "ExecuteTime": {
     "end_time": "2022-02-03T19:35:46.836057Z",
     "start_time": "2022-02-03T19:35:46.364742Z"
    }
   },
   "outputs": [],
   "source": [
    "%%px --local\n",
    "\n",
    "import re\n",
    "from nltk.corpus import stopwords\n",
    "\n",
    "_stop_words = stopwords.words('english')\n",
    "\n",
    "# Using the word finder from last time\n",
    "re_word_finder = re.compile(\n",
    "    r'\\b' # word-boundry, so match beginning or ends of words\n",
    "    r\"(?:[a-z][\\w\\-'’]*[a-z])\" # Add ’, which is single quote and end quote\n",
    "    r'\\b' # ending word-boundry\n",
    "    , re.IGNORECASE\n",
    ")\n",
    "\n",
    "def clean_text(text):\n",
    "    try:\n",
    "        return list(filter(lambda x: x not in _stop_words, \n",
    "                           re_word_finder.findall(text.lower())))\n",
    "    except Exception as e:\n",
    "        return [str(e)]"
   ]
  },
  {
   "cell_type": "code",
   "execution_count": 90,
   "metadata": {
    "ExecuteTime": {
     "end_time": "2022-02-03T19:36:44.659987Z",
     "start_time": "2022-02-03T19:36:32.084922Z"
    }
   },
   "outputs": [],
   "source": [
    "async_result = IP_view.map(lambda x: clean_text(x),\n",
    "                           df_rf[KEEP_ACCESSIONS].text.values,\n",
    "                           chunksize=1000,\n",
    "                           ordered=False)"
   ]
  },
  {
   "cell_type": "code",
   "execution_count": 94,
   "metadata": {
    "ExecuteTime": {
     "end_time": "2022-02-03T19:39:08.411357Z",
     "start_time": "2022-02-03T19:39:07.878571Z"
    }
   },
   "outputs": [
    {
     "data": {
      "application/vnd.jupyter.widget-view+json": {
       "model_id": "e3685981c1d543979fcd9b63e470dd80",
       "version_major": 2,
       "version_minor": 0
      },
      "text/plain": [
       "HTML(value='Processing 2251 w/ 999 per')"
      ]
     },
     "metadata": {},
     "output_type": "display_data"
    },
    {
     "data": {
      "application/vnd.jupyter.widget-view+json": {
       "model_id": "1be8539d3e8941da93242c2a3adc91a0",
       "version_major": 2,
       "version_minor": 0
      },
      "text/plain": [
       "IntProgress(value=2251, description='Processing 2251 w/ 999 per:', max=2251)"
      ]
     },
     "metadata": {},
     "output_type": "display_data"
    }
   ],
   "source": [
    "from time import sleep\n",
    "from ipywidgets import Output, IntProgress, HTML as wHTML\n",
    "queue_len = len(async_result.status)\n",
    "tot_num = len(df_rf[KEEP_ACCESSIONS])\n",
    "\n",
    "txt = wHTML(value=f'Processing {queue_len} w/ {tot_num // queue_len} per')\n",
    "prog = IntProgress(\n",
    "        value=async_result.progress,\n",
    "        min=0,\n",
    "        max=len(async_result.status),\n",
    "        step=1,\n",
    "        description=f'Processing {queue_len} w/ {tot_num // queue_len} per:',\n",
    "        bar_style='', # 'success', 'info', 'warning', 'danger' or ''\n",
    "        orientation='horizontal'\n",
    "    )\n",
    "display(txt, prog)\n",
    "\n",
    "while not async_result.done():\n",
    "    prog.value = async_result.progress\n",
    "    txt.value = (f'Processing {async_result.progress} of {queue_len} '\n",
    "                 f'({100*async_result.progress/queue_len:7.2f}% @ {tot_num // queue_len} per)')\n",
    "    sleep(10)"
   ]
  },
  {
   "cell_type": "code",
   "execution_count": 97,
   "metadata": {
    "ExecuteTime": {
     "end_time": "2022-02-03T19:39:56.753509Z",
     "start_time": "2022-02-03T19:39:56.749656Z"
    }
   },
   "outputs": [],
   "source": [
    "texts = async_result.result()"
   ]
  },
  {
   "cell_type": "code",
   "execution_count": 100,
   "metadata": {
    "ExecuteTime": {
     "end_time": "2022-02-03T19:40:30.852720Z",
     "start_time": "2022-02-03T19:40:30.683851Z"
    }
   },
   "outputs": [
    {
     "data": {
      "text/plain": [
       "(2250412, 144, 3)"
      ]
     },
     "execution_count": 100,
     "metadata": {},
     "output_type": "execute_result"
    }
   ],
   "source": [
    "len(texts), len(texts[0]), min(map(len, texts))"
   ]
  },
  {
   "cell_type": "code",
   "execution_count": 104,
   "metadata": {
    "ExecuteTime": {
     "end_time": "2022-02-03T19:44:43.316502Z",
     "start_time": "2022-02-03T19:42:33.784611Z"
    }
   },
   "outputs": [],
   "source": [
    "import json\n",
    "with open(GET_MODEL('texts.json'), 'w') as fh:\n",
    "    json.dump(texts, fh)"
   ]
  },
  {
   "cell_type": "markdown",
   "metadata": {},
   "source": [
    "## Perform LDA"
   ]
  },
  {
   "cell_type": "markdown",
   "metadata": {},
   "source": [
    "### Make Dictionary / TF-IDF model"
   ]
  },
  {
   "cell_type": "code",
   "execution_count": 105,
   "metadata": {
    "ExecuteTime": {
     "end_time": "2022-02-03T19:46:44.966241Z",
     "start_time": "2022-02-03T19:46:44.962436Z"
    }
   },
   "outputs": [],
   "source": [
    "CORPUS = texts"
   ]
  },
  {
   "cell_type": "code",
   "execution_count": 208,
   "metadata": {
    "ExecuteTime": {
     "end_time": "2022-02-03T22:18:56.734197Z",
     "start_time": "2022-02-03T22:18:56.730174Z"
    }
   },
   "outputs": [
    {
     "name": "stdout",
     "output_type": "stream",
     "text": [
      "['risk', 'factors', 'risk', 'factors', 'section', 'describe', 'major', 'risks', 'business', 'prospects', 'results', 'operations', 'financial', 'condition', 'cash', 'flows', 'considered', 'carefully', 'addition', 'factors', 'constitute', 'cautionary', 'statements', 'private', 'securities', 'litigation', 'reform', 'act', 'could', 'cause', 'actual', 'results', 'differ', 'materially', 'projected', 'forward-looking', 'statements', 'defined', 'act', 'made', 'transition', 'report', 'form', 'investors', 'place', 'undue', 'reliance', 'forward-looking', 'statements', 'statements', 'historical', 'facts', 'express', 'involve', 'discussions', 'expectations', 'beliefs', 'plans', 'objectives', 'assumptions', 'future', 'events', 'performance', 'often', 'always', 'use', 'words', 'phrases', 'likely', 'result', 'expected', 'continue', 'anticipated', 'estimated', 'intends', 'plans', 'believes', 'projects', 'may', 'forward-looking', 'may', 'involve', 'estimates', 'uncertainties', 'could', 'cause', 'actual', 'results', 'differ', 'materially', 'expressed', 'forward-looking', 'statements', 'forward-looking', 'statement', 'speaks', 'date', 'statement', 'made', 'undertake', 'obligation', 'update', 'forward-looking', 'statement', 'reflect', 'events', 'circumstances', 'date', 'statement', 'made', 'reflect', 'occurrence', 'anticipated', 'unanticipated', 'events', 'circumstances', 'new', 'factors', 'emerge', 'time', 'time', 'possible', 'us', 'predict', 'factors', 'cannot', 'assess', 'impact', 'factor', 'results', 'operations', 'extent', 'factor', 'combination', 'factors', 'may', 'cause', 'actual', 'results', 'differ', 'materially', 'contained', 'forward-looking', 'statements']\n"
     ]
    }
   ],
   "source": [
    "print(CORPUS[0])"
   ]
  },
  {
   "cell_type": "markdown",
   "metadata": {},
   "source": [
    "#### Dictionary"
   ]
  },
  {
   "cell_type": "markdown",
   "metadata": {},
   "source": [
    "##### Full Dictionary (run once)"
   ]
  },
  {
   "cell_type": "code",
   "execution_count": 106,
   "metadata": {
    "ExecuteTime": {
     "end_time": "2022-02-03T19:52:55.539774Z",
     "start_time": "2022-02-03T19:46:47.081325Z"
    }
   },
   "outputs": [
    {
     "data": {
      "application/vnd.jupyter.widget-view+json": {
       "model_id": "75ef9a85e7bc44c2bfad7f5c96b4dda2",
       "version_major": 2,
       "version_minor": 0
      },
      "text/plain": [
       "  0%|          | 0/2250412 [00:00<?, ?it/s]"
      ]
     },
     "metadata": {},
     "output_type": "display_data"
    },
    {
     "name": "stderr",
     "output_type": "stream",
     "text": [
      "INFO::Dictionary lifecycle event {'fname_or_handle': '/home4tb/u6013631/Dropbox/Documents/School/edgar_shortcourse/LDA/dictionary.full.dict', 'separately': 'None', 'sep_limit': 10485760, 'ignore': frozenset(), 'datetime': '2022-02-03T12:52:55.404878', 'gensim': '4.0.1', 'python': '3.7.12 | packaged by conda-forge | (default, Oct 26 2021, 06:08:53) \\n[GCC 9.4.0]', 'platform': 'Linux-5.4.0-80-generic-x86_64-with-debian-bullseye-sid', 'event': 'saving'}\n",
      "INFO::saved /home4tb/u6013631/Dropbox/Documents/School/edgar_shortcourse/LDA/dictionary.full.dict\n"
     ]
    }
   ],
   "source": [
    "dict_full = gensim.corpora.dictionary.Dictionary()\n",
    "\n",
    "for doc in tqdm(CORPUS):\n",
    "    dict_full.doc2bow(doc, allow_update=True)\n",
    "\n",
    "dict_full.compactify()\n",
    "dict_full.save(GET_MODEL('dictionary.full.dict'))"
   ]
  },
  {
   "cell_type": "code",
   "execution_count": 107,
   "metadata": {
    "ExecuteTime": {
     "end_time": "2022-02-03T19:52:56.142977Z",
     "start_time": "2022-02-03T19:52:55.542332Z"
    },
    "scrolled": true
   },
   "outputs": [
    {
     "data": {
      "text/html": [
       "<div>\n",
       "<style scoped>\n",
       "    .dataframe tbody tr th:only-of-type {\n",
       "        vertical-align: middle;\n",
       "    }\n",
       "\n",
       "    .dataframe tbody tr th {\n",
       "        vertical-align: top;\n",
       "    }\n",
       "\n",
       "    .dataframe thead th {\n",
       "        text-align: right;\n",
       "    }\n",
       "</style>\n",
       "<table border=\"1\" class=\"dataframe\">\n",
       "  <thead>\n",
       "    <tr style=\"text-align: right;\">\n",
       "      <th></th>\n",
       "      <th>index</th>\n",
       "      <th>doc_count</th>\n",
       "      <th>word</th>\n",
       "      <th>pct</th>\n",
       "    </tr>\n",
       "  </thead>\n",
       "  <tbody>\n",
       "    <tr>\n",
       "      <th>0</th>\n",
       "      <td>55</td>\n",
       "      <td>1882826</td>\n",
       "      <td>may</td>\n",
       "      <td>0.837</td>\n",
       "    </tr>\n",
       "    <tr>\n",
       "      <th>1</th>\n",
       "      <td>22</td>\n",
       "      <td>1721584</td>\n",
       "      <td>could</td>\n",
       "      <td>0.765</td>\n",
       "    </tr>\n",
       "    <tr>\n",
       "      <th>2</th>\n",
       "      <td>9</td>\n",
       "      <td>1343770</td>\n",
       "      <td>business</td>\n",
       "      <td>0.597</td>\n",
       "    </tr>\n",
       "    <tr>\n",
       "      <th>3</th>\n",
       "      <td>40</td>\n",
       "      <td>1131143</td>\n",
       "      <td>financial</td>\n",
       "      <td>0.503</td>\n",
       "    </tr>\n",
       "    <tr>\n",
       "      <th>4</th>\n",
       "      <td>61</td>\n",
       "      <td>1107468</td>\n",
       "      <td>operations</td>\n",
       "      <td>0.492</td>\n",
       "    </tr>\n",
       "    <tr>\n",
       "      <th>5</th>\n",
       "      <td>92</td>\n",
       "      <td>1093254</td>\n",
       "      <td>us</td>\n",
       "      <td>0.486</td>\n",
       "    </tr>\n",
       "    <tr>\n",
       "      <th>6</th>\n",
       "      <td>77</td>\n",
       "      <td>1087428</td>\n",
       "      <td>results</td>\n",
       "      <td>0.483</td>\n",
       "    </tr>\n",
       "    <tr>\n",
       "      <th>7</th>\n",
       "      <td>76</td>\n",
       "      <td>1018364</td>\n",
       "      <td>result</td>\n",
       "      <td>0.453</td>\n",
       "    </tr>\n",
       "    <tr>\n",
       "      <th>8</th>\n",
       "      <td>149</td>\n",
       "      <td>969311</td>\n",
       "      <td>including</td>\n",
       "      <td>0.431</td>\n",
       "    </tr>\n",
       "    <tr>\n",
       "      <th>9</th>\n",
       "      <td>44</td>\n",
       "      <td>947024</td>\n",
       "      <td>future</td>\n",
       "      <td>0.421</td>\n",
       "    </tr>\n",
       "    <tr>\n",
       "      <th>10</th>\n",
       "      <td>296</td>\n",
       "      <td>937947</td>\n",
       "      <td>adversely</td>\n",
       "      <td>0.417</td>\n",
       "    </tr>\n",
       "    <tr>\n",
       "      <th>11</th>\n",
       "      <td>343</td>\n",
       "      <td>888528</td>\n",
       "      <td>ability</td>\n",
       "      <td>0.395</td>\n",
       "    </tr>\n",
       "    <tr>\n",
       "      <th>12</th>\n",
       "      <td>297</td>\n",
       "      <td>867284</td>\n",
       "      <td>affect</td>\n",
       "      <td>0.385</td>\n",
       "    </tr>\n",
       "    <tr>\n",
       "      <th>13</th>\n",
       "      <td>197</td>\n",
       "      <td>814007</td>\n",
       "      <td>significant</td>\n",
       "      <td>0.362</td>\n",
       "    </tr>\n",
       "    <tr>\n",
       "      <th>14</th>\n",
       "      <td>2</td>\n",
       "      <td>807498</td>\n",
       "      <td>addition</td>\n",
       "      <td>0.359</td>\n",
       "    </tr>\n",
       "    <tr>\n",
       "      <th>15</th>\n",
       "      <td>295</td>\n",
       "      <td>731726</td>\n",
       "      <td>adverse</td>\n",
       "      <td>0.325</td>\n",
       "    </tr>\n",
       "    <tr>\n",
       "      <th>16</th>\n",
       "      <td>511</td>\n",
       "      <td>728316</td>\n",
       "      <td>subject</td>\n",
       "      <td>0.324</td>\n",
       "    </tr>\n",
       "    <tr>\n",
       "      <th>17</th>\n",
       "      <td>98</td>\n",
       "      <td>727342</td>\n",
       "      <td>also</td>\n",
       "      <td>0.323</td>\n",
       "    </tr>\n",
       "    <tr>\n",
       "      <th>18</th>\n",
       "      <td>168</td>\n",
       "      <td>704522</td>\n",
       "      <td>market</td>\n",
       "      <td>0.313</td>\n",
       "    </tr>\n",
       "    <tr>\n",
       "      <th>19</th>\n",
       "      <td>17</td>\n",
       "      <td>687120</td>\n",
       "      <td>condition</td>\n",
       "      <td>0.305</td>\n",
       "    </tr>\n",
       "    <tr>\n",
       "      <th>20</th>\n",
       "      <td>301</td>\n",
       "      <td>662135</td>\n",
       "      <td>certain</td>\n",
       "      <td>0.294</td>\n",
       "    </tr>\n",
       "    <tr>\n",
       "      <th>21</th>\n",
       "      <td>444</td>\n",
       "      <td>657166</td>\n",
       "      <td>effect</td>\n",
       "      <td>0.292</td>\n",
       "    </tr>\n",
       "    <tr>\n",
       "      <th>22</th>\n",
       "      <td>185</td>\n",
       "      <td>651184</td>\n",
       "      <td>products</td>\n",
       "      <td>0.289</td>\n",
       "    </tr>\n",
       "    <tr>\n",
       "      <th>23</th>\n",
       "      <td>212</td>\n",
       "      <td>635170</td>\n",
       "      <td>would</td>\n",
       "      <td>0.282</td>\n",
       "    </tr>\n",
       "    <tr>\n",
       "      <th>24</th>\n",
       "      <td>372</td>\n",
       "      <td>606497</td>\n",
       "      <td>material</td>\n",
       "      <td>0.270</td>\n",
       "    </tr>\n",
       "    <tr>\n",
       "      <th>25</th>\n",
       "      <td>294</td>\n",
       "      <td>605582</td>\n",
       "      <td>additional</td>\n",
       "      <td>0.269</td>\n",
       "    </tr>\n",
       "    <tr>\n",
       "      <th>26</th>\n",
       "      <td>251</td>\n",
       "      <td>593943</td>\n",
       "      <td>operating</td>\n",
       "      <td>0.264</td>\n",
       "    </tr>\n",
       "    <tr>\n",
       "      <th>27</th>\n",
       "      <td>56</td>\n",
       "      <td>590992</td>\n",
       "      <td>new</td>\n",
       "      <td>0.263</td>\n",
       "    </tr>\n",
       "    <tr>\n",
       "      <th>28</th>\n",
       "      <td>115</td>\n",
       "      <td>588476</td>\n",
       "      <td>costs</td>\n",
       "      <td>0.261</td>\n",
       "    </tr>\n",
       "  </tbody>\n",
       "</table>\n",
       "</div>"
      ],
      "text/plain": [
       "    index  doc_count         word   pct\n",
       "0      55    1882826          may 0.837\n",
       "1      22    1721584        could 0.765\n",
       "2       9    1343770     business 0.597\n",
       "3      40    1131143    financial 0.503\n",
       "4      61    1107468   operations 0.492\n",
       "5      92    1093254           us 0.486\n",
       "6      77    1087428      results 0.483\n",
       "7      76    1018364       result 0.453\n",
       "8     149     969311    including 0.431\n",
       "9      44     947024       future 0.421\n",
       "10    296     937947    adversely 0.417\n",
       "11    343     888528      ability 0.395\n",
       "12    297     867284       affect 0.385\n",
       "13    197     814007  significant 0.362\n",
       "14      2     807498     addition 0.359\n",
       "15    295     731726      adverse 0.325\n",
       "16    511     728316      subject 0.324\n",
       "17     98     727342         also 0.323\n",
       "18    168     704522       market 0.313\n",
       "19     17     687120    condition 0.305\n",
       "20    301     662135      certain 0.294\n",
       "21    444     657166       effect 0.292\n",
       "22    185     651184     products 0.289\n",
       "23    212     635170        would 0.282\n",
       "24    372     606497     material 0.270\n",
       "25    294     605582   additional 0.269\n",
       "26    251     593943    operating 0.264\n",
       "27     56     590992          new 0.263\n",
       "28    115     588476        costs 0.261"
      ]
     },
     "execution_count": 107,
     "metadata": {},
     "output_type": "execute_result"
    }
   ],
   "source": [
    "(pd.Series(dict_full.dfs)\n",
    " .reset_index()\n",
    " .rename(columns={0:'doc_count'})\n",
    " .assign(word=lambda x: x['index'].apply(dict_full.get),\n",
    "         pct=lambda x: x.doc_count / len(CORPUS))\n",
    " .sort_values('doc_count', ascending=False)\n",
    " .reset_index(drop=True)\n",
    ").query('pct > .25')"
   ]
  },
  {
   "cell_type": "markdown",
   "metadata": {},
   "source": [
    "##### Filtered Dictionary"
   ]
  },
  {
   "cell_type": "code",
   "execution_count": 108,
   "metadata": {
    "ExecuteTime": {
     "end_time": "2022-02-03T19:55:08.727801Z",
     "start_time": "2022-02-03T19:55:08.203762Z"
    }
   },
   "outputs": [
    {
     "name": "stderr",
     "output_type": "stream",
     "text": [
      "INFO::loading Dictionary object from /home4tb/u6013631/Dropbox/Documents/School/edgar_shortcourse/LDA/dictionary.full.dict\n",
      "INFO::Dictionary lifecycle event {'fname': '/home4tb/u6013631/Dropbox/Documents/School/edgar_shortcourse/LDA/dictionary.full.dict', 'datetime': '2022-02-03T12:55:08.313890', 'gensim': '4.0.1', 'python': '3.7.12 | packaged by conda-forge | (default, Oct 26 2021, 06:08:53) \\n[GCC 9.4.0]', 'platform': 'Linux-5.4.0-80-generic-x86_64-with-debian-bullseye-sid', 'event': 'loaded'}\n",
      "INFO::discarding 167867 tokens: [('addition', 807498), ('business', 1343770), ('condition', 687120), ('could', 1721584), ('financial', 1131143), ('future', 947024), ('may', 1882826), ('new', 590992), ('operations', 1107468), ('phrases', 775)]...\n",
      "INFO::keeping 7644 tokens which were in no less than 1000 and no more than 562603 (=25.0%) documents\n",
      "INFO::resulting dictionary: Dictionary(7644 unique tokens: ['act', 'actual', 'always', 'anticipated', 'assess']...)\n",
      "INFO::Dictionary lifecycle event {'fname_or_handle': '/home4tb/u6013631/Dropbox/Documents/School/edgar_shortcourse/LDA/dictionary.dict', 'separately': 'None', 'sep_limit': 10485760, 'ignore': frozenset(), 'datetime': '2022-02-03T12:55:08.720111', 'gensim': '4.0.1', 'python': '3.7.12 | packaged by conda-forge | (default, Oct 26 2021, 06:08:53) \\n[GCC 9.4.0]', 'platform': 'Linux-5.4.0-80-generic-x86_64-with-debian-bullseye-sid', 'event': 'saving'}\n",
      "INFO::saved /home4tb/u6013631/Dropbox/Documents/School/edgar_shortcourse/LDA/dictionary.dict\n",
      "WARNING::Full Dict: 175511, Compact Dict: 7644\n"
     ]
    }
   ],
   "source": [
    "if os.path.exists(GET_MODEL('dictionary.dict')):\n",
    "    dictionary = gensim.corpora.dictionary.Dictionary.load(GET_MODEL('dictionary.dict'))\n",
    "else:\n",
    "    dictionary = gensim.corpora.dictionary.Dictionary.load(GET_MODEL('dictionary.full.dict'))\n",
    "\n",
    "    _dict_len = len(dictionary.token2id)\n",
    "    # remove stop words and words that appear only once\n",
    "    dictionary.filter_extremes(no_below=1000, no_above=0.25, keep_n=1_000_000)\n",
    "    dictionary.compactify()\n",
    "    dictionary.save(GET_MODEL('dictionary.dict'))\n",
    "    logger.warning(f\"Full Dict: {_dict_len}, Compact Dict: {len(dictionary.token2id)}\")\n",
    "    del _dict_len"
   ]
  },
  {
   "cell_type": "markdown",
   "metadata": {},
   "source": [
    "#### BOW Corpus"
   ]
  },
  {
   "cell_type": "code",
   "execution_count": 109,
   "metadata": {
    "ExecuteTime": {
     "end_time": "2022-02-03T20:00:08.118637Z",
     "start_time": "2022-02-03T19:56:32.058575Z"
    }
   },
   "outputs": [
    {
     "data": {
      "application/vnd.jupyter.widget-view+json": {
       "model_id": "c6c32c700e6b4c1abe31c081b4f99a90",
       "version_major": 2,
       "version_minor": 0
      },
      "text/plain": [
       "  0%|          | 0/2250412 [00:00<?, ?it/s]"
      ]
     },
     "metadata": {},
     "output_type": "display_data"
    }
   ],
   "source": [
    "BOW_CORPUS = []\n",
    "for doc in tqdm(CORPUS):\n",
    "    _td = dictionary.doc2bow(doc)\n",
    "    if len(_td) > 5:\n",
    "        BOW_CORPUS.append(_td)"
   ]
  },
  {
   "cell_type": "code",
   "execution_count": 212,
   "metadata": {
    "ExecuteTime": {
     "end_time": "2022-02-03T22:24:51.195241Z",
     "start_time": "2022-02-03T22:24:51.191266Z"
    }
   },
   "outputs": [
    {
     "name": "stdout",
     "output_type": "stream",
     "text": [
      "[(0, 2), (1, 3), (2, 1), (3, 2), (4, 1), (5, 1), (6, 1), (7, 1), (8, 1), (9, 1), (10, 1), (11, 3), (12, 1), (13, 2), (14, 1), (15, 1), (16, 1), (17, 1), (18, 1), (19, 2), (20, 1), (21, 1), (22, 3), (23, 1), (24, 1), (25, 1), (26, 1), (27, 3), (28, 1), (29, 1), (30, 1), (31, 1), (32, 1), (33, 2), (34, 6), (35, 1), (36, 1), (37, 1), (38, 7), (39, 1), (40, 1), (41, 1), (42, 1), (43, 2), (44, 1), (45, 1), (46, 3), (47, 1), (48, 3), (49, 1), (50, 1), (51, 1), (52, 1), (53, 1), (54, 1), (55, 2), (56, 1), (57, 1), (58, 1), (59, 1), (60, 1), (61, 1), (62, 2), (63, 1), (64, 1), (65, 1), (66, 2), (67, 1), (68, 1), (69, 1), (70, 4), (71, 6), (72, 2), (73, 1), (74, 1), (75, 1), (76, 1), (77, 1), (78, 1), (79, 1), (80, 1)]\n"
     ]
    }
   ],
   "source": [
    "print(BOW_CORPUS[0])"
   ]
  },
  {
   "cell_type": "markdown",
   "metadata": {},
   "source": [
    "#### TFIDF Corpus"
   ]
  },
  {
   "cell_type": "code",
   "execution_count": 111,
   "metadata": {
    "ExecuteTime": {
     "end_time": "2022-02-03T20:17:38.335035Z",
     "start_time": "2022-02-03T20:17:38.253107Z"
    }
   },
   "outputs": [
    {
     "name": "stderr",
     "output_type": "stream",
     "text": [
      "INFO::loading TfidfModel object from /home4tb/u6013631/Dropbox/Documents/School/edgar_shortcourse/LDA/tfidf.model\n",
      "INFO::TfidfModel lifecycle event {'fname_or_handle': '/home4tb/u6013631/Dropbox/Documents/School/edgar_shortcourse/LDA/tfidf.model', 'separately': 'None', 'sep_limit': 10485760, 'ignore': frozenset(), 'datetime': '2022-02-03T13:17:38.299919', 'gensim': '4.0.1', 'python': '3.7.12 | packaged by conda-forge | (default, Oct 26 2021, 06:08:53) \\n[GCC 9.4.0]', 'platform': 'Linux-5.4.0-80-generic-x86_64-with-debian-bullseye-sid', 'event': 'saving'}\n",
      "INFO::saved /home4tb/u6013631/Dropbox/Documents/School/edgar_shortcourse/LDA/tfidf.model\n"
     ]
    },
    {
     "name": "stdout",
     "output_type": "stream",
     "text": [
      "TfidfModel(num_docs=2250412, num_nnz=205759461)\n"
     ]
    }
   ],
   "source": [
    "try:\n",
    "    tfidf_model\n",
    "except NameError:\n",
    "    try:\n",
    "        tfidf_model = gensim.models.TfidfModel.load(GET_MODEL('tfidf.model'))\n",
    "    except FileNotFoundError:\n",
    "        tfidf_model = gensim.models.TfidfModel(dictionary=dictionary)\n",
    "        tfidf_model.save(GET_MODEL('tfidf.model'))\n",
    "finally:\n",
    "    print(tfidf_model)"
   ]
  },
  {
   "cell_type": "code",
   "execution_count": 112,
   "metadata": {
    "ExecuteTime": {
     "end_time": "2022-02-03T20:38:02.424435Z",
     "start_time": "2022-02-03T20:18:12.861018Z"
    }
   },
   "outputs": [
    {
     "data": {
      "application/vnd.jupyter.widget-view+json": {
       "model_id": "66c815b7967940fd9fcd70c7813f7eba",
       "version_major": 2,
       "version_minor": 0
      },
      "text/plain": [
       "  0%|          | 0/2249738 [00:00<?, ?it/s]"
      ]
     },
     "metadata": {},
     "output_type": "display_data"
    }
   ],
   "source": [
    "TFIDF_CORPUS = []\n",
    "for bow in tqdm(BOW_CORPUS):\n",
    "    _td = tfidf_model[bow]\n",
    "    if len(_td) > 5:\n",
    "        TFIDF_CORPUS.append(_td)"
   ]
  },
  {
   "cell_type": "code",
   "execution_count": 113,
   "metadata": {
    "ExecuteTime": {
     "end_time": "2022-02-03T20:51:07.653430Z",
     "start_time": "2022-02-03T20:40:23.096824Z"
    }
   },
   "outputs": [],
   "source": [
    "with open(GET_MODEL('tfidf_corpus.pkl'), 'wb') as fh:\n",
    "    pickle.dump(TFIDF_CORPUS, fh)"
   ]
  },
  {
   "cell_type": "code",
   "execution_count": 211,
   "metadata": {
    "ExecuteTime": {
     "end_time": "2022-02-03T22:24:30.030677Z",
     "start_time": "2022-02-03T22:24:30.026831Z"
    }
   },
   "outputs": [
    {
     "name": "stdout",
     "output_type": "stream",
     "text": [
      "[(0, 0.08289541997653169), (1, 0.1479276239476041), (2, 0.07649521331156978), (3, 0.09758293134314282), (4, 0.07065721489962598), (5, 0.06483756154602803), (6, 0.12091427324947304), (7, 0.07538415097899526), (8, 0.03040774415734362), (9, 0.071803076272339), (10, 0.02871478335037299), (11, 0.08862743254827884), (12, 0.10366216850124599), (13, 0.09802087891415916), (14, 0.055833520732326745), (15, 0.062078943407355196), (16, 0.07865220675809874), (17, 0.06533724780390841), (18, 0.028040164883412773), (19, 0.09941585672988275), (20, 0.06489353473080019), (21, 0.10844469365382414), (22, 0.18840782005952528), (23, 0.09250997881414275), (24, 0.09276705237902029), (25, 0.06802190703400526), (26, 0.05660009353493598), (27, 0.12570470338260292), (28, 0.05873298166205254), (29, 0.04555363562990703), (30, 0.10283887593772684), (31, 0.09417644851128547), (32, 0.03945592497955986), (33, 0.16025981820723711), (34, 0.16819415513101021), (35, 0.08905167372312876), (36, 0.042475344485419335), (37, 0.05145868587146091), (38, 0.5485279610732184), (39, 0.06606354679172877), (40, 0.024658351927889767), (41, 0.09006389716032119), (42, 0.04746729456034805), (43, 0.10631434416033364), (44, 0.044469298039944684), (45, 0.04401673903462608), (46, 0.1372599741606334), (47, 0.058019688824403524), (48, 0.09462255256861649), (49, 0.06732058452600408), (50, 0.06755387870038689), (51, 0.06451726482671473), (52, 0.05298305672072011), (53, 0.03752229825208723), (54, 0.05673125329439112), (55, 0.10515166668509142), (56, 0.04509780667763097), (57, 0.04701465867682448), (58, 0.05356591402691205), (59, 0.07582508589743892), (60, 0.06296398079079041), (61, 0.05015219418674208), (62, 0.14798651623657158), (63, 0.06960426660257997), (64, 0.0743187153140448), (65, 0.04832328198416131), (66, 0.05926231059673886), (67, 0.029054709010996826), (68, 0.056811205255909686), (69, 0.03566266585408338), (70, 0.2882358969281489), (71, 0.2912152451921686), (72, 0.04996548181593753), (73, 0.07562772807604815), (74, 0.06333206837064333), (75, 0.05330548149564761), (76, 0.07566107214191621), (77, 0.10906357056185392), (78, 0.08823396373205637), (79, 0.030910466026703456), (80, 0.10748914809857676)]\n"
     ]
    }
   ],
   "source": [
    "print(TFIDF_CORPUS[0])"
   ]
  },
  {
   "cell_type": "markdown",
   "metadata": {},
   "source": [
    "### Train LDA"
   ]
  },
  {
   "cell_type": "code",
   "execution_count": 121,
   "metadata": {
    "ExecuteTime": {
     "end_time": "2022-02-03T21:09:27.020102Z",
     "start_time": "2022-02-03T21:09:26.995096Z"
    }
   },
   "outputs": [
    {
     "name": "stderr",
     "output_type": "stream",
     "text": [
      "INFO::LdaState lifecycle event {'fname_or_handle': '/home4tb/u6013631/Dropbox/Documents/School/edgar_shortcourse/LDA/lda_paragraph_T-25_P-10_asymmetric.model.state', 'separately': 'None', 'sep_limit': 10485760, 'ignore': frozenset(), 'datetime': '2022-02-03T14:09:26.997871', 'gensim': '4.0.1', 'python': '3.7.12 | packaged by conda-forge | (default, Oct 26 2021, 06:08:53) \\n[GCC 9.4.0]', 'platform': 'Linux-5.4.0-80-generic-x86_64-with-debian-bullseye-sid', 'event': 'saving'}\n",
      "INFO::saved /home4tb/u6013631/Dropbox/Documents/School/edgar_shortcourse/LDA/lda_paragraph_T-25_P-10_asymmetric.model.state\n",
      "INFO::LdaMulticore lifecycle event {'fname_or_handle': '/home4tb/u6013631/Dropbox/Documents/School/edgar_shortcourse/LDA/lda_paragraph_T-25_P-10_asymmetric.model', 'separately': \"['expElogbeta', 'sstats']\", 'sep_limit': 10485760, 'ignore': ['dispatcher', 'state', 'id2word'], 'datetime': '2022-02-03T14:09:27.012844', 'gensim': '4.0.1', 'python': '3.7.12 | packaged by conda-forge | (default, Oct 26 2021, 06:08:53) \\n[GCC 9.4.0]', 'platform': 'Linux-5.4.0-80-generic-x86_64-with-debian-bullseye-sid', 'event': 'saving'}\n",
      "INFO::storing np array 'expElogbeta' to /home4tb/u6013631/Dropbox/Documents/School/edgar_shortcourse/LDA/lda_paragraph_T-25_P-10_asymmetric.model.expElogbeta.npy\n",
      "INFO::not storing attribute dispatcher\n",
      "INFO::not storing attribute state\n",
      "INFO::not storing attribute id2word\n",
      "INFO::saved /home4tb/u6013631/Dropbox/Documents/School/edgar_shortcourse/LDA/lda_paragraph_T-25_P-10_asymmetric.model\n"
     ]
    },
    {
     "name": "stdout",
     "output_type": "stream",
     "text": [
      "Done with /home4tb/u6013631/Dropbox/Documents/School/edgar_shortcourse/LDA/lda_paragraph_T-25_P-10_asymmetric.model\n"
     ]
    }
   ],
   "source": [
    "TOPICS = 25\n",
    "PASSES = 10\n",
    "ALPHA = 'asymmetric'\n",
    "\n",
    "fn_ldam = GET_MODEL(f\"lda_paragraph_T-{TOPICS}_P-{PASSES}_{ALPHA}.model\")\n",
    "\n",
    "ldam = gensim.models.LdaMulticore(\n",
    "    id2word=dictionary, \n",
    "    num_topics=TOPICS,\n",
    "    alpha=ALPHA,\n",
    "    passes=PASSES,\n",
    "    workers=20,\n",
    ")\n",
    "ldam.update(TFIDF_CORPUS)\n",
    "ldam.save(fn_ldam)\n",
    "print(f\"Done with {fn_ldam}\")"
   ]
  },
  {
   "cell_type": "markdown",
   "metadata": {},
   "source": [
    "## Test LDA"
   ]
  },
  {
   "cell_type": "code",
   "execution_count": 143,
   "metadata": {
    "ExecuteTime": {
     "end_time": "2022-02-03T21:17:12.859783Z",
     "start_time": "2022-02-03T21:17:12.840109Z"
    }
   },
   "outputs": [
    {
     "name": "stdout",
     "output_type": "stream",
     "text": [
      "topic 0: interest,rates,rate,pension,credit,value,ratings,securities,investment,investments,risk,rating,assets,cash,income,hedging,portfolio,company\n",
      "topic 1: acquisitions,acquired,acquisition,businesses,risks,strategic,integration,joint,integrate,growth,benefits,strategy,successfully,acquire,anticipated,integrating,investments,company\n",
      "topic 2: directors,partner,agreement,interests,officers,partnership,affiliates,conflicts,interest,general,company,charter,units,properties,hotel,mr,board,trust\n",
      "topic 3: suppliers,materials,raw,supply,components,customers,demand,prices,manufacturing,production,manufacturers,fuel,increases,sales,inventory,cost,product,equipment\n",
      "topic 4: gas,oil,natural,reserves,drilling,production,exploration,properties,prices,crude,wells,pipeline,projects,pipelines,energy,construction,development,estimates\n",
      "topic 5: tax,patent,income,patents,intellectual,property,rights,reit,proprietary,taxable,protect,dividends,taxes,trade,secrets,federal,protection,applications\n",
      "topic 6: clinical,product,candidates,trials,fda,approval,regulatory,development,drug,marketing,trial,commercialization,manufacturing,approved,research,candidate,patients,studies\n",
      "topic 7: risks,factors,uncertainties,risk,services,described,carefully,following,customers,technology,consider,information,technological,technologies,item,report,software,customer\n",
      "topic 8: bank,investment,deposits,deposit,fdic,institutions,banking,funds,federal,insurance,banks,act,capital,regulatory,company,loans,reserve,fees\n",
      "topic 9: insurance,healthcare,coverage,reimbursement,care,health,medicare,penny,claims,medicaid,liability,payors,medical,programs,services,partner,third-party,hospitals\n",
      "topic 10: stock,common,shares,price,securities,trading,analysts,warrants,class,preferred,public,fluctuations,stockholders,volume,volatile,share,equity,volatility\n",
      "topic 11: loans,economic,real,loan,estate,conditions,credit,markets,mortgage,rates,portfolio,losses,economy,properties,interest,consumer,global,spending\n",
      "topic 12: government,contracts,forum,contract,satellite,satellites,united,states,court,federal,courts,defense,officers,bermuda,judgments,agencies,action,funding\n",
      "topic 13: personnel,key,retain,employees,qualified,attract,management,executive,senior,growth,success,team,manage,chief,officer,skilled,officers,hire\n",
      "topic 14: reporting,statements,internal,accounting,controls,report,impairment,goodwill,forward-looking,factors,act,sarbanes-oxley,public,item,company,risk,intangible,control\n",
      "topic 15: regulations,laws,state,federal,regulation,government,comply,compliance,regulatory,penalties,changes,legislation,requirements,local,states,act,governmental,fines\n",
      "topic 16: environmental,hazardous,laws,regulations,materials,substances,contamination,disposal,safety,liabilities,liability,water,properties,remediation,injury,waste,property,state\n",
      "topic 17: customers,revenue,sales,revenues,losses,quarter,net,contracts,customer,million,year,ended,fiscal,profitability,distributors,orders,quarterly,december\n",
      "topic 18: debt,indebtedness,capital,credit,financing,dividends,cash,covenants,facility,notes,funds,senior,terms,interest,raise,subsidiaries,pay,obligations\n",
      "topic 19: prc,currency,foreign,restaurants,exchange,currencies,dollar,restaurant,dollars,bankruptcy,china,food,fluctuations,denominated,chinese,orphan,rmb,subsidiaries\n",
      "topic 20: competitors,competition,compete,competitive,greater,services,companies,industry,resources,stores,larger,customers,pricing,highly,markets,retail,margins,consolidation\n",
      "topic 21: information,systems,security,data,international,foreign,breaches,computer,reputation,privacy,technology,risks,confidential,unauthorized,breach,laws,countries,damage\n",
      "topic 22: natural,disasters,events,facilities,weather,terrorist,disaster,terrorism,damage,labor,attacks,acts,insurance,disruption,interruption,catastrophic,disruptions,war\n",
      "topic 23: claims,litigation,liability,intellectual,property,proceedings,infringement,product,rights,insurance,license,damages,legal,claim,lawsuits,third,parties,licenses\n",
      "topic 24: directors,stockholders,board,stock,provisions,stockholder,incorporation,shares,voting,preferred,control,delaware,common,bylaws,certificate,change,discourage,approval\n"
     ]
    }
   ],
   "source": [
    "for i in range(TOPICS):\n",
    "    print(f\"topic {i}: {','.join([x[0] for x in ldam.show_topic(i, topn=18)])}\")\n",
    "\n",
    "    w = WordCloud(width=800, height=400, background_color=\"white\")\n",
    "    w = w.generate_from_frequencies(dict(ldam.show_topic(i, topn=100)))\n",
    "    w.to_file(GET_MODEL(f'{i:02d}.png'))"
   ]
  },
  {
   "cell_type": "code",
   "execution_count": 116,
   "metadata": {
    "ExecuteTime": {
     "end_time": "2022-02-03T21:06:59.557333Z",
     "start_time": "2022-02-03T21:06:59.546602Z"
    }
   },
   "outputs": [],
   "source": [
    "def riskfactor_to_topic(text):\n",
    "    return ldam[tfidf_model[dictionary.doc2bow(clean_text(text))]]"
   ]
  },
  {
   "cell_type": "code",
   "execution_count": 145,
   "metadata": {
    "ExecuteTime": {
     "end_time": "2022-02-03T21:20:36.250240Z",
     "start_time": "2022-02-03T21:18:30.848122Z"
    }
   },
   "outputs": [],
   "source": [
    "df_out = (\n",
    "    df_rf.loc[KEEP_ACCESSIONS, S('cik accession filedate header_number text')]\n",
    "    .head(100_000)\n",
    "    .assign(lda_topics = lambda x: x.text.apply(riskfactor_to_topic))\n",
    ")"
   ]
  },
  {
   "cell_type": "code",
   "execution_count": 146,
   "metadata": {
    "ExecuteTime": {
     "end_time": "2022-02-03T21:20:36.263730Z",
     "start_time": "2022-02-03T21:20:36.251963Z"
    }
   },
   "outputs": [
    {
     "data": {
      "text/html": [
       "<div>\n",
       "<style scoped>\n",
       "    .dataframe tbody tr th:only-of-type {\n",
       "        vertical-align: middle;\n",
       "    }\n",
       "\n",
       "    .dataframe tbody tr th {\n",
       "        vertical-align: top;\n",
       "    }\n",
       "\n",
       "    .dataframe thead th {\n",
       "        text-align: right;\n",
       "    }\n",
       "</style>\n",
       "<table border=\"1\" class=\"dataframe\">\n",
       "  <thead>\n",
       "    <tr style=\"text-align: right;\">\n",
       "      <th></th>\n",
       "      <th>cik</th>\n",
       "      <th>accession</th>\n",
       "      <th>filedate</th>\n",
       "      <th>header_number</th>\n",
       "      <th>text</th>\n",
       "      <th>lda_topics</th>\n",
       "    </tr>\n",
       "  </thead>\n",
       "  <tbody>\n",
       "    <tr>\n",
       "      <th>3</th>\n",
       "      <td>1088787</td>\n",
       "      <td>0001448788-09-000244</td>\n",
       "      <td>2010-01-04</td>\n",
       "      <td>2</td>\n",
       "      <td>RISK FACTORS\\nThe risk factors in this section...</td>\n",
       "      <td>[(0, 0.013342622), (1, 0.011112988), (7, 0.054...</td>\n",
       "    </tr>\n",
       "    <tr>\n",
       "      <th>6</th>\n",
       "      <td>1088787</td>\n",
       "      <td>0001448788-09-000244</td>\n",
       "      <td>2010-01-04</td>\n",
       "      <td>5</td>\n",
       "      <td>The metals industry is highly cyclical. Fluctu...</td>\n",
       "      <td>[(0, 0.0109783765), (3, 0.6416473), (11, 0.265...</td>\n",
       "    </tr>\n",
       "    <tr>\n",
       "      <th>7</th>\n",
       "      <td>1088787</td>\n",
       "      <td>0001448788-09-000244</td>\n",
       "      <td>2010-01-04</td>\n",
       "      <td>6</td>\n",
       "      <td>Changes in the prices of magnesium and, magnes...</td>\n",
       "      <td>[(0, 0.011579922), (3, 0.89852726)]</td>\n",
       "    </tr>\n",
       "    <tr>\n",
       "      <th>8</th>\n",
       "      <td>1088787</td>\n",
       "      <td>0001448788-09-000244</td>\n",
       "      <td>2010-01-04</td>\n",
       "      <td>7</td>\n",
       "      <td>If we fail to implement our acquisition strate...</td>\n",
       "      <td>[(0, 0.013554231), (1, 0.8840519)]</td>\n",
       "    </tr>\n",
       "    <tr>\n",
       "      <th>9</th>\n",
       "      <td>1088787</td>\n",
       "      <td>0001448788-09-000244</td>\n",
       "      <td>2010-01-04</td>\n",
       "      <td>8</td>\n",
       "      <td>Fluctuations in the cost or availability of el...</td>\n",
       "      <td>[(0, 0.013744055), (1, 0.011418013), (3, 0.693...</td>\n",
       "    </tr>\n",
       "  </tbody>\n",
       "</table>\n",
       "</div>"
      ],
      "text/plain": [
       "       cik             accession   filedate  header_number  \\\n",
       "3  1088787  0001448788-09-000244 2010-01-04              2   \n",
       "6  1088787  0001448788-09-000244 2010-01-04              5   \n",
       "7  1088787  0001448788-09-000244 2010-01-04              6   \n",
       "8  1088787  0001448788-09-000244 2010-01-04              7   \n",
       "9  1088787  0001448788-09-000244 2010-01-04              8   \n",
       "\n",
       "                                                text  \\\n",
       "3  RISK FACTORS\\nThe risk factors in this section...   \n",
       "6  The metals industry is highly cyclical. Fluctu...   \n",
       "7  Changes in the prices of magnesium and, magnes...   \n",
       "8  If we fail to implement our acquisition strate...   \n",
       "9  Fluctuations in the cost or availability of el...   \n",
       "\n",
       "                                          lda_topics  \n",
       "3  [(0, 0.013342622), (1, 0.011112988), (7, 0.054...  \n",
       "6  [(0, 0.0109783765), (3, 0.6416473), (11, 0.265...  \n",
       "7                [(0, 0.011579922), (3, 0.89852726)]  \n",
       "8                 [(0, 0.013554231), (1, 0.8840519)]  \n",
       "9  [(0, 0.013744055), (1, 0.011418013), (3, 0.693...  "
      ]
     },
     "execution_count": 146,
     "metadata": {},
     "output_type": "execute_result"
    }
   ],
   "source": [
    "df_out.head()"
   ]
  },
  {
   "cell_type": "code",
   "execution_count": 218,
   "metadata": {
    "ExecuteTime": {
     "end_time": "2022-02-03T22:51:37.373127Z",
     "start_time": "2022-02-03T22:51:37.367824Z"
    }
   },
   "outputs": [],
   "source": [
    "def agg_lda(lda_topics):\n",
    "    topic_loadings = [0 for _ in range(TOPICS)]\n",
    "    for topic_tuple in lda_topics:\n",
    "        for _topic, _loading in topic_tuple:\n",
    "            topic_loadings[_topic] += _loading\n",
    "    return [x/len(lda_topics) for x in topic_loadings]"
   ]
  },
  {
   "cell_type": "code",
   "execution_count": 219,
   "metadata": {
    "ExecuteTime": {
     "end_time": "2022-02-03T22:51:40.865287Z",
     "start_time": "2022-02-03T22:51:39.909514Z"
    }
   },
   "outputs": [],
   "source": [
    "df = (\n",
    "    df_out\n",
    "    .groupby('cik accession'.split())\n",
    "    .lda_topics.apply(agg_lda)\n",
    "    .reset_index()\n",
    "    .explode('lda_topics')\n",
    "    .assign(topic_num=lambda x: x.groupby('cik accession'.split()).cumcount())\n",
    "    .pivot('cik accession'.split(), 'topic_num', 'lda_topics')\n",
    "    .reset_index()\n",
    ")\n",
    "df.columns=['cik','accession', *(f\"topic_{i}\" for i in range(TOPICS))]\n",
    "df = df_data.merge(df)"
   ]
  },
  {
   "cell_type": "code",
   "execution_count": 220,
   "metadata": {
    "ExecuteTime": {
     "end_time": "2022-02-03T22:51:44.778493Z",
     "start_time": "2022-02-03T22:51:44.742645Z"
    }
   },
   "outputs": [
    {
     "data": {
      "text/html": [
       "<div>\n",
       "<style scoped>\n",
       "    .dataframe tbody tr th:only-of-type {\n",
       "        vertical-align: middle;\n",
       "    }\n",
       "\n",
       "    .dataframe tbody tr th {\n",
       "        vertical-align: top;\n",
       "    }\n",
       "\n",
       "    .dataframe thead th {\n",
       "        text-align: right;\n",
       "    }\n",
       "</style>\n",
       "<table border=\"1\" class=\"dataframe\">\n",
       "  <thead>\n",
       "    <tr style=\"text-align: right;\">\n",
       "      <th></th>\n",
       "      <th>gvkey</th>\n",
       "      <th>fyear</th>\n",
       "      <th>datadate</th>\n",
       "      <th>rdq</th>\n",
       "      <th>at</th>\n",
       "      <th>mve</th>\n",
       "      <th>ni</th>\n",
       "      <th>ebit</th>\n",
       "      <th>xrd</th>\n",
       "      <th>btm</th>\n",
       "      <th>lev_book</th>\n",
       "      <th>zscore_public</th>\n",
       "      <th>liquidity</th>\n",
       "      <th>tangibility</th>\n",
       "      <th>cik</th>\n",
       "      <th>accession</th>\n",
       "      <th>filedate</th>\n",
       "      <th>diff</th>\n",
       "      <th>topic_0</th>\n",
       "      <th>topic_1</th>\n",
       "      <th>topic_2</th>\n",
       "      <th>topic_3</th>\n",
       "      <th>topic_4</th>\n",
       "      <th>topic_5</th>\n",
       "      <th>topic_6</th>\n",
       "      <th>topic_7</th>\n",
       "      <th>topic_8</th>\n",
       "      <th>topic_9</th>\n",
       "      <th>topic_10</th>\n",
       "      <th>topic_11</th>\n",
       "      <th>topic_12</th>\n",
       "      <th>topic_13</th>\n",
       "      <th>topic_14</th>\n",
       "      <th>topic_15</th>\n",
       "      <th>topic_16</th>\n",
       "      <th>topic_17</th>\n",
       "      <th>topic_18</th>\n",
       "      <th>topic_19</th>\n",
       "      <th>topic_20</th>\n",
       "      <th>topic_21</th>\n",
       "      <th>topic_22</th>\n",
       "      <th>topic_23</th>\n",
       "      <th>topic_24</th>\n",
       "    </tr>\n",
       "  </thead>\n",
       "  <tbody>\n",
       "    <tr>\n",
       "      <th>0</th>\n",
       "      <td>6314</td>\n",
       "      <td>2009</td>\n",
       "      <td>2009-12-31</td>\n",
       "      <td>2010-03-15</td>\n",
       "      <td>204.236</td>\n",
       "      <td>308.741</td>\n",
       "      <td>21.555</td>\n",
       "      <td>29.880</td>\n",
       "      <td>1.871</td>\n",
       "      <td>0.508</td>\n",
       "      <td>0.039</td>\n",
       "      <td>6.603</td>\n",
       "      <td>3.029</td>\n",
       "      <td>0.117</td>\n",
       "      <td>20</td>\n",
       "      <td>0000950123-10-024631</td>\n",
       "      <td>2010-03-15</td>\n",
       "      <td>74</td>\n",
       "      <td>0.018</td>\n",
       "      <td>0.119</td>\n",
       "      <td>0.077</td>\n",
       "      <td>0.055</td>\n",
       "      <td>0.025</td>\n",
       "      <td>0.012</td>\n",
       "      <td>0.001</td>\n",
       "      <td>0.076</td>\n",
       "      <td>0</td>\n",
       "      <td>0</td>\n",
       "      <td>0</td>\n",
       "      <td>0.097</td>\n",
       "      <td>0</td>\n",
       "      <td>0.054</td>\n",
       "      <td>0</td>\n",
       "      <td>0.063</td>\n",
       "      <td>0</td>\n",
       "      <td>0.032</td>\n",
       "      <td>0.068</td>\n",
       "      <td>0.036</td>\n",
       "      <td>0.025</td>\n",
       "      <td>0.039</td>\n",
       "      <td>0.034</td>\n",
       "      <td>0.066</td>\n",
       "      <td>0.003</td>\n",
       "    </tr>\n",
       "    <tr>\n",
       "      <th>1</th>\n",
       "      <td>1078</td>\n",
       "      <td>2009</td>\n",
       "      <td>2009-12-31</td>\n",
       "      <td>2010-01-27</td>\n",
       "      <td>52416.623</td>\n",
       "      <td>83747.560</td>\n",
       "      <td>5745.838</td>\n",
       "      <td>6903.741</td>\n",
       "      <td>2913.733</td>\n",
       "      <td>0.273</td>\n",
       "      <td>0.315</td>\n",
       "      <td>3.455</td>\n",
       "      <td>1.787</td>\n",
       "      <td>0.145</td>\n",
       "      <td>1800</td>\n",
       "      <td>0001047469-10-001018</td>\n",
       "      <td>2010-02-19</td>\n",
       "      <td>50</td>\n",
       "      <td>0.064</td>\n",
       "      <td>0.072</td>\n",
       "      <td>0.007</td>\n",
       "      <td>0.041</td>\n",
       "      <td>0.003</td>\n",
       "      <td>0.051</td>\n",
       "      <td>0.232</td>\n",
       "      <td>0.065</td>\n",
       "      <td>0</td>\n",
       "      <td>0.080</td>\n",
       "      <td>0</td>\n",
       "      <td>0</td>\n",
       "      <td>0.042</td>\n",
       "      <td>0</td>\n",
       "      <td>0.058</td>\n",
       "      <td>0.034</td>\n",
       "      <td>0</td>\n",
       "      <td>0</td>\n",
       "      <td>0</td>\n",
       "      <td>0</td>\n",
       "      <td>0.034</td>\n",
       "      <td>0.063</td>\n",
       "      <td>0.010</td>\n",
       "      <td>0.052</td>\n",
       "      <td>0</td>\n",
       "    </tr>\n",
       "    <tr>\n",
       "      <th>2</th>\n",
       "      <td>1084</td>\n",
       "      <td>2009</td>\n",
       "      <td>2009-12-31</td>\n",
       "      <td>2010-04-15</td>\n",
       "      <td>0.004</td>\n",
       "      <td>4.830</td>\n",
       "      <td>-0.727</td>\n",
       "      <td>-0.722</td>\n",
       "      <td>0</td>\n",
       "      <td>-0.800</td>\n",
       "      <td>238.250</td>\n",
       "      <td>-10896.151</td>\n",
       "      <td>0</td>\n",
       "      <td>1</td>\n",
       "      <td>1961</td>\n",
       "      <td>0001264931-10-000136</td>\n",
       "      <td>2010-04-15</td>\n",
       "      <td>105</td>\n",
       "      <td>0.016</td>\n",
       "      <td>0.019</td>\n",
       "      <td>0.013</td>\n",
       "      <td>0.034</td>\n",
       "      <td>0.003</td>\n",
       "      <td>0.032</td>\n",
       "      <td>0.025</td>\n",
       "      <td>0.260</td>\n",
       "      <td>0</td>\n",
       "      <td>0.032</td>\n",
       "      <td>0.083</td>\n",
       "      <td>0</td>\n",
       "      <td>0</td>\n",
       "      <td>0.053</td>\n",
       "      <td>0.018</td>\n",
       "      <td>0.046</td>\n",
       "      <td>0</td>\n",
       "      <td>0.023</td>\n",
       "      <td>0.045</td>\n",
       "      <td>0</td>\n",
       "      <td>0.068</td>\n",
       "      <td>0.065</td>\n",
       "      <td>0</td>\n",
       "      <td>0.032</td>\n",
       "      <td>0.038</td>\n",
       "    </tr>\n",
       "    <tr>\n",
       "      <th>3</th>\n",
       "      <td>1104</td>\n",
       "      <td>2009</td>\n",
       "      <td>2009-12-31</td>\n",
       "      <td>2010-02-26</td>\n",
       "      <td>42.309</td>\n",
       "      <td>29.051</td>\n",
       "      <td>2.842</td>\n",
       "      <td>3.027</td>\n",
       "      <td>0.440</td>\n",
       "      <td>0.845</td>\n",
       "      <td>0.216</td>\n",
       "      <td>4.120</td>\n",
       "      <td>5.256</td>\n",
       "      <td>0.049</td>\n",
       "      <td>2098</td>\n",
       "      <td>0001026608-10-000024</td>\n",
       "      <td>2010-03-09</td>\n",
       "      <td>68</td>\n",
       "      <td>0.019</td>\n",
       "      <td>0.013</td>\n",
       "      <td>0.009</td>\n",
       "      <td>0.124</td>\n",
       "      <td>0.002</td>\n",
       "      <td>0.062</td>\n",
       "      <td>0.012</td>\n",
       "      <td>0.114</td>\n",
       "      <td>0</td>\n",
       "      <td>0.024</td>\n",
       "      <td>0</td>\n",
       "      <td>0.097</td>\n",
       "      <td>0</td>\n",
       "      <td>0.060</td>\n",
       "      <td>0</td>\n",
       "      <td>0</td>\n",
       "      <td>0.063</td>\n",
       "      <td>0.204</td>\n",
       "      <td>0.062</td>\n",
       "      <td>0</td>\n",
       "      <td>0</td>\n",
       "      <td>0</td>\n",
       "      <td>0</td>\n",
       "      <td>0.035</td>\n",
       "      <td>0</td>\n",
       "    </tr>\n",
       "    <tr>\n",
       "      <th>4</th>\n",
       "      <td>1161</td>\n",
       "      <td>2009</td>\n",
       "      <td>2009-12-31</td>\n",
       "      <td>2010-01-21</td>\n",
       "      <td>9078</td>\n",
       "      <td>6495.280</td>\n",
       "      <td>376</td>\n",
       "      <td>-513</td>\n",
       "      <td>1721</td>\n",
       "      <td>0.130</td>\n",
       "      <td>0.521</td>\n",
       "      <td>0.654</td>\n",
       "      <td>1.934</td>\n",
       "      <td>0.420</td>\n",
       "      <td>2488</td>\n",
       "      <td>0001193125-10-035218</td>\n",
       "      <td>2010-02-19</td>\n",
       "      <td>50</td>\n",
       "      <td>0.038</td>\n",
       "      <td>0.055</td>\n",
       "      <td>0.007</td>\n",
       "      <td>0.233</td>\n",
       "      <td>0.003</td>\n",
       "      <td>0.045</td>\n",
       "      <td>0.015</td>\n",
       "      <td>0.148</td>\n",
       "      <td>0</td>\n",
       "      <td>0</td>\n",
       "      <td>0.019</td>\n",
       "      <td>0.015</td>\n",
       "      <td>0</td>\n",
       "      <td>0.019</td>\n",
       "      <td>0.013</td>\n",
       "      <td>0.007</td>\n",
       "      <td>0.013</td>\n",
       "      <td>0.087</td>\n",
       "      <td>0.092</td>\n",
       "      <td>0.019</td>\n",
       "      <td>0.007</td>\n",
       "      <td>0.013</td>\n",
       "      <td>0.024</td>\n",
       "      <td>0.032</td>\n",
       "      <td>0</td>\n",
       "    </tr>\n",
       "  </tbody>\n",
       "</table>\n",
       "</div>"
      ],
      "text/plain": [
       "   gvkey  fyear   datadate        rdq        at       mve       ni     ebit  \\\n",
       "0   6314   2009 2009-12-31 2010-03-15   204.236   308.741   21.555   29.880   \n",
       "1   1078   2009 2009-12-31 2010-01-27 52416.623 83747.560 5745.838 6903.741   \n",
       "2   1084   2009 2009-12-31 2010-04-15     0.004     4.830   -0.727   -0.722   \n",
       "3   1104   2009 2009-12-31 2010-02-26    42.309    29.051    2.842    3.027   \n",
       "4   1161   2009 2009-12-31 2010-01-21      9078  6495.280      376     -513   \n",
       "\n",
       "       xrd    btm  lev_book  zscore_public  liquidity  tangibility   cik  \\\n",
       "0    1.871  0.508     0.039          6.603      3.029        0.117    20   \n",
       "1 2913.733  0.273     0.315          3.455      1.787        0.145  1800   \n",
       "2        0 -0.800   238.250     -10896.151          0            1  1961   \n",
       "3    0.440  0.845     0.216          4.120      5.256        0.049  2098   \n",
       "4     1721  0.130     0.521          0.654      1.934        0.420  2488   \n",
       "\n",
       "              accession   filedate  diff topic_0 topic_1 topic_2 topic_3  \\\n",
       "0  0000950123-10-024631 2010-03-15    74   0.018   0.119   0.077   0.055   \n",
       "1  0001047469-10-001018 2010-02-19    50   0.064   0.072   0.007   0.041   \n",
       "2  0001264931-10-000136 2010-04-15   105   0.016   0.019   0.013   0.034   \n",
       "3  0001026608-10-000024 2010-03-09    68   0.019   0.013   0.009   0.124   \n",
       "4  0001193125-10-035218 2010-02-19    50   0.038   0.055   0.007   0.233   \n",
       "\n",
       "  topic_4 topic_5 topic_6 topic_7 topic_8 topic_9 topic_10 topic_11 topic_12  \\\n",
       "0   0.025   0.012   0.001   0.076       0       0        0    0.097        0   \n",
       "1   0.003   0.051   0.232   0.065       0   0.080        0        0    0.042   \n",
       "2   0.003   0.032   0.025   0.260       0   0.032    0.083        0        0   \n",
       "3   0.002   0.062   0.012   0.114       0   0.024        0    0.097        0   \n",
       "4   0.003   0.045   0.015   0.148       0       0    0.019    0.015        0   \n",
       "\n",
       "  topic_13 topic_14 topic_15 topic_16 topic_17 topic_18 topic_19 topic_20  \\\n",
       "0    0.054        0    0.063        0    0.032    0.068    0.036    0.025   \n",
       "1        0    0.058    0.034        0        0        0        0    0.034   \n",
       "2    0.053    0.018    0.046        0    0.023    0.045        0    0.068   \n",
       "3    0.060        0        0    0.063    0.204    0.062        0        0   \n",
       "4    0.019    0.013    0.007    0.013    0.087    0.092    0.019    0.007   \n",
       "\n",
       "  topic_21 topic_22 topic_23 topic_24  \n",
       "0    0.039    0.034    0.066    0.003  \n",
       "1    0.063    0.010    0.052        0  \n",
       "2    0.065        0    0.032    0.038  \n",
       "3        0        0    0.035        0  \n",
       "4    0.013    0.024    0.032        0  "
      ]
     },
     "execution_count": 220,
     "metadata": {},
     "output_type": "execute_result"
    }
   ],
   "source": [
    "df.head()"
   ]
  },
  {
   "cell_type": "markdown",
   "metadata": {},
   "source": [
    "# Regressions"
   ]
  },
  {
   "cell_type": "code",
   "execution_count": 224,
   "metadata": {
    "ExecuteTime": {
     "end_time": "2022-02-03T22:52:38.096127Z",
     "start_time": "2022-02-03T22:52:38.092638Z"
    }
   },
   "outputs": [],
   "source": [
    "from statsmodels.formula import api as smf\n",
    "import statsmodels.api as sm\n",
    "from stargazer.stargazer import Stargazer"
   ]
  },
  {
   "cell_type": "code",
   "execution_count": 225,
   "metadata": {
    "ExecuteTime": {
     "end_time": "2022-02-03T22:52:38.322126Z",
     "start_time": "2022-02-03T22:52:38.275241Z"
    }
   },
   "outputs": [],
   "source": [
    "df_model = df.copy()\n",
    "for c in df_model.S(\"topic_*\"):\n",
    "    df_model[c] = df_model[c].astype(float)\n",
    "for c in 'ni xrd ebit'.split():\n",
    "    df_model[f'{c}_at'] = df[c] / df['at'].clip(lower=.001)"
   ]
  },
  {
   "cell_type": "code",
   "execution_count": 182,
   "metadata": {
    "ExecuteTime": {
     "end_time": "2022-02-03T21:46:01.016229Z",
     "start_time": "2022-02-03T21:46:00.993232Z"
    }
   },
   "outputs": [],
   "source": [
    "ols1 = smf.ols('topic_0 ~ ni_at + xrd_at + btm + lev_book + zscore_public + liquidity + tangibility', data=df_model).fit(vcov=\"robust\")"
   ]
  },
  {
   "cell_type": "code",
   "execution_count": 183,
   "metadata": {
    "ExecuteTime": {
     "end_time": "2022-02-03T21:46:04.658992Z",
     "start_time": "2022-02-03T21:46:04.611333Z"
    }
   },
   "outputs": [
    {
     "name": "stdout",
     "output_type": "stream",
     "text": [
      "                  Results: Ordinary least squares\n",
      "===================================================================\n",
      "Model:              OLS              Adj. R-squared:     0.002     \n",
      "Dependent Variable: topic_0          AIC:                16653.2783\n",
      "Date:               2022-02-03 14:46 BIC:                16703.4138\n",
      "No. Observations:   3893             Log-Likelihood:     -8318.6   \n",
      "Df Model:           7                F-statistic:        2.253     \n",
      "Df Residuals:       3885             Prob (F-statistic): 0.0275    \n",
      "R-squared:          0.004            Scale:              4.2115    \n",
      "--------------------------------------------------------------------\n",
      "                  Coef.   Std.Err.     t     P>|t|    [0.025  0.975]\n",
      "--------------------------------------------------------------------\n",
      "Intercept         1.3132    0.0460  28.5372  0.0000   1.2230  1.4034\n",
      "ni_at             0.0003    0.0007   0.3929  0.6944  -0.0010  0.0015\n",
      "xrd_at           -0.0261    0.0149  -1.7469  0.0807  -0.0553  0.0032\n",
      "btm               0.0000    0.0000   0.5271  0.5981  -0.0001  0.0001\n",
      "lev_book         -0.0011    0.0020  -0.5421  0.5878  -0.0051  0.0029\n",
      "zscore_public     0.0000    0.0000   0.2445  0.8069  -0.0000  0.0001\n",
      "liquidity         0.0001    0.0001   1.7362  0.0826  -0.0000  0.0003\n",
      "tangibility       0.3611    0.1297   2.7848  0.0054   0.1069  0.6154\n",
      "-------------------------------------------------------------------\n",
      "Omnibus:            3494.347      Durbin-Watson:         1.527     \n",
      "Prob(Omnibus):      0.000         Jarque-Bera (JB):      115925.119\n",
      "Skew:               4.312         Prob(JB):              0.000     \n",
      "Kurtosis:           28.304        Condition No.:         6760      \n",
      "===================================================================\n",
      "* The condition number is large (7e+03). This might indicate\n",
      "strong multicollinearity or other numerical problems.\n"
     ]
    }
   ],
   "source": [
    "print(ols1.summary2())"
   ]
  },
  {
   "cell_type": "code",
   "execution_count": 233,
   "metadata": {
    "ExecuteTime": {
     "end_time": "2022-02-03T22:57:45.186760Z",
     "start_time": "2022-02-03T22:57:45.118502Z"
    }
   },
   "outputs": [],
   "source": [
    "ols2 = smf.ols('topic_0 ~ ni_at + xrd_at + btm + lev_book + zscore_public + liquidity + tangibility + C(fyear)',\n",
    "               data=df_model).fit(vcov=\"robust\")"
   ]
  },
  {
   "cell_type": "code",
   "execution_count": 234,
   "metadata": {
    "ExecuteTime": {
     "end_time": "2022-02-03T22:57:45.444322Z",
     "start_time": "2022-02-03T22:57:45.379534Z"
    }
   },
   "outputs": [
    {
     "name": "stdout",
     "output_type": "stream",
     "text": [
      "                  Results: Ordinary least squares\n",
      "====================================================================\n",
      "Model:              OLS              Adj. R-squared:     0.011      \n",
      "Dependent Variable: topic_0          AIC:                -10915.0554\n",
      "Date:               2022-02-03 15:57 BIC:                -10752.1151\n",
      "No. Observations:   3893             Log-Likelihood:     5483.5     \n",
      "Df Model:           25               F-statistic:        2.668      \n",
      "Df Residuals:       3867             Prob (F-statistic): 1.33e-05   \n",
      "R-squared:          0.017            Scale:              0.0035235  \n",
      "--------------------------------------------------------------------\n",
      "                       Coef.  Std.Err.    t    P>|t|   [0.025 0.975]\n",
      "--------------------------------------------------------------------\n",
      "Intercept              0.0445   0.0102  4.3569 0.0000  0.0245 0.0646\n",
      "C(fyear)[T.1992.0]     0.0002   0.0145  0.0130 0.9896 -0.0283 0.0286\n",
      "C(fyear)[T.1993.0]     0.0067   0.0145  0.4609 0.6449 -0.0218 0.0351\n",
      "C(fyear)[T.1994.0]     0.0103   0.0146  0.7066 0.4799 -0.0183 0.0390\n",
      "C(fyear)[T.1995.0]     0.0039   0.0140  0.2761 0.7825 -0.0236 0.0313\n",
      "C(fyear)[T.1996.0]     0.0017   0.0136  0.1279 0.8983 -0.0250 0.0285\n",
      "C(fyear)[T.1997.0]     0.0006   0.0134  0.0477 0.9619 -0.0256 0.0268\n",
      "C(fyear)[T.1998.0]     0.0024   0.0132  0.1818 0.8558 -0.0236 0.0284\n",
      "C(fyear)[T.1999.0]    -0.0019   0.0128 -0.1470 0.8832 -0.0270 0.0233\n",
      "C(fyear)[T.2000.0]    -0.0041   0.0125 -0.3243 0.7457 -0.0286 0.0205\n",
      "C(fyear)[T.2001.0]    -0.0060   0.0125 -0.4788 0.6321 -0.0304 0.0185\n",
      "C(fyear)[T.2002.0]    -0.0071   0.0124 -0.5716 0.5676 -0.0314 0.0172\n",
      "C(fyear)[T.2003.0]    -0.0091   0.0124 -0.7367 0.4613 -0.0334 0.0152\n",
      "C(fyear)[T.2004.0]    -0.0090   0.0123 -0.7304 0.4652 -0.0332 0.0152\n",
      "C(fyear)[T.2005.0]    -0.0048   0.0123 -0.3876 0.6984 -0.0289 0.0193\n",
      "C(fyear)[T.2006.0]    -0.0058   0.0121 -0.4784 0.6324 -0.0296 0.0180\n",
      "C(fyear)[T.2007.0]    -0.0061   0.0119 -0.5090 0.6108 -0.0295 0.0173\n",
      "C(fyear)[T.2008.0]    -0.0013   0.0114 -0.1141 0.9091 -0.0237 0.0211\n",
      "C(fyear)[T.2009.0]     0.0043   0.0102  0.4233 0.6721 -0.0157 0.0244\n",
      "ni_at                  0.0000   0.0000  0.6047 0.5454 -0.0000 0.0000\n",
      "xrd_at                -0.0007   0.0004 -1.5042 0.1326 -0.0015 0.0002\n",
      "btm                    0.0000   0.0000  0.7321 0.4642 -0.0000 0.0000\n",
      "lev_book              -0.0000   0.0001 -0.7047 0.4811 -0.0002 0.0001\n",
      "zscore_public         -0.0000   0.0000 -0.4911 0.6234 -0.0000 0.0000\n",
      "liquidity              0.0000   0.0000  2.2597 0.0239  0.0000 0.0000\n",
      "tangibility            0.0232   0.0038  6.1824 0.0000  0.0158 0.0306\n",
      "--------------------------------------------------------------------\n",
      "Omnibus:              2594.001      Durbin-Watson:         1.516    \n",
      "Prob(Omnibus):        0.000         Jarque-Bera (JB):      33932.374\n",
      "Skew:                 3.064         Prob(JB):              0.000    \n",
      "Kurtosis:             16.101        Condition No.:         78652    \n",
      "====================================================================\n",
      "* The condition number is large (8e+04). This might indicate\n",
      "strong multicollinearity or other numerical problems.\n"
     ]
    }
   ],
   "source": [
    "print(ols2.summary2())"
   ]
  },
  {
   "cell_type": "code",
   "execution_count": 193,
   "metadata": {
    "ExecuteTime": {
     "end_time": "2022-02-03T21:49:27.727815Z",
     "start_time": "2022-02-03T21:49:27.713906Z"
    }
   },
   "outputs": [
    {
     "data": {
      "text/html": [
       "<table style=\"text-align:center\"><tr><td colspan=\"3\" style=\"border-bottom: 1px solid black\"></td></tr><tr><td style=\"text-align:left\"></td><td colspan=\"2\"><em>Dependent variable:topic_0</em></td></tr><tr><td style=\"text-align:left\"></td><tr><td></td><td colspan=\"1\">OLS</td><td colspan=\"1\">Year FE</td></tr><tr><td style=\"text-align:left\"></td><td>(1)</td><td>(2)</td></tr><tr><td colspan=\"3\" style=\"border-bottom: 1px solid black\"></td></tr>\n",
       "\n",
       "<tr><td style=\"text-align:left\">ni_at</td><td>0.000<sup></sup></td><td>0.000<sup></sup></td></tr>\n",
       "<tr><td style=\"text-align:left\"></td><td>(0.001)</td><td>(0.001)</td></tr>\n",
       "<tr><td style=\"text-align:left\">xrd_at</td><td>-0.026<sup>*</sup></td><td>-0.023<sup></sup></td></tr>\n",
       "<tr><td style=\"text-align:left\"></td><td>(0.015)</td><td>(0.015)</td></tr>\n",
       "<tr><td style=\"text-align:left\">btm</td><td>0.000<sup></sup></td><td>0.000<sup></sup></td></tr>\n",
       "<tr><td style=\"text-align:left\"></td><td>(0.000)</td><td>(0.000)</td></tr>\n",
       "<tr><td style=\"text-align:left\">lev_book</td><td>-0.001<sup></sup></td><td>-0.001<sup></sup></td></tr>\n",
       "<tr><td style=\"text-align:left\"></td><td>(0.002)</td><td>(0.002)</td></tr>\n",
       "<tr><td style=\"text-align:left\">zscore_public</td><td>0.000<sup></sup></td><td>0.000<sup></sup></td></tr>\n",
       "<tr><td style=\"text-align:left\"></td><td>(0.000)</td><td>(0.000)</td></tr>\n",
       "<tr><td style=\"text-align:left\">liquidity</td><td>0.000<sup>*</sup></td><td>0.000<sup>*</sup></td></tr>\n",
       "<tr><td style=\"text-align:left\"></td><td>(0.000)</td><td>(0.000)</td></tr>\n",
       "<tr><td style=\"text-align:left\">tangibility</td><td>0.361<sup>***</sup></td><td>0.359<sup>***</sup></td></tr>\n",
       "<tr><td style=\"text-align:left\"></td><td>(0.130)</td><td>(0.129)</td></tr>\n",
       "\n",
       "<td colspan=\"3\" style=\"border-bottom: 1px solid black\"></td></tr>\n",
       "<tr><td style=\"text-align: left\">Observations</td><td>3,893</td><td>3,893</td></tr><tr><td style=\"text-align: left\">R<sup>2</sup></td><td>0.004</td><td>0.015</td></tr><tr><td style=\"text-align: left\">Adjusted R<sup>2</sup></td><td>0.002</td><td>0.008</td></tr><tr><td style=\"text-align: left\">Residual Std. Error</td><td>2.052 (df=3885)</td><td>2.046 (df=3867)</td></tr><tr><td style=\"text-align: left\">F Statistic</td><td>2.253<sup>**</sup> (df=7; 3885)</td><td>2.280<sup>***</sup> (df=25; 3867)</td></tr>\n",
       "<tr><td colspan=\"3\" style=\"border-bottom: 1px solid black\"></td></tr><tr><td style=\"text-align: left\">Note:</td>\n",
       " <td colspan=\"2\" style=\"text-align: right\">\n",
       "  <sup>*</sup>p&lt;0.1;\n",
       "  <sup>**</sup>p&lt;0.05;\n",
       "  <sup>***</sup>p&lt;0.01\n",
       " </td></tr></table>"
      ],
      "text/plain": [
       "<stargazer.stargazer.Stargazer at 0x7fd195a93b10>"
      ]
     },
     "execution_count": 193,
     "metadata": {},
     "output_type": "execute_result"
    }
   ],
   "source": [
    "s = Stargazer([ols1, ols2])\n",
    "s.covariate_order('ni_at + xrd_at + btm + lev_book + zscore_public + liquidity + tangibility'.split(' + '))\n",
    "s.custom_columns([\"OLS\", \"Year FE\"], [1, 1])\n",
    "s"
   ]
  },
  {
   "cell_type": "markdown",
   "metadata": {},
   "source": [
    "# Plotting"
   ]
  },
  {
   "cell_type": "code",
   "execution_count": 226,
   "metadata": {
    "ExecuteTime": {
     "end_time": "2022-02-03T22:52:55.325958Z",
     "start_time": "2022-02-03T22:52:44.283319Z"
    }
   },
   "outputs": [
    {
     "data": {
      "text/plain": [
       "Text(0.5, 0, 'Fiscal Year')"
      ]
     },
     "execution_count": 226,
     "metadata": {},
     "output_type": "execute_result"
    },
    {
     "data": {
      "image/png": "[encoded data removed]",
      "text/plain": [
       "<Figure size 1080x576 with 1 Axes>"
      ]
     },
     "metadata": {},
     "output_type": "display_data"
    }
   ],
   "source": [
    "sns.set_theme(style='whitegrid')\n",
    "fig = plt.figure(figsize=(15, 8))\n",
    "ax = fig.gca()\n",
    "\n",
    "for i in range(TOPICS):\n",
    "    sns.lineplot(x='fyear', y=f'topic_{i}', data=df_model, ax=ax, label=f\"Topic {i}\")\n",
    "\n",
    "plt.legend(loc='lower center', ncol=5, bbox_to_anchor=(.5, -.3))\n",
    "ax.set_xticks(range(int(df_model.fyear.min()), int(df_model.fyear.max()), 2))\n",
    "ax.set_ylabel(\"Average Topic Loading\")\n",
    "ax.set_xlabel(\"Fiscal Year\")"
   ]
  },
  {
   "cell_type": "code",
   "execution_count": 235,
   "metadata": {
    "ExecuteTime": {
     "end_time": "2022-02-03T22:59:25.704843Z",
     "start_time": "2022-02-03T22:59:25.674463Z"
    }
   },
   "outputs": [
    {
     "data": {
      "text/html": [
       "<div>\n",
       "<style scoped>\n",
       "    .dataframe tbody tr th:only-of-type {\n",
       "        vertical-align: middle;\n",
       "    }\n",
       "\n",
       "    .dataframe tbody tr th {\n",
       "        vertical-align: top;\n",
       "    }\n",
       "\n",
       "    .dataframe thead th {\n",
       "        text-align: right;\n",
       "    }\n",
       "</style>\n",
       "<table border=\"1\" class=\"dataframe\">\n",
       "  <thead>\n",
       "    <tr style=\"text-align: right;\">\n",
       "      <th>fyear</th>\n",
       "      <th>1991</th>\n",
       "      <th>1992</th>\n",
       "      <th>1993</th>\n",
       "      <th>1994</th>\n",
       "      <th>1995</th>\n",
       "      <th>1996</th>\n",
       "      <th>1997</th>\n",
       "      <th>1998</th>\n",
       "      <th>1999</th>\n",
       "      <th>2000</th>\n",
       "      <th>2001</th>\n",
       "      <th>2002</th>\n",
       "      <th>2003</th>\n",
       "      <th>2004</th>\n",
       "      <th>2005</th>\n",
       "      <th>2006</th>\n",
       "      <th>2007</th>\n",
       "      <th>2008</th>\n",
       "      <th>2009</th>\n",
       "    </tr>\n",
       "  </thead>\n",
       "  <tbody>\n",
       "    <tr>\n",
       "      <th>topic_0</th>\n",
       "      <td>0.057</td>\n",
       "      <td>0.060</td>\n",
       "      <td>0.059</td>\n",
       "      <td>0.060</td>\n",
       "      <td>0.057</td>\n",
       "      <td>0.055</td>\n",
       "      <td>0.059</td>\n",
       "      <td>0.058</td>\n",
       "      <td>0.055</td>\n",
       "      <td>0.052</td>\n",
       "      <td>0.051</td>\n",
       "      <td>0.051</td>\n",
       "      <td>0.060</td>\n",
       "      <td>0.058</td>\n",
       "      <td>0.057</td>\n",
       "      <td>0.056</td>\n",
       "      <td>0.055</td>\n",
       "      <td>0.058</td>\n",
       "      <td>0.067</td>\n",
       "    </tr>\n",
       "    <tr>\n",
       "      <th>topic_1</th>\n",
       "      <td>0.052</td>\n",
       "      <td>0.053</td>\n",
       "      <td>0.052</td>\n",
       "      <td>0.052</td>\n",
       "      <td>0.063</td>\n",
       "      <td>0.060</td>\n",
       "      <td>0.059</td>\n",
       "      <td>0.052</td>\n",
       "      <td>0.054</td>\n",
       "      <td>0.057</td>\n",
       "      <td>0.056</td>\n",
       "      <td>0.056</td>\n",
       "      <td>0.055</td>\n",
       "      <td>0.055</td>\n",
       "      <td>0.056</td>\n",
       "      <td>0.054</td>\n",
       "      <td>0.051</td>\n",
       "      <td>0.051</td>\n",
       "      <td>0.055</td>\n",
       "    </tr>\n",
       "    <tr>\n",
       "      <th>topic_2</th>\n",
       "      <td>0.042</td>\n",
       "      <td>0.043</td>\n",
       "      <td>0.041</td>\n",
       "      <td>0.041</td>\n",
       "      <td>0.045</td>\n",
       "      <td>0.045</td>\n",
       "      <td>0.045</td>\n",
       "      <td>0.043</td>\n",
       "      <td>0.043</td>\n",
       "      <td>0.044</td>\n",
       "      <td>0.043</td>\n",
       "      <td>0.042</td>\n",
       "      <td>0.044</td>\n",
       "      <td>0.043</td>\n",
       "      <td>0.043</td>\n",
       "      <td>0.041</td>\n",
       "      <td>0.043</td>\n",
       "      <td>0.049</td>\n",
       "      <td>0.043</td>\n",
       "    </tr>\n",
       "    <tr>\n",
       "      <th>topic_3</th>\n",
       "      <td>0.077</td>\n",
       "      <td>0.076</td>\n",
       "      <td>0.074</td>\n",
       "      <td>0.071</td>\n",
       "      <td>0.066</td>\n",
       "      <td>0.067</td>\n",
       "      <td>0.068</td>\n",
       "      <td>0.065</td>\n",
       "      <td>0.064</td>\n",
       "      <td>0.061</td>\n",
       "      <td>0.061</td>\n",
       "      <td>0.060</td>\n",
       "      <td>0.060</td>\n",
       "      <td>0.060</td>\n",
       "      <td>0.058</td>\n",
       "      <td>0.060</td>\n",
       "      <td>0.066</td>\n",
       "      <td>0.068</td>\n",
       "      <td>0.077</td>\n",
       "    </tr>\n",
       "    <tr>\n",
       "      <th>topic_4</th>\n",
       "      <td>0.041</td>\n",
       "      <td>0.040</td>\n",
       "      <td>0.039</td>\n",
       "      <td>0.038</td>\n",
       "      <td>0.037</td>\n",
       "      <td>0.034</td>\n",
       "      <td>0.034</td>\n",
       "      <td>0.032</td>\n",
       "      <td>0.034</td>\n",
       "      <td>0.035</td>\n",
       "      <td>0.034</td>\n",
       "      <td>0.034</td>\n",
       "      <td>0.033</td>\n",
       "      <td>0.034</td>\n",
       "      <td>0.033</td>\n",
       "      <td>0.033</td>\n",
       "      <td>0.034</td>\n",
       "      <td>0.036</td>\n",
       "      <td>0.042</td>\n",
       "    </tr>\n",
       "    <tr>\n",
       "      <th>topic_5</th>\n",
       "      <td>0.033</td>\n",
       "      <td>0.033</td>\n",
       "      <td>0.033</td>\n",
       "      <td>0.034</td>\n",
       "      <td>0.033</td>\n",
       "      <td>0.034</td>\n",
       "      <td>0.037</td>\n",
       "      <td>0.038</td>\n",
       "      <td>0.036</td>\n",
       "      <td>0.037</td>\n",
       "      <td>0.036</td>\n",
       "      <td>0.036</td>\n",
       "      <td>0.035</td>\n",
       "      <td>0.034</td>\n",
       "      <td>0.034</td>\n",
       "      <td>0.035</td>\n",
       "      <td>0.033</td>\n",
       "      <td>0.035</td>\n",
       "      <td>0.038</td>\n",
       "    </tr>\n",
       "    <tr>\n",
       "      <th>topic_6</th>\n",
       "      <td>0.034</td>\n",
       "      <td>0.033</td>\n",
       "      <td>0.032</td>\n",
       "      <td>0.032</td>\n",
       "      <td>0.029</td>\n",
       "      <td>0.030</td>\n",
       "      <td>0.030</td>\n",
       "      <td>0.034</td>\n",
       "      <td>0.032</td>\n",
       "      <td>0.030</td>\n",
       "      <td>0.029</td>\n",
       "      <td>0.029</td>\n",
       "      <td>0.028</td>\n",
       "      <td>0.027</td>\n",
       "      <td>0.030</td>\n",
       "      <td>0.030</td>\n",
       "      <td>0.026</td>\n",
       "      <td>0.024</td>\n",
       "      <td>0.037</td>\n",
       "    </tr>\n",
       "    <tr>\n",
       "      <th>topic_7</th>\n",
       "      <td>0.050</td>\n",
       "      <td>0.049</td>\n",
       "      <td>0.048</td>\n",
       "      <td>0.048</td>\n",
       "      <td>0.048</td>\n",
       "      <td>0.051</td>\n",
       "      <td>0.049</td>\n",
       "      <td>0.051</td>\n",
       "      <td>0.051</td>\n",
       "      <td>0.058</td>\n",
       "      <td>0.057</td>\n",
       "      <td>0.061</td>\n",
       "      <td>0.060</td>\n",
       "      <td>0.063</td>\n",
       "      <td>0.064</td>\n",
       "      <td>0.067</td>\n",
       "      <td>0.060</td>\n",
       "      <td>0.058</td>\n",
       "      <td>0.055</td>\n",
       "    </tr>\n",
       "    <tr>\n",
       "      <th>topic_8</th>\n",
       "      <td>0.005</td>\n",
       "      <td>0.006</td>\n",
       "      <td>0.009</td>\n",
       "      <td>0.017</td>\n",
       "      <td>0.018</td>\n",
       "      <td>0.017</td>\n",
       "      <td>0.018</td>\n",
       "      <td>0.019</td>\n",
       "      <td>0.021</td>\n",
       "      <td>0.019</td>\n",
       "      <td>0.020</td>\n",
       "      <td>0.020</td>\n",
       "      <td>0.021</td>\n",
       "      <td>0.024</td>\n",
       "      <td>0.023</td>\n",
       "      <td>0.023</td>\n",
       "      <td>0.023</td>\n",
       "      <td>0.026</td>\n",
       "      <td>0.032</td>\n",
       "    </tr>\n",
       "    <tr>\n",
       "      <th>topic_9</th>\n",
       "      <td>0.019</td>\n",
       "      <td>0.020</td>\n",
       "      <td>0.018</td>\n",
       "      <td>0.022</td>\n",
       "      <td>0.021</td>\n",
       "      <td>0.022</td>\n",
       "      <td>0.021</td>\n",
       "      <td>0.020</td>\n",
       "      <td>0.020</td>\n",
       "      <td>0.020</td>\n",
       "      <td>0.020</td>\n",
       "      <td>0.019</td>\n",
       "      <td>0.019</td>\n",
       "      <td>0.018</td>\n",
       "      <td>0.018</td>\n",
       "      <td>0.022</td>\n",
       "      <td>0.022</td>\n",
       "      <td>0.020</td>\n",
       "      <td>0.024</td>\n",
       "    </tr>\n",
       "    <tr>\n",
       "      <th>topic_10</th>\n",
       "      <td>0.038</td>\n",
       "      <td>0.039</td>\n",
       "      <td>0.039</td>\n",
       "      <td>0.038</td>\n",
       "      <td>0.041</td>\n",
       "      <td>0.045</td>\n",
       "      <td>0.043</td>\n",
       "      <td>0.046</td>\n",
       "      <td>0.047</td>\n",
       "      <td>0.049</td>\n",
       "      <td>0.049</td>\n",
       "      <td>0.045</td>\n",
       "      <td>0.044</td>\n",
       "      <td>0.044</td>\n",
       "      <td>0.046</td>\n",
       "      <td>0.043</td>\n",
       "      <td>0.042</td>\n",
       "      <td>0.048</td>\n",
       "      <td>0.038</td>\n",
       "    </tr>\n",
       "    <tr>\n",
       "      <th>topic_11</th>\n",
       "      <td>0.049</td>\n",
       "      <td>0.049</td>\n",
       "      <td>0.051</td>\n",
       "      <td>0.051</td>\n",
       "      <td>0.049</td>\n",
       "      <td>0.046</td>\n",
       "      <td>0.046</td>\n",
       "      <td>0.056</td>\n",
       "      <td>0.054</td>\n",
       "      <td>0.050</td>\n",
       "      <td>0.049</td>\n",
       "      <td>0.047</td>\n",
       "      <td>0.048</td>\n",
       "      <td>0.049</td>\n",
       "      <td>0.047</td>\n",
       "      <td>0.046</td>\n",
       "      <td>0.048</td>\n",
       "      <td>0.049</td>\n",
       "      <td>0.058</td>\n",
       "    </tr>\n",
       "    <tr>\n",
       "      <th>topic_12</th>\n",
       "      <td>0.016</td>\n",
       "      <td>0.016</td>\n",
       "      <td>0.015</td>\n",
       "      <td>0.015</td>\n",
       "      <td>0.014</td>\n",
       "      <td>0.013</td>\n",
       "      <td>0.013</td>\n",
       "      <td>0.013</td>\n",
       "      <td>0.012</td>\n",
       "      <td>0.011</td>\n",
       "      <td>0.011</td>\n",
       "      <td>0.011</td>\n",
       "      <td>0.011</td>\n",
       "      <td>0.012</td>\n",
       "      <td>0.012</td>\n",
       "      <td>0.011</td>\n",
       "      <td>0.012</td>\n",
       "      <td>0.011</td>\n",
       "      <td>0.009</td>\n",
       "    </tr>\n",
       "    <tr>\n",
       "      <th>topic_13</th>\n",
       "      <td>0.031</td>\n",
       "      <td>0.031</td>\n",
       "      <td>0.030</td>\n",
       "      <td>0.029</td>\n",
       "      <td>0.030</td>\n",
       "      <td>0.031</td>\n",
       "      <td>0.029</td>\n",
       "      <td>0.027</td>\n",
       "      <td>0.034</td>\n",
       "      <td>0.035</td>\n",
       "      <td>0.035</td>\n",
       "      <td>0.034</td>\n",
       "      <td>0.033</td>\n",
       "      <td>0.032</td>\n",
       "      <td>0.032</td>\n",
       "      <td>0.031</td>\n",
       "      <td>0.031</td>\n",
       "      <td>0.031</td>\n",
       "      <td>0.031</td>\n",
       "    </tr>\n",
       "    <tr>\n",
       "      <th>topic_14</th>\n",
       "      <td>0.135</td>\n",
       "      <td>0.133</td>\n",
       "      <td>0.144</td>\n",
       "      <td>0.143</td>\n",
       "      <td>0.147</td>\n",
       "      <td>0.148</td>\n",
       "      <td>0.146</td>\n",
       "      <td>0.142</td>\n",
       "      <td>0.138</td>\n",
       "      <td>0.135</td>\n",
       "      <td>0.141</td>\n",
       "      <td>0.150</td>\n",
       "      <td>0.143</td>\n",
       "      <td>0.142</td>\n",
       "      <td>0.146</td>\n",
       "      <td>0.135</td>\n",
       "      <td>0.131</td>\n",
       "      <td>0.114</td>\n",
       "      <td>0.051</td>\n",
       "    </tr>\n",
       "    <tr>\n",
       "      <th>topic_15</th>\n",
       "      <td>0.021</td>\n",
       "      <td>0.021</td>\n",
       "      <td>0.020</td>\n",
       "      <td>0.021</td>\n",
       "      <td>0.020</td>\n",
       "      <td>0.019</td>\n",
       "      <td>0.020</td>\n",
       "      <td>0.023</td>\n",
       "      <td>0.023</td>\n",
       "      <td>0.022</td>\n",
       "      <td>0.023</td>\n",
       "      <td>0.024</td>\n",
       "      <td>0.024</td>\n",
       "      <td>0.023</td>\n",
       "      <td>0.022</td>\n",
       "      <td>0.027</td>\n",
       "      <td>0.030</td>\n",
       "      <td>0.030</td>\n",
       "      <td>0.033</td>\n",
       "    </tr>\n",
       "    <tr>\n",
       "      <th>topic_16</th>\n",
       "      <td>0.025</td>\n",
       "      <td>0.025</td>\n",
       "      <td>0.024</td>\n",
       "      <td>0.023</td>\n",
       "      <td>0.022</td>\n",
       "      <td>0.020</td>\n",
       "      <td>0.020</td>\n",
       "      <td>0.019</td>\n",
       "      <td>0.018</td>\n",
       "      <td>0.018</td>\n",
       "      <td>0.018</td>\n",
       "      <td>0.017</td>\n",
       "      <td>0.017</td>\n",
       "      <td>0.017</td>\n",
       "      <td>0.016</td>\n",
       "      <td>0.016</td>\n",
       "      <td>0.018</td>\n",
       "      <td>0.016</td>\n",
       "      <td>0.017</td>\n",
       "    </tr>\n",
       "    <tr>\n",
       "      <th>topic_17</th>\n",
       "      <td>0.048</td>\n",
       "      <td>0.048</td>\n",
       "      <td>0.045</td>\n",
       "      <td>0.044</td>\n",
       "      <td>0.042</td>\n",
       "      <td>0.042</td>\n",
       "      <td>0.042</td>\n",
       "      <td>0.042</td>\n",
       "      <td>0.041</td>\n",
       "      <td>0.043</td>\n",
       "      <td>0.042</td>\n",
       "      <td>0.041</td>\n",
       "      <td>0.040</td>\n",
       "      <td>0.039</td>\n",
       "      <td>0.038</td>\n",
       "      <td>0.038</td>\n",
       "      <td>0.037</td>\n",
       "      <td>0.036</td>\n",
       "      <td>0.035</td>\n",
       "    </tr>\n",
       "    <tr>\n",
       "      <th>topic_18</th>\n",
       "      <td>0.043</td>\n",
       "      <td>0.043</td>\n",
       "      <td>0.041</td>\n",
       "      <td>0.039</td>\n",
       "      <td>0.037</td>\n",
       "      <td>0.037</td>\n",
       "      <td>0.036</td>\n",
       "      <td>0.037</td>\n",
       "      <td>0.035</td>\n",
       "      <td>0.039</td>\n",
       "      <td>0.039</td>\n",
       "      <td>0.038</td>\n",
       "      <td>0.041</td>\n",
       "      <td>0.040</td>\n",
       "      <td>0.040</td>\n",
       "      <td>0.041</td>\n",
       "      <td>0.043</td>\n",
       "      <td>0.044</td>\n",
       "      <td>0.047</td>\n",
       "    </tr>\n",
       "    <tr>\n",
       "      <th>topic_19</th>\n",
       "      <td>0.008</td>\n",
       "      <td>0.008</td>\n",
       "      <td>0.008</td>\n",
       "      <td>0.009</td>\n",
       "      <td>0.009</td>\n",
       "      <td>0.009</td>\n",
       "      <td>0.008</td>\n",
       "      <td>0.009</td>\n",
       "      <td>0.009</td>\n",
       "      <td>0.009</td>\n",
       "      <td>0.012</td>\n",
       "      <td>0.013</td>\n",
       "      <td>0.013</td>\n",
       "      <td>0.013</td>\n",
       "      <td>0.012</td>\n",
       "      <td>0.013</td>\n",
       "      <td>0.015</td>\n",
       "      <td>0.016</td>\n",
       "      <td>0.015</td>\n",
       "    </tr>\n",
       "    <tr>\n",
       "      <th>topic_20</th>\n",
       "      <td>0.021</td>\n",
       "      <td>0.021</td>\n",
       "      <td>0.021</td>\n",
       "      <td>0.022</td>\n",
       "      <td>0.021</td>\n",
       "      <td>0.021</td>\n",
       "      <td>0.020</td>\n",
       "      <td>0.021</td>\n",
       "      <td>0.022</td>\n",
       "      <td>0.021</td>\n",
       "      <td>0.020</td>\n",
       "      <td>0.019</td>\n",
       "      <td>0.020</td>\n",
       "      <td>0.020</td>\n",
       "      <td>0.020</td>\n",
       "      <td>0.021</td>\n",
       "      <td>0.022</td>\n",
       "      <td>0.022</td>\n",
       "      <td>0.027</td>\n",
       "    </tr>\n",
       "    <tr>\n",
       "      <th>topic_21</th>\n",
       "      <td>0.008</td>\n",
       "      <td>0.008</td>\n",
       "      <td>0.009</td>\n",
       "      <td>0.009</td>\n",
       "      <td>0.009</td>\n",
       "      <td>0.009</td>\n",
       "      <td>0.010</td>\n",
       "      <td>0.010</td>\n",
       "      <td>0.011</td>\n",
       "      <td>0.010</td>\n",
       "      <td>0.010</td>\n",
       "      <td>0.010</td>\n",
       "      <td>0.010</td>\n",
       "      <td>0.011</td>\n",
       "      <td>0.011</td>\n",
       "      <td>0.012</td>\n",
       "      <td>0.013</td>\n",
       "      <td>0.013</td>\n",
       "      <td>0.018</td>\n",
       "    </tr>\n",
       "    <tr>\n",
       "      <th>topic_22</th>\n",
       "      <td>0.022</td>\n",
       "      <td>0.021</td>\n",
       "      <td>0.022</td>\n",
       "      <td>0.021</td>\n",
       "      <td>0.021</td>\n",
       "      <td>0.020</td>\n",
       "      <td>0.020</td>\n",
       "      <td>0.019</td>\n",
       "      <td>0.018</td>\n",
       "      <td>0.017</td>\n",
       "      <td>0.017</td>\n",
       "      <td>0.016</td>\n",
       "      <td>0.016</td>\n",
       "      <td>0.017</td>\n",
       "      <td>0.016</td>\n",
       "      <td>0.017</td>\n",
       "      <td>0.018</td>\n",
       "      <td>0.019</td>\n",
       "      <td>0.021</td>\n",
       "    </tr>\n",
       "    <tr>\n",
       "      <th>topic_23</th>\n",
       "      <td>0.016</td>\n",
       "      <td>0.015</td>\n",
       "      <td>0.015</td>\n",
       "      <td>0.015</td>\n",
       "      <td>0.014</td>\n",
       "      <td>0.015</td>\n",
       "      <td>0.016</td>\n",
       "      <td>0.016</td>\n",
       "      <td>0.016</td>\n",
       "      <td>0.017</td>\n",
       "      <td>0.017</td>\n",
       "      <td>0.017</td>\n",
       "      <td>0.016</td>\n",
       "      <td>0.016</td>\n",
       "      <td>0.016</td>\n",
       "      <td>0.017</td>\n",
       "      <td>0.017</td>\n",
       "      <td>0.016</td>\n",
       "      <td>0.019</td>\n",
       "    </tr>\n",
       "    <tr>\n",
       "      <th>topic_24</th>\n",
       "      <td>0.014</td>\n",
       "      <td>0.014</td>\n",
       "      <td>0.013</td>\n",
       "      <td>0.013</td>\n",
       "      <td>0.014</td>\n",
       "      <td>0.015</td>\n",
       "      <td>0.015</td>\n",
       "      <td>0.016</td>\n",
       "      <td>0.016</td>\n",
       "      <td>0.017</td>\n",
       "      <td>0.016</td>\n",
       "      <td>0.015</td>\n",
       "      <td>0.016</td>\n",
       "      <td>0.015</td>\n",
       "      <td>0.016</td>\n",
       "      <td>0.015</td>\n",
       "      <td>0.015</td>\n",
       "      <td>0.017</td>\n",
       "      <td>0.018</td>\n",
       "    </tr>\n",
       "  </tbody>\n",
       "</table>\n",
       "</div>"
      ],
      "text/plain": [
       "fyear     1991  1992  1993  1994  1995  1996  1997  1998  1999  2000  2001  \\\n",
       "topic_0  0.057 0.060 0.059 0.060 0.057 0.055 0.059 0.058 0.055 0.052 0.051   \n",
       "topic_1  0.052 0.053 0.052 0.052 0.063 0.060 0.059 0.052 0.054 0.057 0.056   \n",
       "topic_2  0.042 0.043 0.041 0.041 0.045 0.045 0.045 0.043 0.043 0.044 0.043   \n",
       "topic_3  0.077 0.076 0.074 0.071 0.066 0.067 0.068 0.065 0.064 0.061 0.061   \n",
       "topic_4  0.041 0.040 0.039 0.038 0.037 0.034 0.034 0.032 0.034 0.035 0.034   \n",
       "topic_5  0.033 0.033 0.033 0.034 0.033 0.034 0.037 0.038 0.036 0.037 0.036   \n",
       "topic_6  0.034 0.033 0.032 0.032 0.029 0.030 0.030 0.034 0.032 0.030 0.029   \n",
       "topic_7  0.050 0.049 0.048 0.048 0.048 0.051 0.049 0.051 0.051 0.058 0.057   \n",
       "topic_8  0.005 0.006 0.009 0.017 0.018 0.017 0.018 0.019 0.021 0.019 0.020   \n",
       "topic_9  0.019 0.020 0.018 0.022 0.021 0.022 0.021 0.020 0.020 0.020 0.020   \n",
       "topic_10 0.038 0.039 0.039 0.038 0.041 0.045 0.043 0.046 0.047 0.049 0.049   \n",
       "topic_11 0.049 0.049 0.051 0.051 0.049 0.046 0.046 0.056 0.054 0.050 0.049   \n",
       "topic_12 0.016 0.016 0.015 0.015 0.014 0.013 0.013 0.013 0.012 0.011 0.011   \n",
       "topic_13 0.031 0.031 0.030 0.029 0.030 0.031 0.029 0.027 0.034 0.035 0.035   \n",
       "topic_14 0.135 0.133 0.144 0.143 0.147 0.148 0.146 0.142 0.138 0.135 0.141   \n",
       "topic_15 0.021 0.021 0.020 0.021 0.020 0.019 0.020 0.023 0.023 0.022 0.023   \n",
       "topic_16 0.025 0.025 0.024 0.023 0.022 0.020 0.020 0.019 0.018 0.018 0.018   \n",
       "topic_17 0.048 0.048 0.045 0.044 0.042 0.042 0.042 0.042 0.041 0.043 0.042   \n",
       "topic_18 0.043 0.043 0.041 0.039 0.037 0.037 0.036 0.037 0.035 0.039 0.039   \n",
       "topic_19 0.008 0.008 0.008 0.009 0.009 0.009 0.008 0.009 0.009 0.009 0.012   \n",
       "topic_20 0.021 0.021 0.021 0.022 0.021 0.021 0.020 0.021 0.022 0.021 0.020   \n",
       "topic_21 0.008 0.008 0.009 0.009 0.009 0.009 0.010 0.010 0.011 0.010 0.010   \n",
       "topic_22 0.022 0.021 0.022 0.021 0.021 0.020 0.020 0.019 0.018 0.017 0.017   \n",
       "topic_23 0.016 0.015 0.015 0.015 0.014 0.015 0.016 0.016 0.016 0.017 0.017   \n",
       "topic_24 0.014 0.014 0.013 0.013 0.014 0.015 0.015 0.016 0.016 0.017 0.016   \n",
       "\n",
       "fyear     2002  2003  2004  2005  2006  2007  2008  2009  \n",
       "topic_0  0.051 0.060 0.058 0.057 0.056 0.055 0.058 0.067  \n",
       "topic_1  0.056 0.055 0.055 0.056 0.054 0.051 0.051 0.055  \n",
       "topic_2  0.042 0.044 0.043 0.043 0.041 0.043 0.049 0.043  \n",
       "topic_3  0.060 0.060 0.060 0.058 0.060 0.066 0.068 0.077  \n",
       "topic_4  0.034 0.033 0.034 0.033 0.033 0.034 0.036 0.042  \n",
       "topic_5  0.036 0.035 0.034 0.034 0.035 0.033 0.035 0.038  \n",
       "topic_6  0.029 0.028 0.027 0.030 0.030 0.026 0.024 0.037  \n",
       "topic_7  0.061 0.060 0.063 0.064 0.067 0.060 0.058 0.055  \n",
       "topic_8  0.020 0.021 0.024 0.023 0.023 0.023 0.026 0.032  \n",
       "topic_9  0.019 0.019 0.018 0.018 0.022 0.022 0.020 0.024  \n",
       "topic_10 0.045 0.044 0.044 0.046 0.043 0.042 0.048 0.038  \n",
       "topic_11 0.047 0.048 0.049 0.047 0.046 0.048 0.049 0.058  \n",
       "topic_12 0.011 0.011 0.012 0.012 0.011 0.012 0.011 0.009  \n",
       "topic_13 0.034 0.033 0.032 0.032 0.031 0.031 0.031 0.031  \n",
       "topic_14 0.150 0.143 0.142 0.146 0.135 0.131 0.114 0.051  \n",
       "topic_15 0.024 0.024 0.023 0.022 0.027 0.030 0.030 0.033  \n",
       "topic_16 0.017 0.017 0.017 0.016 0.016 0.018 0.016 0.017  \n",
       "topic_17 0.041 0.040 0.039 0.038 0.038 0.037 0.036 0.035  \n",
       "topic_18 0.038 0.041 0.040 0.040 0.041 0.043 0.044 0.047  \n",
       "topic_19 0.013 0.013 0.013 0.012 0.013 0.015 0.016 0.015  \n",
       "topic_20 0.019 0.020 0.020 0.020 0.021 0.022 0.022 0.027  \n",
       "topic_21 0.010 0.010 0.011 0.011 0.012 0.013 0.013 0.018  \n",
       "topic_22 0.016 0.016 0.017 0.016 0.017 0.018 0.019 0.021  \n",
       "topic_23 0.017 0.016 0.016 0.016 0.017 0.017 0.016 0.019  \n",
       "topic_24 0.015 0.016 0.015 0.016 0.015 0.015 0.017 0.018  "
      ]
     },
     "execution_count": 235,
     "metadata": {},
     "output_type": "execute_result"
    }
   ],
   "source": [
    "df_model.groupby('fyear')[df_model.S(\"topic*\")].mean().T"
   ]
  }
 ],
 "metadata": {
  "kernelspec": {
   "display_name": "Python 3 (ipykernel)",
   "language": "python",
   "name": "python3"
  },
  "language_info": {
   "codemirror_mode": {
    "name": "ipython",
    "version": 3
   },
   "file_extension": ".py",
   "mimetype": "text/x-python",
   "name": "python",
   "nbconvert_exporter": "python",
   "pygments_lexer": "ipython3",
   "version": "3.7.12"
  },
  "toc": {
   "base_numbering": 1,
   "nav_menu": {},
   "number_sections": true,
   "sideBar": true,
   "skip_h1_title": false,
   "title_cell": "Contents",
   "title_sidebar": "Contents",
   "toc_cell": true,
   "toc_position": {
    "height": "589.797px",
    "left": "1363.31px",
    "top": "135.797px",
    "width": "180.063px"
   },
   "toc_section_display": true,
   "toc_window_display": true
  }
 },
 "nbformat": 4,
 "nbformat_minor": 2
}
