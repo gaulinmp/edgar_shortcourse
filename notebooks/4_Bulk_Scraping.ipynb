{
 "cells": [
  {
   "cell_type": "markdown",
   "metadata": {
    "toc": true
   },
   "source": [
    "<h1>Contents<span class=\"tocSkip\"></span></h1>\n",
    "<div class=\"toc\"><ul class=\"toc-item\"><li><span><a href=\"#DataFrames\" data-toc-modified-id=\"DataFrames-1\"><span class=\"toc-item-num\">1&nbsp;&nbsp;</span>DataFrames</a></span></li><li><span><a href=\"#Loops-and-Looping\" data-toc-modified-id=\"Loops-and-Looping-2\"><span class=\"toc-item-num\">2&nbsp;&nbsp;</span>Loops and Looping</a></span><ul class=\"toc-item\"><li><span><a href=\"#Step-1:-Convert-HTML\" data-toc-modified-id=\"Step-1:-Convert-HTML-2.1\"><span class=\"toc-item-num\">2.1&nbsp;&nbsp;</span>Step 1: Convert HTML</a></span></li><li><span><a href=\"#Step-2:-Write-function-to-extract-data\" data-toc-modified-id=\"Step-2:-Write-function-to-extract-data-2.2\"><span class=\"toc-item-num\">2.2&nbsp;&nbsp;</span>Step 2: Write function to extract data</a></span></li></ul></li><li><span><a href=\"#Extra:-Parallelization\" data-toc-modified-id=\"Extra:-Parallelization-3\"><span class=\"toc-item-num\">3&nbsp;&nbsp;</span>Extra: Parallelization</a></span></li><li><span><a href=\"#Homework\" data-toc-modified-id=\"Homework-4\"><span class=\"toc-item-num\">4&nbsp;&nbsp;</span>Homework</a></span></li></ul></div>"
   ]
  },
  {
   "cell_type": "markdown",
   "metadata": {},
   "source": [
    "Hopefully you now understand the basics of extracting information from EDGAR filings.\n",
    "If you aren't an expert yet, don't worry that is to be expected.\n",
    "As someone who has spent almost a decade doing it, I don't think it ever gets much easier.\n",
    "\n",
    "The purpose of this last step is to take our small algorithm which extracts information from a filing, and loop over all the filings we might care about to extract the data from all of them.\n",
    "To do this, I use the following execution flow:\n",
    "\n",
    "  1. Get list of filings to be extracted into a pandas DataFrame.\n",
    "  1. Loop over all filings:\n",
    "     1. Call extract function on dataframe row\n",
    "     1. Format return data in dictionary, with unique identifier for that row (UID keys)\n",
    "     1. Add formatted return data to an aggregating list\n",
    "  1. Pass list of dictionary results to a DataFrame\n",
    "  1. Write DataFrame to disk.\n",
    "  \n",
    "It's pretty simple, so we're going to set up some convenience functions to automate most of it for us.\n",
    "The hard part is debugging our extraction function, the rest is just fun times."
   ]
  },
  {
   "cell_type": "markdown",
   "metadata": {},
   "source": [
    "# DataFrames"
   ]
  },
  {
   "cell_type": "markdown",
   "metadata": {},
   "source": [
    "Documentation: [https://pandas.pydata.org/pandas-docs/stable/reference/api/pandas.DataFrame.html](https://pandas.pydata.org/pandas-docs/stable/reference/api/pandas.DataFrame.html)\n",
    "\n",
    "Pandas is quickly becoming the standard go to library for data manipulation.\n",
    "It is basically an amazingly designed wrapper for numpy arrays, so all the numpy/scipy/scikitlearn tools work quite well with DataFrames.\n",
    "\n",
    "A DataFrame is just an excel spreadsheet, or a SAS dataset.\n",
    "You can have multiple DataFrames in memory as variables like we used with lists or dictionaries before.\n",
    "\n",
    "DataFrames have an index, and columns of data.\n",
    "The index can get tricky, so we'll mostly ignore it for now.\n",
    "\n",
    "If you remember, the indices that pyEDGAR returns are dataframes.\n",
    "So let's load one of those up and play with it.\n",
    "\n",
    "First, import pandas as `pd`, because that's what everyone does.\n",
    "[Seriously, everyone](https://github.com/search?q=import+pandas+as+pd&type=Code)."
   ]
  },
  {
   "cell_type": "code",
   "execution_count": null,
   "metadata": {},
   "outputs": [],
   "source": [
    "import pandas as pd"
   ]
  },
  {
   "cell_type": "markdown",
   "metadata": {},
   "source": [
    "Now, grab the index of all Proxy statements."
   ]
  },
  {
   "cell_type": "code",
   "execution_count": null,
   "metadata": {},
   "outputs": [],
   "source": [
    "from pyedgar import EDGARIndex\n",
    "idx = EDGARIndex()\n",
    "\n",
    "# Ignore the query part for now\n",
    "df = idx['DEF14A'].query('filedate.dt.year > 1995')"
   ]
  },
  {
   "cell_type": "markdown",
   "metadata": {},
   "source": [
    "Now, let's take a look at the DataFrame. \\\n",
    "Do this.\\\n",
    "A lot."
   ]
  },
  {
   "cell_type": "code",
   "execution_count": null,
   "metadata": {},
   "outputs": [],
   "source": [
    "df.head()"
   ]
  },
  {
   "cell_type": "markdown",
   "metadata": {},
   "source": [
    "`df.head(N)` and `df.tail(N)` show the first and last N rows.\n",
    "\n",
    "We can also do things like count non-missing (`.count()`), describe, and take means of the data:"
   ]
  },
  {
   "cell_type": "code",
   "execution_count": null,
   "metadata": {},
   "outputs": [],
   "source": [
    "df.count()"
   ]
  },
  {
   "cell_type": "code",
   "execution_count": null,
   "metadata": {},
   "outputs": [],
   "source": [
    "df.describe()"
   ]
  },
  {
   "cell_type": "markdown",
   "metadata": {},
   "source": [
    "Where'd the columns go?\n",
    "Well they are all strings or dates except CIK, so describe calculated the summary stats for all numeric variables, and ignored the rest."
   ]
  },
  {
   "cell_type": "code",
   "execution_count": null,
   "metadata": {},
   "outputs": [],
   "source": [
    "df.describe(include='all')"
   ]
  },
  {
   "cell_type": "markdown",
   "metadata": {},
   "source": [
    "Apparently ICAHN CARL has filed a lot of Proxys.\n",
    "Let's find out what that means by [slicing](https://pandas.pydata.org/pandas-docs/stable/user_guide/indexing.html)."
   ]
  },
  {
   "cell_type": "code",
   "execution_count": null,
   "metadata": {},
   "outputs": [],
   "source": [
    "# Make a selector, by using the special string functions, accessed by df.COLUMNAME.str.(<--hit tab)\n",
    "sel = df.name.str.contains('ICAHN\\s*CARL')\n",
    "sel.head()"
   ]
  },
  {
   "cell_type": "markdown",
   "metadata": {},
   "source": [
    "Selectors are a column of True/False values.\n",
    "They are used to select which rows you want to keep, where the True values are kept and False are discarded:"
   ]
  },
  {
   "cell_type": "code",
   "execution_count": null,
   "metadata": {},
   "outputs": [],
   "source": [
    "df[sel].head()"
   ]
  },
  {
   "cell_type": "markdown",
   "metadata": {},
   "source": [
    "Note that we called `.head()` on the `df[sel]`, which is because that passed back a DataFrame with only the rows we asked for.\n",
    "\n",
    "Usually, I don't make `sel` variables, I just pass the selector into `df[]` directly:"
   ]
  },
  {
   "cell_type": "code",
   "execution_count": null,
   "metadata": {},
   "outputs": [],
   "source": [
    "df[df.name.str.contains('ICAHN\\s*CARL')].head()"
   ]
  },
  {
   "cell_type": "markdown",
   "metadata": {},
   "source": [
    "If we just want some columns, we can pass in a name or list too:"
   ]
  },
  {
   "cell_type": "code",
   "execution_count": null,
   "metadata": {},
   "outputs": [],
   "source": [
    "df['cik']"
   ]
  },
  {
   "cell_type": "code",
   "execution_count": null,
   "metadata": {},
   "outputs": [],
   "source": [
    "df[['cik', 'accession']].head()"
   ]
  },
  {
   "cell_type": "markdown",
   "metadata": {},
   "source": [
    "I am too lazy to type brackets, so instead I use the handy split trick (note, only works if your column names don't have spaces):"
   ]
  },
  {
   "cell_type": "code",
   "execution_count": null,
   "metadata": {},
   "outputs": [],
   "source": [
    "'cik accession'.split() == ['cik', 'accession']"
   ]
  },
  {
   "cell_type": "code",
   "execution_count": null,
   "metadata": {},
   "outputs": [],
   "source": [
    "df['cik accession'.split()].head()"
   ]
  },
  {
   "cell_type": "markdown",
   "metadata": {},
   "source": [
    "Lastly, putting both row and column selecting together requires a little change, specifically the addition of `.loc`.\n",
    "Just memorize it, sorry."
   ]
  },
  {
   "cell_type": "code",
   "execution_count": null,
   "metadata": {},
   "outputs": [],
   "source": [
    "# .loc is always rows, columns\n",
    "df.loc[df.name.str.contains('ICAHN\\s*CARL'), 'cik accession name'.split()].head()"
   ]
  },
  {
   "cell_type": "markdown",
   "metadata": {},
   "source": [
    "Now because we're going to be playing with DataFrames a lot, I've written up some convenience functions.\n",
    "They are located in import.ipynb.\n",
    "\n",
    "This is at the top of every one of my notebooks:"
   ]
  },
  {
   "cell_type": "code",
   "execution_count": null,
   "metadata": {},
   "outputs": [],
   "source": [
    "%run imports.ipynb"
   ]
  },
  {
   "cell_type": "code",
   "execution_count": null,
   "metadata": {},
   "outputs": [],
   "source": [
    "df.C('*i*')"
   ]
  },
  {
   "cell_type": "markdown",
   "metadata": {},
   "source": [
    "This is convenient because a) you don't have to remember your imports, and b) it shows the version, so you can see if it changed as maybe a reason your notebook results may have changed.\n",
    "\n",
    "Included in this import file (which you can look through) are three functions that I use quite a bit.\n",
    "\n",
    "<br/>\n",
    "\n",
    "`linkhead` adds EDGAR links to your dataframe, so you can open them quickly.\n",
    " - `linkhead(df, n=5, title='', fields=None, cik='cik', accession='accession', return_df=False)`\n",
    "  \n",
    "<br/>\n",
    "\n",
    "`C` splits strings (C('cik accession') == 'cik accession'.split(), but if you pass in a DataFrame too, it will do column completion:\n",
    "  - `C(df, 'ci*') == 'cik'`\n",
    "  - `C(df, '*i*) == ['cik', 'filedate', 'accession']`\n",
    "  - And lastly, I've monkeypatched it onto pandas, so you can call `df.C('*i*')`\n",
    "\n",
    "<br/>\n",
    "\n",
    "`timehist` plots a histogram by year. Pretty simple.\n",
    "   - `timehist(dtseries_or_df, time_variable='year', y_tic_number=4, x_tic_skip=0, width=.9, ax=None, skip_retick=False, label=None)`\n",
    "  "
   ]
  },
  {
   "cell_type": "code",
   "execution_count": 63,
   "metadata": {},
   "outputs": [
    {
     "data": {
      "text/html": [
       "<table border=\"1\" class=\"dataframe\">\n",
       "  <thead>\n",
       "    <tr style=\"text-align: right;\">\n",
       "      <th>cik</th>\n",
       "      <th>name</th>\n",
       "      <th>form</th>\n",
       "      <th>filedate</th>\n",
       "      <th>accession</th>\n",
       "      <th>links</th>\n",
       "    </tr>\n",
       "  </thead>\n",
       "  <tbody>\n",
       "    <tr>\n",
       "      <td>20</td>\n",
       "      <td>K TRON INTERNATIONAL INC</td>\n",
       "      <td>DEF 14A</td>\n",
       "      <td>1996-03-28</td>\n",
       "      <td>0000893220-96-000499</td>\n",
       "      <td><a href='https://www.sec.gov/Archives/edgar/data/20/0000893220-96-000499-index.htm' target=_blank>Index</a> <a href='https://www.sec.gov/Archives/edgar/data/20/0000893220-96-000499.txt' target=_blank>Raw</a></td>\n",
       "    </tr>\n",
       "    <tr>\n",
       "      <td>20</td>\n",
       "      <td>K TRON INTERNATIONAL INC</td>\n",
       "      <td>DEF 14A</td>\n",
       "      <td>1997-03-20</td>\n",
       "      <td>0000893220-97-000578</td>\n",
       "      <td><a href='https://www.sec.gov/Archives/edgar/data/20/0000893220-97-000578-index.htm' target=_blank>Index</a> <a href='https://www.sec.gov/Archives/edgar/data/20/0000893220-97-000578.txt' target=_blank>Raw</a></td>\n",
       "    </tr>\n",
       "    <tr>\n",
       "      <td>20</td>\n",
       "      <td>K TRON INTERNATIONAL INC</td>\n",
       "      <td>PRE 14A</td>\n",
       "      <td>1998-03-10</td>\n",
       "      <td>0000893220-98-000530</td>\n",
       "      <td><a href='https://www.sec.gov/Archives/edgar/data/20/0000893220-98-000530-index.htm' target=_blank>Index</a> <a href='https://www.sec.gov/Archives/edgar/data/20/0000893220-98-000530.txt' target=_blank>Raw</a></td>\n",
       "    </tr>\n",
       "    <tr>\n",
       "      <td>20</td>\n",
       "      <td>K TRON INTERNATIONAL INC</td>\n",
       "      <td>DEF 14A</td>\n",
       "      <td>1998-03-23</td>\n",
       "      <td>0000893220-98-000579</td>\n",
       "      <td><a href='https://www.sec.gov/Archives/edgar/data/20/0000893220-98-000579-index.htm' target=_blank>Index</a> <a href='https://www.sec.gov/Archives/edgar/data/20/0000893220-98-000579.txt' target=_blank>Raw</a></td>\n",
       "    </tr>\n",
       "    <tr>\n",
       "      <td>20</td>\n",
       "      <td>K TRON INTERNATIONAL INC</td>\n",
       "      <td>DEF 14A</td>\n",
       "      <td>1999-03-30</td>\n",
       "      <td>0000893220-99-000383</td>\n",
       "      <td><a href='https://www.sec.gov/Archives/edgar/data/20/0000893220-99-000383-index.htm' target=_blank>Index</a> <a href='https://www.sec.gov/Archives/edgar/data/20/0000893220-99-000383.txt' target=_blank>Raw</a></td>\n",
       "    </tr>\n",
       "  </tbody>\n",
       "</table>"
      ]
     },
     "metadata": {},
     "output_type": "display_data"
    }
   ],
   "source": [
    "linkhead(df)"
   ]
  },
  {
   "cell_type": "code",
   "execution_count": 64,
   "metadata": {},
   "outputs": [
    {
     "data": {
      "text/plain": [
       "<matplotlib.axes._subplots.AxesSubplot at 0x7f4f5fff1990>"
      ]
     },
     "execution_count": 64,
     "metadata": {},
     "output_type": "execute_result"
    },
    {
     "data": {
      "image/png": "[encoded data removed]",
      "text/plain": [
       "<Figure size 936x144 with 1 Axes>"
      ]
     },
     "metadata": {},
     "output_type": "display_data"
    }
   ],
   "source": [
    "timehist(df.filedate)"
   ]
  },
  {
   "cell_type": "markdown",
   "metadata": {},
   "source": [
    "All of my data creation notebooks have those time-histogram plots all over them.\n",
    "It's a great way to quickly sanity check your sample."
   ]
  },
  {
   "cell_type": "code",
   "execution_count": 65,
   "metadata": {},
   "outputs": [
    {
     "data": {
      "image/png": "[encoded data removed]",
      "text/plain": [
       "<Figure size 936x144 with 1 Axes>"
      ]
     },
     "metadata": {},
     "output_type": "display_data"
    }
   ],
   "source": [
    "# Example: all 10-Qs, plotted.\n",
    "ax=timehist(idx['10-Q'].filedate)"
   ]
  },
  {
   "cell_type": "markdown",
   "metadata": {},
   "source": [
    "Did you know there was that great of a decline in filings over time?\n",
    "\n",
    "Now you do, because of one line of code."
   ]
  },
  {
   "cell_type": "code",
   "execution_count": 66,
   "metadata": {},
   "outputs": [
    {
     "name": "stdout",
     "output_type": "stream",
     "text": [
      "10-Ks and 10-Qs over time\n"
     ]
    },
    {
     "data": {
      "image/png": "[encoded data removed]",
      "text/plain": [
       "<Figure size 1080x432 with 1 Axes>"
      ]
     },
     "metadata": {},
     "output_type": "display_data"
    }
   ],
   "source": [
    "# Now let's overlay the 10-Ks\n",
    "ax = timehist(idx['10-Q'].filedate, label='10-Q', figsize=(15, 6))\n",
    "timehist(idx['10-K'].filedate, ax=ax, skip_retick=True, label='10-K')\n",
    "ax.legend(loc=0)\n",
    "print(\"10-Ks and 10-Qs over time\")"
   ]
  },
  {
   "cell_type": "markdown",
   "metadata": {},
   "source": [
    "But enough with the fun graphs, back to work.\n",
    "\n",
    "There's lots of pandas to get good at, the documentation is really top notch."
   ]
  },
  {
   "cell_type": "markdown",
   "metadata": {},
   "source": [
    "# Loops and Looping"
   ]
  },
  {
   "cell_type": "code",
   "execution_count": null,
   "metadata": {},
   "outputs": [],
   "source": [
    "# Import the filing\n",
    "from pyedgar import Filing"
   ]
  },
  {
   "cell_type": "markdown",
   "metadata": {},
   "source": [
    "We're going to take that DataFrame above, and loop over it.\n",
    "StackExchange has strong opinions about how looping over DataFrames is bad and slow, but we don't care."
   ]
  },
  {
   "cell_type": "code",
   "execution_count": null,
   "metadata": {},
   "outputs": [],
   "source": [
    "for index, row in df.iterrows():\n",
    "    print(index)\n",
    "    print(row)\n",
    "    break"
   ]
  },
  {
   "cell_type": "markdown",
   "metadata": {},
   "source": [
    "Yes, that's always how I start every loop of a DataFrame.\n",
    "That's because now I can do this:"
   ]
  },
  {
   "cell_type": "code",
   "execution_count": null,
   "metadata": {},
   "outputs": [],
   "source": [
    "def extract_from_row(row):\n",
    "    print(row)\n",
    "\n",
    "extract_from_row(row)"
   ]
  },
  {
   "cell_type": "markdown",
   "metadata": {},
   "source": [
    "Now we have a function where we will put our extraction code.\n",
    "So we would test all the filings like this:"
   ]
  },
  {
   "cell_type": "code",
   "execution_count": null,
   "metadata": {},
   "outputs": [],
   "source": [
    "return_list = []\n",
    "\n",
    "for index, row in df.iterrows():\n",
    "    try:\n",
    "        return_list.append(extract_from_row(row))\n",
    "    except:\n",
    "        # I know an except ALL is bad, but we want our code to not crash after 2 hours\n",
    "        logger.exception(\"Error on row %r\", row)\n",
    "        \n",
    "    # We don't actually have anything, so let's not run the whole loop\n",
    "    break"
   ]
  },
  {
   "cell_type": "markdown",
   "metadata": {},
   "source": [
    "Now to write the `extract_from_row` code, I find it easier to develop it in a cell, then copy it up into the function above."
   ]
  },
  {
   "cell_type": "code",
   "execution_count": null,
   "metadata": {},
   "outputs": [],
   "source": [
    "# def extract_from_row(row): # Swap these comments to make it a function\n",
    "if True:\n",
    "    filing = Filing(row.cik, row.accession)\n",
    "    try:\n",
    "        html = filing.documents[0]['full_text']\n",
    "    except FileNotFoundError:\n",
    "        # We could tell it to try again over HTTP:\n",
    "        #filing = Filing(row.cik, row.accession)\n",
    "        #filing._local_cache = False\n",
    "        #html = filing.documents[0]['full_text']\n",
    "        # but that's slow. For now, just ignore.\n",
    "        raise Exception(\"Replace this with `return None` in function\")\n",
    "\n",
    "    print(html[:500])"
   ]
  },
  {
   "cell_type": "markdown",
   "metadata": {},
   "source": [
    "Oh my, that's not HTML at all!\n",
    "Well at least on my pull, that was a plaintext filing.\n",
    "Oh EDGAR.\n",
    "\n",
    "So our goal is to write an `extract_from_row` function which gets the data we want.\n",
    "\n",
    "In this case, I'm going to just do some simple word-counts, but hopefully you can see how this could be any extracted information we might want."
   ]
  },
  {
   "cell_type": "markdown",
   "metadata": {},
   "source": [
    "## Step 1: Convert HTML"
   ]
  },
  {
   "cell_type": "markdown",
   "metadata": {},
   "source": [
    "Step 1 is convert HTML to plaintext.\n",
    "But how do we know if a filing is HTML?\n",
    "\n",
    "Let's find out!\n",
    "What I'm going to do is look through all the filings, and see how many tags exist in the first 10% of the document.\n",
    "I can't just look for any tag, because some plain-text filings have `<PAGE>` and `<TABLE>` tags.\n",
    "Realistically, in your own code just look for <p or <div tags, but this is a teaching opportunity."
   ]
  },
  {
   "cell_type": "code",
   "execution_count": null,
   "metadata": {},
   "outputs": [],
   "source": [
    "re_html_check = re.compile(r'<(?:p|div|tr|td|font|b)\\b', re.I)\n",
    "\n",
    "def extract_from_row(row, percent=10):\n",
    "    filing = Filing(row.cik, row.accession)\n",
    "    ret = {'cik': row.cik, 'accession': row.accession}\n",
    "    try:\n",
    "        html = filing.documents[0]['full_text']\n",
    "    except FileNotFoundError:\n",
    "        # Use some fancy dict functions for shorthand\n",
    "        return {**ret, 'error': 'File Not Found'}\n",
    "    \n",
    "    # Otherwise, we have the filing.\n",
    "    \n",
    "    ret['length'] = len(html)\n",
    "    ret['num_tags'] = len(re_html_check.findall(html, endpos=int(ret['length']/percent)))\n",
    "    \n",
    "    return ret\n",
    "\n",
    "extract_from_row(row)"
   ]
  },
  {
   "cell_type": "markdown",
   "metadata": {},
   "source": [
    "Cool, looks like that worked the first time &#128521;\n",
    "\n",
    "Let's copy that loop code from up above, but add TQDM to it, which tracks progress:"
   ]
  },
  {
   "cell_type": "code",
   "execution_count": null,
   "metadata": {},
   "outputs": [],
   "source": [
    "return_list = []\n",
    "\n",
    "for index, row in tqdm(df.iterrows(), total=len(df)):\n",
    "    try:\n",
    "        return_list.append(extract_from_row(row))\n",
    "    except:\n",
    "        # I know an except ALL is bad, but we want our code to not crash after 2 hours\n",
    "        logger.exception(\"Error on row %r\", row)"
   ]
  },
  {
   "cell_type": "markdown",
   "metadata": {},
   "source": [
    "Now we have our results, we can just throw it into a DataFrame:"
   ]
  },
  {
   "cell_type": "code",
   "execution_count": null,
   "metadata": {},
   "outputs": [],
   "source": [
    "dfout = pd.DataFrame(return_list)\n",
    "dfout.head()"
   ]
  },
  {
   "cell_type": "markdown",
   "metadata": {},
   "source": [
    "If we want to look by year, we can merge our original sample back in:"
   ]
  },
  {
   "cell_type": "code",
   "execution_count": null,
   "metadata": {},
   "outputs": [],
   "source": [
    "dfout = (pd.DataFrame(return_list)\n",
    "           .merge(df, how='outer'))\n",
    "dfout['year'] = dfout.filedate.dt.year\n",
    "dfout[dfout.error.isnull()].tail()"
   ]
  },
  {
   "cell_type": "markdown",
   "metadata": {},
   "source": [
    "What does that look like by year?"
   ]
  },
  {
   "cell_type": "code",
   "execution_count": null,
   "metadata": {},
   "outputs": [],
   "source": [
    "dfout.groupby('year').num_tags.mean().to_frame()"
   ]
  },
  {
   "cell_type": "markdown",
   "metadata": {},
   "source": [
    "Let's look at that by 0s and non-0s:"
   ]
  },
  {
   "cell_type": "code",
   "execution_count": null,
   "metadata": {},
   "outputs": [],
   "source": [
    "(pd.crosstab(dfout.year, dfout.num_tags > 0)\n",
    "   .assign(mean=dfout[dfout.num_tags>0].groupby('year').num_tags.mean()))"
   ]
  },
  {
   "cell_type": "markdown",
   "metadata": {},
   "source": [
    "Looks like 100 might be a good cutoff.\n",
    "Let's use that.\n",
    "\n",
    "Let's write a function that takes in a filing, and returns the plaintext of its first document."
   ]
  },
  {
   "cell_type": "code",
   "execution_count": null,
   "metadata": {},
   "outputs": [],
   "source": [
    "from bs4 import BeautifulSoup\n",
    "\n",
    "def get_text(filing, re_html_check=re.compile(r'<(?:p|div|tr|td|font|b)\\b', re.I)):\n",
    "    # Don't catch FileNotFound error here, let the caller catch it\n",
    "    html = filing.documents[0]['full_text']\n",
    "    \n",
    "    num_tags = len(re_html_check.findall(html, endpos=int(len(html)/10)))\n",
    "    \n",
    "    if num_tags > 100:\n",
    "        return BeautifulSoup(html, 'lxml').get_text()\n",
    "    \n",
    "    return html"
   ]
  },
  {
   "cell_type": "code",
   "execution_count": null,
   "metadata": {},
   "outputs": [],
   "source": [
    "print(get_text(Filing(row.cik, row.accession))[:500])"
   ]
  },
  {
   "cell_type": "markdown",
   "metadata": {},
   "source": [
    "## Step 2: Write function to extract data"
   ]
  },
  {
   "cell_type": "markdown",
   "metadata": {},
   "source": [
    "Okay, so now we can convert any document to plaintext.\n",
    "\n",
    "Let's just extract word-counts, because this is more about the looping and analysis than the fancy extraction."
   ]
  },
  {
   "cell_type": "code",
   "execution_count": null,
   "metadata": {},
   "outputs": [],
   "source": [
    "# Using the word finder from last homework\n",
    "re_word_finder = re.compile(\n",
    "    r'\\b'                  # word-boundry, so match beginning or ends of words\n",
    "    r\"(?:[^\\W\\d_]|[-'’])+\" # Add ’, which is not just single quote, but single end quote\n",
    "    r'\\b'                  # ending word-boundry\n",
    "    , re.IGNORECASE\n",
    ")"
   ]
  },
  {
   "cell_type": "code",
   "execution_count": null,
   "metadata": {},
   "outputs": [],
   "source": [
    "def extract_from_row(row):\n",
    "    filing = Filing(row.cik, row.accession)\n",
    "    ret = {'cik': row.cik, 'accession': row.accession}\n",
    "    try:\n",
    "        text = get_text(filing)\n",
    "    except FileNotFoundError:\n",
    "        # Use some fancy dict functions for shorthand\n",
    "        return {**ret, 'error': 'File Not Found'}\n",
    "    \n",
    "    # Otherwise, we have the filing.\n",
    "    ret['num_words'] = len(re_word_finder.findall(text))\n",
    "    \n",
    "    return ret"
   ]
  },
  {
   "cell_type": "code",
   "execution_count": null,
   "metadata": {},
   "outputs": [],
   "source": [
    "return_list = []\n",
    "\n",
    "for index, row in tqdm(df.iterrows(), total=len(df)):\n",
    "    try:\n",
    "        return_list.append(extract_from_row(row))\n",
    "    except:\n",
    "        # I know an except ALL is bad, but we want our code to not crash after 2 hours\n",
    "        logger.exception(\"Error on row %r\", row)"
   ]
  },
  {
   "cell_type": "markdown",
   "metadata": {},
   "source": [
    "That was easy, wasn't it?\n",
    "\n",
    "Oh the delight of copy/paste.\n",
    "The annoying thing is how long it's going to take, that's a problem we can solve slightly with better hardware, and parallelization.\n",
    "\n",
    "This is beyond the scope of what I want to cover, but I've provided a parallel version below.\n",
    "\n",
    "If you want to stop the above, click the black square up above."
   ]
  },
  {
   "cell_type": "code",
   "execution_count": null,
   "metadata": {},
   "outputs": [],
   "source": [
    "dfwc = pd.DataFrame(return_list)"
   ]
  },
  {
   "cell_type": "code",
   "execution_count": null,
   "metadata": {},
   "outputs": [],
   "source": [
    "dfwc.head()"
   ]
  },
  {
   "cell_type": "markdown",
   "metadata": {},
   "source": [
    "# Extra: Parallelization"
   ]
  },
  {
   "cell_type": "code",
   "execution_count": null,
   "metadata": {},
   "outputs": [],
   "source": [
    "%run imports.ipynb\n",
    "\n",
    "from pyedgar import Filing\n",
    "\n",
    "from time import sleep\n",
    "\n",
    "from ipywidgets import Output, IntProgress, HTML as wHTML"
   ]
  },
  {
   "cell_type": "code",
   "execution_count": null,
   "metadata": {},
   "outputs": [],
   "source": [
    "import ipyparallel as ipp\n",
    "IP_client = ipp.Client()\n",
    "print(IP_client.ids)\n",
    "IP_view = IP_client.load_balanced_view()"
   ]
  },
  {
   "cell_type": "markdown",
   "metadata": {},
   "source": [
    "Now, we're going to use Notebook's %%px magic to run a cell in all those threads above we made."
   ]
  },
  {
   "cell_type": "code",
   "execution_count": null,
   "metadata": {},
   "outputs": [],
   "source": [
    "%%px --local\n",
    "\n",
    "import re\n",
    "from bs4 import BeautifulSoup\n",
    "from pyedgar import Filing\n",
    "\n",
    "def get_text(filing, re_html_check=re.compile(r'<(?:p|div|tr|td|font|b)\\b', re.I)):\n",
    "    # Don't catch FileNotFound error here, let the caller catch it\n",
    "    html = filing.documents[0]['full_text']\n",
    "    \n",
    "    num_tags = len(re_html_check.findall(html, endpos=int(len(html)/10)))\n",
    "    \n",
    "    if num_tags > 100:\n",
    "        return BeautifulSoup(html, 'lxml').get_text()\n",
    "    \n",
    "    return html\n",
    "\n",
    "# Using the word finder from last homework\n",
    "re_word_finder = re.compile(\n",
    "    r'\\b'                  # word-boundry, so match beginning or ends of words\n",
    "    r\"(?:[^\\W\\d_]|[-'’])+\" # Add ’, which is not just single quote, but single end quote\n",
    "    r'\\b'                  # ending word-boundry\n",
    "    , re.IGNORECASE\n",
    ")\n",
    "\n",
    "def extract_from_row(row):\n",
    "    filing = Filing(row.cik, row.accession)\n",
    "    ret = {'cik': row.cik, 'accession': row.accession}\n",
    "    try:\n",
    "        text = get_text(filing)\n",
    "    except FileNotFoundError:\n",
    "        # Use some fancy dict functions for shorthand\n",
    "        return {**ret, 'error': 'File Not Found'}\n",
    "    \n",
    "    # Otherwise, we have the filing.\n",
    "    ret['num_words'] = len(re_word_finder.findall(text))\n",
    "    \n",
    "    return ret"
   ]
  },
  {
   "cell_type": "code",
   "execution_count": null,
   "metadata": {},
   "outputs": [],
   "source": [
    "async_result = IP_view.map(lambda x: extract_from_row(x[1]),\n",
    "                           df.iterrows(),\n",
    "                           chunksize=100,\n",
    "                           ordered=False)"
   ]
  },
  {
   "cell_type": "code",
   "execution_count": null,
   "metadata": {},
   "outputs": [],
   "source": [
    "queue_len = len(async_result.status)\n",
    "tot_num = len(df)\n",
    "\n",
    "txt = wHTML(value=f'Processing {queue_len} w/ {tot_num // queue_len} per')\n",
    "prog = IntProgress(\n",
    "        value=async_result.progress,\n",
    "        min=0,\n",
    "        max=len(async_result.status),\n",
    "        step=1,\n",
    "        description=f'Processing {queue_len} w/ {tot_num // queue_len} per:',\n",
    "        bar_style='', # 'success', 'info', 'warning', 'danger' or ''\n",
    "        orientation='horizontal'\n",
    "    )\n",
    "display(txt, prog)\n",
    "\n",
    "while not async_result.done():\n",
    "    prog.value = async_result.progress\n",
    "    txt.value = (f'Processing {async_result.progress} of {queue_len} '\n",
    "                 f'({100*async_result.progress/queue_len:7.2f}% @ {tot_num // queue_len} per)')\n",
    "    sleep(10)"
   ]
  },
  {
   "cell_type": "code",
   "execution_count": null,
   "metadata": {},
   "outputs": [],
   "source": [
    "dfwc = pd.DataFrame(async_result.result()).merge(df, how='outer')\n",
    "dfwc['year'] = dfwc.filedate.dt.year"
   ]
  },
  {
   "cell_type": "code",
   "execution_count": null,
   "metadata": {},
   "outputs": [],
   "source": [
    "dfwc.describe()"
   ]
  },
  {
   "cell_type": "code",
   "execution_count": null,
   "metadata": {},
   "outputs": [],
   "source": [
    "dfwc.to_csv('data/word_count.csv.gz')"
   ]
  },
  {
   "cell_type": "code",
   "execution_count": 62,
   "metadata": {},
   "outputs": [
    {
     "data": {
      "image/png": "[encoded data removed]",
      "text/plain": [
       "<Figure size 1080x360 with 1 Axes>"
      ]
     },
     "metadata": {
      "needs_background": "light"
     },
     "output_type": "display_data"
    }
   ],
   "source": [
    "plt.plot(sorted(dfwc.year.unique()), dfwc.groupby('year').num_words.mean().sort_index(),\n",
    "         label='mean', marker='*')\n",
    "plt.plot(sorted(dfwc.year.unique()), dfwc.groupby('year').num_words.median().sort_index(),\n",
    "         label='median', marker='*')\n",
    "plt.title('Word Count of Proxy Statements over Time')\n",
    "_ = plt.legend()"
   ]
  },
  {
   "cell_type": "markdown",
   "metadata": {},
   "source": [
    "# Homework"
   ]
  },
  {
   "cell_type": "markdown",
   "metadata": {},
   "source": [
    "Using the filing from above ([this one](https://www.sec.gov/Archives/edgar/data/1652044/000130817917000170/lgoog2017_def14a.htm)), read in the HTML and answer the following questions:\n",
    "\n",
    "\n",
    "\n",
    "  1. How many words are in the filing?\n",
    "  1. How many pages are in the filing?\n",
    "  1. How many images are included in the filing?\n",
    "  1. What are the different sections of the proxy statement? (hint: see the table of contents we found above).\n",
    "  1. What are the top 5 people (by salary) paid at Google?\n",
    "  1. *WITHOUT CODING*: Describe how you would go about extracting this information programatically.\n",
    "     1. What format is this information in?\n",
    "     1. Do you think it's repeatable for not-Google?\n",
    "     1. Would you use HTML or plain text to get this information?\n",
    "     1. Extra credit: Write out some [pseudo-code](https://www.vikingcodeschool.com/software-engineering-basics/what-is-pseudo-coding) for your approach, or just the steps in plain english."
   ]
  },
  {
   "cell_type": "code",
   "execution_count": null,
   "metadata": {},
   "outputs": [],
   "source": []
  }
 ],
 "metadata": {
  "kernelspec": {
   "display_name": "Python 3",
   "language": "python",
   "name": "python3"
  },
  "language_info": {
   "codemirror_mode": {
    "name": "ipython",
    "version": 3
   },
   "file_extension": ".py",
   "mimetype": "text/x-python",
   "name": "python",
   "nbconvert_exporter": "python",
   "pygments_lexer": "ipython3",
   "version": "3.7.4"
  },
  "toc": {
   "base_numbering": 1,
   "nav_menu": {},
   "number_sections": true,
   "sideBar": true,
   "skip_h1_title": false,
   "title_cell": "Contents",
   "title_sidebar": "Contents",
   "toc_cell": true,
   "toc_position": {
    "height": "589.797px",
    "left": "1363.31px",
    "top": "135.797px",
    "width": "180.063px"
   },
   "toc_section_display": true,
   "toc_window_display": true
  }
 },
 "nbformat": 4,
 "nbformat_minor": 2
}
