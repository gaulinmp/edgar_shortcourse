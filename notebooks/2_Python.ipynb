{
 "cells": [
  {
   "cell_type": "markdown",
   "metadata": {},
   "source": [
    "Like the mighty Python, before we walk we must crawl\n",
    "\n",
    "I learned python [The Hard Way](https://learning.oreilly.com/library/view/learn-python-the/9780133124316/ch01.html).\n",
    "The idea behind this approach is \"doing is learning\".\n",
    "There was lots of focus on baby steps and repeating those steps until they became unconscious.\n",
    "It was tedious, but definitely useful.\n",
    "I mention it, because if you find yourself struggling with Python syntax, it's a great reference, or way to learn outright.\n",
    "\n",
    "My philosophy for this course is in line with this, but with a specific task, or project in mind.\n",
    "Today's task will be extracting simple information from a plain text file."
   ]
  },
  {
   "cell_type": "markdown",
   "metadata": {},
   "source": [
    "**Outline**\n",
    "  1. [Launch Python (Notebooks)](#Launch-Python)\n",
    "  1. [Syntax basics](#Syntax-basics)\n",
    "     1. [Numbers](#Numbers)\n",
    "     1. [Strings](#Strings)\n",
    "     1. [Variables](#Variables)\n",
    "     1. [Tuples](#Tuples)\n",
    "     1. [Lists](#Lists)\n",
    "     1. [Dictionaries](#Dictionaries)\n",
    "  1. [Program Control Logic](#Program-Control-Logic)\n",
    "     1. [If-then-else](#If-then-else)\n",
    "     1. [For loops](#For-loops)\n",
    "  1. [Functions](#Functions)\n",
    "  1. [Reading files](#Reading-files)\n",
    "  1. [Viewing data](#Viewing-data)\n",
    "  1. [Regular Expressions](#Regular-Expressions)\n",
    "  1. [Extracting data](#Extracting-data) <-- this is the objective, jump here if you know python"
   ]
  },
  {
   "cell_type": "markdown",
   "metadata": {},
   "source": [
    "# Launch Python"
   ]
  },
  {
   "cell_type": "markdown",
   "metadata": {},
   "source": [
    "We start by launching python.\n",
    "Open your terminal, navigate to where you downloaded this course (manually or with git), and launch jupyter:\n",
    "\n",
    "```bash\n",
    "$ jupyter notebook ./notebooks/\n",
    "```\n",
    "\n",
    "There's also the graphical option, Anaconda installs a nice little launcher, which you can find in your start menu.\n",
    "But that will usually default to loading `~/`, so you would have to navigate in the browser to this notebook. \n",
    "Whichever works better for you.\n",
    "\n",
    "**NOTE:** Notebook has these things called cells, which you maybe experienced in the Installation step.\n",
    "Cells are executable bits of python, which you execute by holding (shift | ctrl | alt) and pressing enter.\n",
    "The cell will run the code, printing what is printed below it, and then whatever is the last thing on the line of the cell, that gets printed in the output as well.\n",
    "We'll get a lot of practice with that below."
   ]
  },
  {
   "cell_type": "markdown",
   "metadata": {},
   "source": [
    "# Syntax basics\n",
    "\n",
    "Python documentation: [https://www.python.org/doc/](https://www.python.org/doc/)"
   ]
  },
  {
   "cell_type": "markdown",
   "metadata": {},
   "source": [
    "Python is the type of language where everything is possible.\n",
    "Do you want to change the `print` function to always add an emoji to the start of your string? "
   ]
  },
  {
   "cell_type": "code",
   "execution_count": null,
   "metadata": {
    "ExecuteTime": {
     "end_time": "2019-09-15T00:50:45.059135Z",
     "start_time": "2019-09-15T00:50:45.053330Z"
    }
   },
   "outputs": [],
   "source": [
    "# You can ignore the code below, you'll understand it later.\n",
    "# The point is that Python is flexible.\n",
    "if \"_print\" not in dir():\n",
    "    \"\"\"Let's keep this around for safety reasons\"\"\"\n",
    "    _print = print"
   ]
  },
  {
   "cell_type": "code",
   "execution_count": null,
   "metadata": {
    "ExecuteTime": {
     "end_time": "2019-09-15T00:50:45.363628Z",
     "start_time": "2019-09-15T00:50:45.356629Z"
    }
   },
   "outputs": [],
   "source": [
    "def print(*args, **kwargs):\n",
    "    \"\"\"Add some cheer to our printing\"\"\"\n",
    "    _print(b'\\xf0\\x9f\\x8d\\xbb'.decode(), *args, **kwargs)\n",
    "print(\"Wait but I thought `print` was a special python function?\")"
   ]
  },
  {
   "cell_type": "markdown",
   "metadata": {},
   "source": [
    "All of this to say that almost anything is possible, so the joy of python is just figuring out how to convert your brainy ideas *into* the computer.\n",
    "\n",
    "But I digress.\n",
    "Python has some basic components, starting with numbers, strings, and variables."
   ]
  },
  {
   "cell_type": "markdown",
   "metadata": {},
   "source": [
    "## Numbers\n",
    "\n",
    "Documentation: [https://docs.python.org/3.7/library/stdtypes.html#numeric-types-int-float-complex](https://docs.python.org/3.7/library/stdtypes.html#numeric-types-int-float-complex)\n",
    "\n",
    "Numbers are pretty basic in Python, they are just things typed on your number-keypad:"
   ]
  },
  {
   "cell_type": "code",
   "execution_count": null,
   "metadata": {
    "ExecuteTime": {
     "end_time": "2019-09-15T00:50:46.564590Z",
     "start_time": "2019-09-15T00:50:46.549617Z"
    }
   },
   "outputs": [],
   "source": [
    "5"
   ]
  },
  {
   "cell_type": "markdown",
   "metadata": {},
   "source": [
    "Notice that the 5 was printed next to the Out[##]: text?\n",
    "That is Notebooks printing whatever is the last thing in the cell.\n",
    "It's very convenient, and I use it constantly to look at data.\n",
    "\n",
    "Math also works as you would expect:"
   ]
  },
  {
   "cell_type": "code",
   "execution_count": null,
   "metadata": {
    "ExecuteTime": {
     "end_time": "2019-09-15T00:50:47.202951Z",
     "start_time": "2019-09-15T00:50:47.197528Z"
    }
   },
   "outputs": [],
   "source": [
    "# * is multiplication\n",
    "5 * 5"
   ]
  },
  {
   "cell_type": "code",
   "execution_count": null,
   "metadata": {
    "ExecuteTime": {
     "end_time": "2019-09-15T00:50:47.511033Z",
     "start_time": "2019-09-15T00:50:47.504745Z"
    }
   },
   "outputs": [],
   "source": [
    "# ** is the exponent operator, i.e. \"to the power of\"\n",
    "5 ** 5"
   ]
  },
  {
   "cell_type": "markdown",
   "metadata": {},
   "source": [
    "These so far have been integers.\n",
    "But what if we want the Reals?\n",
    "Those are called floats (for floating point number), and they are just as easy"
   ]
  },
  {
   "cell_type": "code",
   "execution_count": null,
   "metadata": {
    "ExecuteTime": {
     "end_time": "2019-09-15T00:50:48.124377Z",
     "start_time": "2019-09-15T00:50:48.118912Z"
    }
   },
   "outputs": [],
   "source": [
    "3.14159 * 5 ** 2"
   ]
  },
  {
   "cell_type": "markdown",
   "metadata": {},
   "source": [
    "Mixing integers and floats is fine, as we saw above.\n",
    "Python is smart, and converts the integers to float behind the scene.\n",
    "\n",
    "There are two convenience functions for dealing with floats and integers though, Modulus (%) and floor division (//):"
   ]
  },
  {
   "cell_type": "code",
   "execution_count": null,
   "metadata": {
    "ExecuteTime": {
     "end_time": "2019-09-15T00:50:48.730469Z",
     "start_time": "2019-09-15T00:50:48.725898Z"
    }
   },
   "outputs": [],
   "source": [
    "# Mod can be thought of as \"the remainder after dividing 3 by 2\"\n",
    "3 % 2"
   ]
  },
  {
   "cell_type": "markdown",
   "metadata": {},
   "source": [
    "What if we want multiple of those at a time? For exposition? Just throw a comma in there!"
   ]
  },
  {
   "cell_type": "code",
   "execution_count": null,
   "metadata": {
    "ExecuteTime": {
     "end_time": "2019-09-15T00:50:49.361126Z",
     "start_time": "2019-09-15T00:50:49.354428Z"
    }
   },
   "outputs": [],
   "source": [
    "7 % 3,        8 % 3,         9 % 3,         10 % 3"
   ]
  },
  {
   "cell_type": "markdown",
   "metadata": {},
   "source": [
    "Notice that python doesn't really care about spaces.\n",
    "That's only true within the line. \n",
    "Python VERY MUCH cares about spaces at the beginning of lines, as we'll see later.\n",
    "\n",
    "Floor division is the complement to Modulus (or mod), it's the division part:"
   ]
  },
  {
   "cell_type": "code",
   "execution_count": null,
   "metadata": {
    "ExecuteTime": {
     "end_time": "2019-09-15T00:50:49.658213Z",
     "start_time": "2019-09-15T00:50:49.652272Z"
    }
   },
   "outputs": [],
   "source": [
    "3 // 2"
   ]
  },
  {
   "cell_type": "code",
   "execution_count": null,
   "metadata": {
    "ExecuteTime": {
     "end_time": "2019-09-15T00:50:49.949470Z",
     "start_time": "2019-09-15T00:50:49.943697Z"
    }
   },
   "outputs": [],
   "source": [
    "3 / 2"
   ]
  },
  {
   "cell_type": "code",
   "execution_count": null,
   "metadata": {
    "ExecuteTime": {
     "end_time": "2019-09-15T00:50:50.260090Z",
     "start_time": "2019-09-15T00:50:50.253993Z"
    }
   },
   "outputs": [],
   "source": [
    "3 // 2   +   (3 % 2) / 2"
   ]
  },
  {
   "cell_type": "markdown",
   "metadata": {},
   "source": [
    "And there are many more!\n",
    "Explore them all here: [en.wikibooks.org/wiki/Python_Programming/Operators](https://en.wikibooks.org/wiki/Python_Programming/Operators#Basics)"
   ]
  },
  {
   "cell_type": "markdown",
   "metadata": {},
   "source": [
    "## Strings\n",
    "\n",
    "Documentation: [https://docs.python.org/3.7/library/stdtypes.html#text-sequence-type-str](https://docs.python.org/3.7/library/stdtypes.html#text-sequence-type-str)\n",
    "\n",
    "Strings are just text:"
   ]
  },
  {
   "cell_type": "code",
   "execution_count": null,
   "metadata": {
    "ExecuteTime": {
     "end_time": "2019-09-15T00:50:50.720670Z",
     "start_time": "2019-09-15T00:50:50.714910Z"
    }
   },
   "outputs": [],
   "source": [
    "\"This is a string. It is defined by surrounding whatever you want with quotes.\""
   ]
  },
  {
   "cell_type": "code",
   "execution_count": null,
   "metadata": {
    "ExecuteTime": {
     "end_time": "2019-09-15T00:50:50.867535Z",
     "start_time": "2019-09-15T00:50:50.861820Z"
    }
   },
   "outputs": [],
   "source": [
    "'Single quotes are fine too! So are numbers: 5 + 5'"
   ]
  },
  {
   "cell_type": "code",
   "execution_count": null,
   "metadata": {
    "ExecuteTime": {
     "end_time": "2019-09-15T00:50:51.174914Z",
     "start_time": "2019-09-15T00:50:51.169516Z"
    }
   },
   "outputs": [],
   "source": [
    "\"\"\"\n",
    "Triple quoted strings can span multiple lines.\n",
    "They are great for long strings, specifically Docstrings, which are great for commenting your code!\n",
    "\"\"\""
   ]
  },
  {
   "cell_type": "markdown",
   "metadata": {},
   "source": [
    "Woah, that last one was ugly!\n",
    "What's going on there?\n",
    "\n",
    "The triple quoted string can contain newlines (they all can, but go with it for simplicity sake).\n",
    "Newlines in python strings are represented by `\\n`, which is the **escape character** `\\` and an `n`.\n",
    "The escape character `\\` says \"whatever comes next is special\".\n",
    "\n",
    "Some convenient escape characters are the Tab `\\t`, or emoji like we saw above, denoted by `\\x` or `\\U`.\n",
    "To include the character `\\` in a string, type `\\\\`.\n",
    "\n",
    "To include a newline in a single-quoted string, just type `\\n`. But if we do that, it will be ugly, like above:"
   ]
  },
  {
   "cell_type": "code",
   "execution_count": null,
   "metadata": {
    "ExecuteTime": {
     "end_time": "2019-09-15T00:50:51.788218Z",
     "start_time": "2019-09-15T00:50:51.782443Z"
    }
   },
   "outputs": [],
   "source": [
    "\"First line\\nSecond line\""
   ]
  },
  {
   "cell_type": "markdown",
   "metadata": {},
   "source": [
    "How do we get python to print those two on two lines?\n",
    "We use the print function, of course:"
   ]
  },
  {
   "cell_type": "code",
   "execution_count": null,
   "metadata": {
    "ExecuteTime": {
     "end_time": "2019-09-15T00:50:52.404202Z",
     "start_time": "2019-09-15T00:50:52.399178Z"
    }
   },
   "outputs": [],
   "source": [
    "print(\"First line\\nSecond line\\n\\tIntended third line\")"
   ]
  },
  {
   "cell_type": "markdown",
   "metadata": {},
   "source": [
    "The reason this happens is because Notebooks isn't printing out those strings we typed above, it was just saying \"Here's the thing from the last line in this cell\", and just because it is a string doesn't mean Notebooks knows what to do with it (i.e. doesn't assume it should be passed into print())\n",
    "\n",
    "So what can we do with strings?\n",
    "Add them of course!"
   ]
  },
  {
   "cell_type": "code",
   "execution_count": null,
   "metadata": {
    "ExecuteTime": {
     "end_time": "2019-09-15T00:50:53.031731Z",
     "start_time": "2019-09-15T00:50:53.026024Z"
    }
   },
   "outputs": [],
   "source": [
    "\"I'm a lumberjack, \" + \"and I'm okay!\""
   ]
  },
  {
   "cell_type": "markdown",
   "metadata": {},
   "source": [
    "We can also multiply them by numbers, which repeats them:"
   ]
  },
  {
   "cell_type": "code",
   "execution_count": null,
   "metadata": {
    "ExecuteTime": {
     "end_time": "2019-09-15T00:50:53.671875Z",
     "start_time": "2019-09-15T00:50:53.665988Z"
    }
   },
   "outputs": [],
   "source": [
    "\"Na\"*8 + \" Batman!\""
   ]
  },
  {
   "cell_type": "markdown",
   "metadata": {},
   "source": [
    "That's about it.\n",
    "We can't subtract, divide, or exponentiate them, sadly.\n",
    "\n",
    "\n",
    "So now that we have the basics of strings (and I encourage you to play around with them, make a new cell by hitting the `Escape` key and pressing `a`), let's get into what we can really do with strings, and that's search through them:"
   ]
  },
  {
   "cell_type": "code",
   "execution_count": null,
   "metadata": {
    "ExecuteTime": {
     "end_time": "2019-09-15T00:50:53.977478Z",
     "start_time": "2019-09-15T00:50:53.971325Z"
    }
   },
   "outputs": [],
   "source": [
    "'To be, or not to be, that is the question.'.find('be')"
   ]
  },
  {
   "cell_type": "markdown",
   "metadata": {},
   "source": [
    "That told us that the string 'be' was found at the index 3.\n",
    "What's an index?\n",
    "Strings are kind of like text entry fields on a government form.\n",
    "Here's a diagram of how it works:\n",
    "\n",
    "<img src=\"img/2_string_indexing.png\" width=\"500px\" alt=\"String indices\" />\n",
    "\n",
    "Indexing is achieved using square brackets:"
   ]
  },
  {
   "cell_type": "code",
   "execution_count": null,
   "metadata": {
    "ExecuteTime": {
     "end_time": "2019-09-15T00:50:54.631470Z",
     "start_time": "2019-09-15T00:50:54.625669Z"
    }
   },
   "outputs": [],
   "source": [
    "\"This is a regular old string that starts with T\"[0]"
   ]
  },
  {
   "cell_type": "markdown",
   "metadata": {},
   "source": [
    "That grabbed the `0`th item, which in that diagram above is denoted by the little blue arrows, so that means the first one.\n",
    "\n",
    "What if we wanted to grab the whole first word?"
   ]
  },
  {
   "cell_type": "code",
   "execution_count": null,
   "metadata": {
    "ExecuteTime": {
     "end_time": "2019-09-15T00:50:55.236217Z",
     "start_time": "2019-09-15T00:50:55.230246Z"
    }
   },
   "outputs": [],
   "source": [
    "\"First word is 5 letters long, meaning from 0 - 5\"[0:5]"
   ]
  },
  {
   "cell_type": "code",
   "execution_count": null,
   "metadata": {
    "ExecuteTime": {
     "end_time": "2019-09-15T00:50:55.543001Z",
     "start_time": "2019-09-15T00:50:55.537071Z"
    }
   },
   "outputs": [],
   "source": [
    "\"First word is 5 letters long, and this time we're going to omit the 0\"[:5]"
   ]
  },
  {
   "cell_type": "code",
   "execution_count": null,
   "metadata": {
    "ExecuteTime": {
     "end_time": "2019-09-15T00:50:55.864861Z",
     "start_time": "2019-09-15T00:50:55.858836Z"
    }
   },
   "outputs": [],
   "source": [
    "\"This sentence ends with First\"[-5:]"
   ]
  },
  {
   "cell_type": "code",
   "execution_count": null,
   "metadata": {
    "ExecuteTime": {
     "end_time": "2019-09-15T00:50:56.005439Z",
     "start_time": "2019-09-15T00:50:55.998881Z"
    }
   },
   "outputs": [],
   "source": [
    "\"This sentence has 3 characters after First!!!\"[-(5+3):-(0+3)]"
   ]
  },
  {
   "cell_type": "markdown",
   "metadata": {},
   "source": [
    "***TODO:*** \n",
    "\n",
    "  * [ ] Play around with the string slicing below until you are comfortable with the indexing syntax."
   ]
  },
  {
   "cell_type": "code",
   "execution_count": null,
   "metadata": {
    "ExecuteTime": {
     "end_time": "2019-09-15T00:50:56.315803Z",
     "start_time": "2019-09-15T00:50:56.309853Z"
    }
   },
   "outputs": [],
   "source": [
    "\"String slicing playground\"[:]"
   ]
  },
  {
   "cell_type": "markdown",
   "metadata": {},
   "source": [
    "Indexing strings (or slicing, as the \\[:\\] syntax is called) is convenient for simple things, but what we'll see later when we talk about regular expressions, is that this *idea* of cutting up strings, or more importantly extracting just sub-sections of the string, is really powerful.\n",
    "\n",
    "\n",
    "That's what our task is, extracting specific information from strings.\n",
    "So what we want to achieve eventually is given a string, figuring out what's the location of the data we want, so we can use this string indexing to get it."
   ]
  },
  {
   "cell_type": "code",
   "execution_count": null,
   "metadata": {
    "ExecuteTime": {
     "end_time": "2019-09-15T00:50:57.131318Z",
     "start_time": "2019-09-15T00:50:57.125915Z"
    }
   },
   "outputs": [],
   "source": [
    "\"Our CEO Brian Cadman is paid $1,000,000 per day.\"[?????]"
   ]
  },
  {
   "cell_type": "markdown",
   "metadata": {},
   "source": [
    "There are a few things to note about strings in Python.\n",
    "First, strings are *immutable*, which means they can't be changed.\n",
    "\n",
    "Hopefully, you're now thinking \"But wait, I added two strings up above.\"\n",
    "Yes, you did!\n",
    "But Python, in its infinite wisdom, made a new string which was the result of concatenating the two strings.\n",
    "This only matters to you when you're thinking about efficiency of code.\n",
    "For example, we can use the Notebook magic %timeit to show us this (ignore the code for now, just trust me it does what I claim):"
   ]
  },
  {
   "cell_type": "code",
   "execution_count": null,
   "metadata": {
    "ExecuteTime": {
     "end_time": "2019-09-15T00:50:59.118694Z",
     "start_time": "2019-09-15T00:50:57.420444Z"
    }
   },
   "outputs": [],
   "source": [
    "%%timeit\n",
    "# This approach adds strings over and over\n",
    "\n",
    "string_to_add_to = \"\"\n",
    "for number in range(1000):\n",
    "    string_to_add_to = string_to_add_to + str(number)"
   ]
  },
  {
   "cell_type": "code",
   "execution_count": null,
   "metadata": {
    "ExecuteTime": {
     "end_time": "2019-09-15T00:51:14.524733Z",
     "start_time": "2019-09-15T00:50:59.120082Z"
    }
   },
   "outputs": [],
   "source": [
    "%%timeit\n",
    "# This approach collects all the strings we wish to add, then puts them all together in one step\n",
    "\n",
    "thing_we_will_turn_into_string = []\n",
    "for number in range(1000):\n",
    "    thing_we_will_turn_into_string.append(str(number))\n",
    "string_with_all_the_numbers = ''.join(thing_we_will_turn_into_string)"
   ]
  },
  {
   "cell_type": "markdown",
   "metadata": {},
   "source": [
    "***TODO:*** \n",
    "  * [ ] Browse what functions you can call on a string: [https://docs.python.org/3.7/library/stdtypes.html#text-sequence-type-str](https://docs.python.org/3.7/library/stdtypes.html#text-sequence-type-str)\n",
    "  * [ ] Browse the Python documents to read a bit about the string format mini-language: [https://docs.python.org/3.7/library/string.html](https://docs.python.org/3.7/library/string.html#formatspec)\n",
    "  * [ ] Get comfortable with both, so you understand the following:"
   ]
  },
  {
   "cell_type": "code",
   "execution_count": null,
   "metadata": {
    "ExecuteTime": {
     "end_time": "2019-09-15T00:51:14.530219Z",
     "start_time": "2019-09-15T00:51:14.526609Z"
    }
   },
   "outputs": [],
   "source": [
    "\"Start:{number_to_display:{pad_character}{align}{num_width}f}\"\\\n",
    "    .format(number_to_display=5.12345, num_width=15.2, pad_character='_', align=\">\", unused=\"gets ignored\")\\\n",
    "    .replace('5', '4')"
   ]
  },
  {
   "cell_type": "markdown",
   "metadata": {},
   "source": [
    "Note: long lines of python code can be continued on the next line by adding a `\\` to the end of the line\n",
    "\n",
    "New to python 3.6 are f-strings, which are cool shortcuts for the above:"
   ]
  },
  {
   "cell_type": "code",
   "execution_count": null,
   "metadata": {
    "ExecuteTime": {
     "end_time": "2019-09-15T00:51:14.536557Z",
     "start_time": "2019-09-15T00:51:14.531405Z"
    }
   },
   "outputs": [],
   "source": [
    "f\"Start:{5.12345:_>15.2f}\""
   ]
  },
  {
   "cell_type": "markdown",
   "metadata": {},
   "source": [
    "## Variables\n",
    "\n",
    "Variables in python are pointers to things.\n",
    "Those things might be numbers to be added, strings to be searched, or lists of numbers, strings, other lists, etc.\n",
    "Almost everything in python can be thought of as a reference to some underlying data or function.\n",
    "\n",
    "We've already seen some variables above, but this is what they look like:"
   ]
  },
  {
   "cell_type": "code",
   "execution_count": null,
   "metadata": {
    "ExecuteTime": {
     "end_time": "2019-09-15T00:51:14.541355Z",
     "start_time": "2019-09-15T00:51:14.537825Z"
    }
   },
   "outputs": [],
   "source": [
    "variable_name = 5\n",
    "variable_name ** 2"
   ]
  },
  {
   "cell_type": "code",
   "execution_count": null,
   "metadata": {
    "ExecuteTime": {
     "end_time": "2019-09-15T00:51:14.546425Z",
     "start_time": "2019-09-15T00:51:14.542749Z"
    }
   },
   "outputs": [],
   "source": [
    "CAPITAL_is_OKAY_too = 'but no spaces'\n",
    "len(CAPITAL_is_OKAY_too)"
   ]
  },
  {
   "cell_type": "markdown",
   "metadata": {},
   "source": [
    "Variables are just references to the data they are pointing at, so we can use them just like the raw data above:"
   ]
  },
  {
   "cell_type": "code",
   "execution_count": null,
   "metadata": {
    "ExecuteTime": {
     "end_time": "2019-09-15T00:51:30.699389Z",
     "start_time": "2019-09-15T00:51:30.693049Z"
    }
   },
   "outputs": [],
   "source": [
    "five = 5\n",
    "two = 2\n",
    "five ** two"
   ]
  },
  {
   "cell_type": "code",
   "execution_count": null,
   "metadata": {
    "ExecuteTime": {
     "end_time": "2019-09-15T00:51:31.049889Z",
     "start_time": "2019-09-15T00:51:31.043741Z"
    }
   },
   "outputs": [],
   "source": [
    "(CAPITAL_is_OKAY_too + \" | \") * two"
   ]
  },
  {
   "cell_type": "markdown",
   "metadata": {},
   "source": [
    "Python is like a loyal puppy, they try to run your code even if it doesn't make sense:"
   ]
  },
  {
   "cell_type": "code",
   "execution_count": null,
   "metadata": {
    "ExecuteTime": {
     "end_time": "2019-09-15T00:51:31.773698Z",
     "start_time": "2019-09-15T00:51:31.720827Z"
    }
   },
   "outputs": [],
   "source": [
    "CAPITAL_is_OKAY_too + five"
   ]
  },
  {
   "cell_type": "markdown",
   "metadata": {},
   "source": [
    "When you do ask it to do a trick it doesn't know how to, it will throw an Error.\n",
    "The above error is called a **TypeError**, and it comes with an error message:\n",
    "\n",
    "    can only concatenate str (not \"int\") to str\n",
    "    \n",
    "This is Python trying to tell us what the error might be.\n",
    "These error outputs are often invaluable for debugging, they will typically point to exactly the line of code which is causing the problem.\n",
    "Also, when we start getting into functions, we will see the whole chain of calls, which will make more sense later.\n",
    "\n",
    "Sometimes (often) we might expect, or even want an error. \n",
    "This is because we don't have to let Errors ruin our day, or our code execution.\n",
    "The solution to errors is the `try`/`catch` code block:"
   ]
  },
  {
   "cell_type": "code",
   "execution_count": null,
   "metadata": {
    "ExecuteTime": {
     "end_time": "2019-09-15T00:51:32.398308Z",
     "start_time": "2019-09-15T00:51:32.392086Z"
    }
   },
   "outputs": [],
   "source": [
    "try:\n",
    "    CAPITAL_is_OKAY_too + five\n",
    "except TypeError:\n",
    "    print(\"Don't add strings and numbers. To do that, cast the number to string, silly!\")\n",
    "    print(CAPITAL_is_OKAY_too + \" | \" + str(five))"
   ]
  },
  {
   "cell_type": "markdown",
   "metadata": {},
   "source": [
    "You'll see many, many errors (which cause exceptions) in your programming career, so try/catch might become your best friend.\n",
    "This is especially useful if you're doing a huge parsing job, and don't want it to crash after running for 8 hours.\n",
    "So if you wrap each loop in a try/catch, you can just continue on to the next document if something fails for one of them.\n",
    "\n",
    "***TODO***\n",
    " * [ ] Play around with variables, and try throwing a few more errors."
   ]
  },
  {
   "cell_type": "markdown",
   "metadata": {},
   "source": [
    "<div style=\"font-size:2em;padding-left:20pt\">Other 'types'</div>\n",
    "\n",
    "So now we've seen strings and numbers, what else is there? \n",
    "Well, [lots](https://docs.python.org/3.7/library/stdtypes.html)!\n",
    "Just look at the table of contents on the left side of that page for a full list.\n",
    "\n",
    "The ones we care about for now are Boolean, None, and some super helpful iterables below: [tuples](#Tuples), [lists](#Lists), and [dictionaries](#Dictionaries)."
   ]
  },
  {
   "cell_type": "markdown",
   "metadata": {},
   "source": [
    "## Boolean\n",
    "\n",
    "Documentation: [https://docs.python.org/3.7/library/stdtypes.html#truth-value-testing](https://docs.python.org/3.7/library/stdtypes.html#truth-value-testing)\n",
    "\n",
    "Booleans (or `bool`), are True/False values.\n",
    "They are used for testing things usually, like \"If something is true, do this, if it is false, do that.\"\n",
    "\n",
    "Many things are Boolean, like the answer to tests:"
   ]
  },
  {
   "cell_type": "code",
   "execution_count": null,
   "metadata": {
    "ExecuteTime": {
     "end_time": "2019-09-15T00:51:33.802619Z",
     "start_time": "2019-09-15T00:51:33.796777Z"
    }
   },
   "outputs": [],
   "source": [
    "5 > 6"
   ]
  },
  {
   "cell_type": "markdown",
   "metadata": {},
   "source": [
    "or checking if something is a string:"
   ]
  },
  {
   "cell_type": "code",
   "execution_count": null,
   "metadata": {
    "ExecuteTime": {
     "end_time": "2019-09-15T00:51:34.498665Z",
     "start_time": "2019-09-15T00:51:34.492604Z"
    }
   },
   "outputs": [],
   "source": [
    "isinstance(\"Is a string a `str`?\", str)"
   ]
  },
  {
   "cell_type": "markdown",
   "metadata": {},
   "source": [
    "or even if a string contains another string:"
   ]
  },
  {
   "cell_type": "code",
   "execution_count": null,
   "metadata": {
    "ExecuteTime": {
     "end_time": "2019-09-15T00:51:35.153242Z",
     "start_time": "2019-09-15T00:51:35.147530Z"
    }
   },
   "outputs": [],
   "source": [
    "\"NOFX\" in \"I listen to NOFX sometimes\""
   ]
  },
  {
   "cell_type": "markdown",
   "metadata": {},
   "source": [
    "***TODO***: \n",
    "  * [ ] Look up the different boolean logic functions: [https://docs.python.org/3.7/library/stdtypes.html#comparisons](https://docs.python.org/3.7/library/stdtypes.html#comparisons)"
   ]
  },
  {
   "cell_type": "markdown",
   "metadata": {},
   "source": [
    "Booleans pop up almost everywhere!\n",
    "Some things have a 'boolean' value, which is the equivalent of calling `bool` on them:"
   ]
  },
  {
   "cell_type": "code",
   "execution_count": null,
   "metadata": {
    "ExecuteTime": {
     "end_time": "2019-09-15T00:51:36.195495Z",
     "start_time": "2019-09-15T00:51:36.189029Z"
    }
   },
   "outputs": [],
   "source": [
    "bool(True), bool(False), \"is redundant, but works\""
   ]
  },
  {
   "cell_type": "code",
   "execution_count": null,
   "metadata": {
    "ExecuteTime": {
     "end_time": "2019-09-15T00:51:36.575848Z",
     "start_time": "2019-09-15T00:51:36.570467Z"
    }
   },
   "outputs": [],
   "source": [
    "bool(0), bool(1), bool(1337)"
   ]
  },
  {
   "cell_type": "code",
   "execution_count": null,
   "metadata": {
    "ExecuteTime": {
     "end_time": "2019-09-15T00:51:36.915059Z",
     "start_time": "2019-09-15T00:51:36.908621Z"
    }
   },
   "outputs": [],
   "source": [
    "bool(\"Strings are true!\"), bool(\"\"), bool(\"Unless they are empty.\")"
   ]
  },
  {
   "cell_type": "markdown",
   "metadata": {},
   "source": [
    "That last one is worth a moment to consider: what is a `False` string?\n",
    "Python says that an empty string is `False`, just like 0 means `False`, None is usually `False`.\n",
    "But just because these things are all False, doesn't mean they are equal:"
   ]
  },
  {
   "cell_type": "code",
   "execution_count": null,
   "metadata": {
    "ExecuteTime": {
     "end_time": "2019-09-15T00:51:37.424485Z",
     "start_time": "2019-09-15T00:51:37.418372Z"
    }
   },
   "outputs": [],
   "source": [
    "bool(None)"
   ]
  },
  {
   "cell_type": "code",
   "execution_count": null,
   "metadata": {
    "ExecuteTime": {
     "end_time": "2019-09-15T00:51:37.597418Z",
     "start_time": "2019-09-15T00:51:37.591144Z"
    }
   },
   "outputs": [],
   "source": [
    "None == \"\""
   ]
  },
  {
   "cell_type": "code",
   "execution_count": null,
   "metadata": {
    "ExecuteTime": {
     "end_time": "2019-09-15T00:51:37.764773Z",
     "start_time": "2019-09-15T00:51:37.759094Z"
    }
   },
   "outputs": [],
   "source": [
    "bool(None) == bool(\"\")"
   ]
  },
  {
   "cell_type": "markdown",
   "metadata": {},
   "source": [
    "Because Python is really neat, instead of just `&` for and, and `|` for or, you can use `and` and `or` like you would expect:"
   ]
  },
  {
   "cell_type": "code",
   "execution_count": null,
   "metadata": {
    "ExecuteTime": {
     "end_time": "2019-09-15T00:51:38.258216Z",
     "start_time": "2019-09-15T00:51:38.250683Z"
    }
   },
   "outputs": [],
   "source": [
    "True and True"
   ]
  },
  {
   "cell_type": "code",
   "execution_count": null,
   "metadata": {
    "ExecuteTime": {
     "end_time": "2019-09-15T00:51:38.624140Z",
     "start_time": "2019-09-15T00:51:38.618420Z"
    }
   },
   "outputs": [],
   "source": [
    "False or False"
   ]
  },
  {
   "cell_type": "markdown",
   "metadata": {},
   "source": [
    "NOTE: One thing about `and` and `or`, is that Python only executes code if it needs to.\n",
    "This means if you have some expression `and` some other expressions, if the first one is `False`, the second one will never be run or checked if it's `True`, because it doesn't matter (any False makes `and` False).\n",
    "This might be confusing now, but when we get to functions below it'll make more sense."
   ]
  },
  {
   "cell_type": "markdown",
   "metadata": {},
   "source": [
    "## None\n",
    "\n",
    "`None` is just that, a nothing-value.\n",
    "It's useful for lots of reasons, we'll see it used quite a bit.\n",
    "For now, just know it exists, and is called `None`"
   ]
  },
  {
   "cell_type": "code",
   "execution_count": null,
   "metadata": {
    "ExecuteTime": {
     "end_time": "2019-09-15T00:51:39.655783Z",
     "start_time": "2019-09-15T00:51:39.651876Z"
    }
   },
   "outputs": [],
   "source": [
    "None"
   ]
  },
  {
   "cell_type": "code",
   "execution_count": null,
   "metadata": {
    "ExecuteTime": {
     "end_time": "2019-09-15T00:51:40.000918Z",
     "start_time": "2019-09-15T00:51:39.995006Z"
    }
   },
   "outputs": [],
   "source": [
    "None is None"
   ]
  },
  {
   "cell_type": "markdown",
   "metadata": {
    "ExecuteTime": {
     "end_time": "2019-09-15T00:12:38.134855Z",
     "start_time": "2019-09-15T00:12:38.129363Z"
    }
   },
   "source": [
    "`is` is a nice function for checking equality, [mostly the same](https://www.mysamplecode.com/2012/11/python-difference-between-is-and-equals.html) as `==`:"
   ]
  },
  {
   "cell_type": "code",
   "execution_count": null,
   "metadata": {
    "ExecuteTime": {
     "end_time": "2019-09-15T00:51:40.500798Z",
     "start_time": "2019-09-15T00:51:40.495054Z"
    }
   },
   "outputs": [],
   "source": [
    "5 == None"
   ]
  },
  {
   "cell_type": "markdown",
   "metadata": {},
   "source": [
    "## Tuples\n",
    "\n",
    "Documentation: [https://docs.python.org/3.7/library/stdtypes.html#tuples](https://docs.python.org/3.7/library/stdtypes.html#tuples)\n",
    "\n",
    "Now that we know about the basic types, we move on to iterables, which you can think of as 'collections' of things.\n",
    "They can be collections of numbers:"
   ]
  },
  {
   "cell_type": "code",
   "execution_count": null,
   "metadata": {
    "ExecuteTime": {
     "end_time": "2019-09-15T00:51:40.997402Z",
     "start_time": "2019-09-15T00:51:40.991273Z"
    }
   },
   "outputs": [],
   "source": [
    "(1, 2, 3)"
   ]
  },
  {
   "cell_type": "markdown",
   "metadata": {},
   "source": [
    "or collections of mixed types:"
   ]
  },
  {
   "cell_type": "code",
   "execution_count": null,
   "metadata": {
    "ExecuteTime": {
     "end_time": "2019-09-15T00:51:41.502916Z",
     "start_time": "2019-09-15T00:51:41.496409Z"
    }
   },
   "outputs": [],
   "source": [
    "(False, 1, \"two\", None)"
   ]
  },
  {
   "cell_type": "markdown",
   "metadata": {},
   "source": [
    "or, and this might get ugly, collections of collections!"
   ]
  },
  {
   "cell_type": "code",
   "execution_count": null,
   "metadata": {
    "ExecuteTime": {
     "end_time": "2019-09-15T00:51:41.988410Z",
     "start_time": "2019-09-15T00:51:41.981602Z"
    }
   },
   "outputs": [],
   "source": [
    "(1, 2, (False, True, (\"String 1\", \"String 2\")))"
   ]
  },
  {
   "cell_type": "markdown",
   "metadata": {},
   "source": [
    "Two important things about tuples (same for lists and dictionaries below):\n",
    "\n",
    " 1. They have length, which you can test using `len`"
   ]
  },
  {
   "cell_type": "code",
   "execution_count": null,
   "metadata": {
    "ExecuteTime": {
     "end_time": "2019-09-15T00:51:42.312082Z",
     "start_time": "2019-09-15T00:51:42.305780Z"
    }
   },
   "outputs": [],
   "source": [
    "a = 1, 2, 3, 4, 5\n",
    "len(a)"
   ]
  },
  {
   "cell_type": "markdown",
   "metadata": {},
   "source": [
    " 2. They can be sliced, just like strings:"
   ]
  },
  {
   "cell_type": "code",
   "execution_count": null,
   "metadata": {
    "ExecuteTime": {
     "end_time": "2019-09-15T00:51:43.006755Z",
     "start_time": "2019-09-15T00:51:43.000507Z"
    }
   },
   "outputs": [],
   "source": [
    "(0, 1, 2, 3, 4, 5)[0]"
   ]
  },
  {
   "cell_type": "code",
   "execution_count": null,
   "metadata": {
    "ExecuteTime": {
     "end_time": "2019-09-15T00:51:43.170992Z",
     "start_time": "2019-09-15T00:51:43.164334Z"
    }
   },
   "outputs": [],
   "source": [
    "(0, 1, 2, 3, 4, 5)[1:4]"
   ]
  },
  {
   "cell_type": "markdown",
   "metadata": {},
   "source": [
    "Just like strings, the slicing indexes works according to the diagram above."
   ]
  },
  {
   "cell_type": "markdown",
   "metadata": {},
   "source": [
    "## Lists\n",
    "\n",
    "Documentation: [https://docs.python.org/3.7/library/stdtypes.html#lists](https://docs.python.org/3.7/library/stdtypes.html#lists)\n",
    "\n",
    "Now that we know about tuples, lists will be simple because they are almost exactly the same, just with square brackets:"
   ]
  },
  {
   "cell_type": "code",
   "execution_count": null,
   "metadata": {
    "ExecuteTime": {
     "end_time": "2019-09-15T00:51:44.047923Z",
     "start_time": "2019-09-15T00:51:44.041535Z"
    }
   },
   "outputs": [],
   "source": [
    "a = [0, 1, 2, 3]\n",
    "len(a)"
   ]
  },
  {
   "cell_type": "markdown",
   "metadata": {},
   "source": [
    "The biggest difference is that lists are 'mutable', and tuples are not.\n",
    "\n",
    "WAT? \n",
    "That just means that lists can be edited, and tuples, like strings above, can not (without creating a new copy).\n",
    "\n",
    "The simplest thing to think about is adding new elements to your list:"
   ]
  },
  {
   "cell_type": "code",
   "execution_count": null,
   "metadata": {
    "ExecuteTime": {
     "end_time": "2019-09-15T00:51:44.754807Z",
     "start_time": "2019-09-15T00:51:44.749637Z"
    }
   },
   "outputs": [],
   "source": [
    "print(a) # from above"
   ]
  },
  {
   "cell_type": "code",
   "execution_count": null,
   "metadata": {
    "ExecuteTime": {
     "end_time": "2019-09-15T00:51:44.916151Z",
     "start_time": "2019-09-15T00:51:44.910864Z"
    }
   },
   "outputs": [],
   "source": [
    "a.append(4)\n",
    "print(a)"
   ]
  },
  {
   "cell_type": "markdown",
   "metadata": {},
   "source": [
    "What if we tried to do that with tuples?"
   ]
  },
  {
   "cell_type": "code",
   "execution_count": null,
   "metadata": {
    "ExecuteTime": {
     "end_time": "2019-09-15T00:51:45.441767Z",
     "start_time": "2019-09-15T00:51:45.428560Z"
    }
   },
   "outputs": [],
   "source": [
    "t = (0, 1, 2, 3)\n",
    "print(t)\n",
    "t.append(4)\n",
    "print(t)"
   ]
  },
  {
   "cell_type": "markdown",
   "metadata": {},
   "source": [
    "Don't you love exceptions? \n",
    "They tell us what went wrong, sometimes in ways only helpful if you know Python already.\n",
    "But that's why we're here, right?\n",
    "\n",
    "Converting from tuples to list and vice-versa is easy:"
   ]
  },
  {
   "cell_type": "code",
   "execution_count": null,
   "metadata": {
    "ExecuteTime": {
     "end_time": "2019-09-15T00:51:46.664344Z",
     "start_time": "2019-09-15T00:51:46.657873Z"
    }
   },
   "outputs": [],
   "source": [
    "tuple_var = (1, 2, 3, 4)\n",
    "list_var = list(tuple_var)\n",
    "new_tuple_var = tuple(list_var)\n",
    "type(tuple_var), type(list_var), type(new_tuple_var) # the type function is neato!"
   ]
  },
  {
   "cell_type": "markdown",
   "metadata": {},
   "source": [
    "And even if the elements match, they still aren't equal:"
   ]
  },
  {
   "cell_type": "code",
   "execution_count": null,
   "metadata": {
    "ExecuteTime": {
     "end_time": "2019-09-15T00:51:47.189433Z",
     "start_time": "2019-09-15T00:51:47.183775Z"
    }
   },
   "outputs": [],
   "source": [
    "tuple_var == list_var"
   ]
  },
  {
   "cell_type": "markdown",
   "metadata": {},
   "source": [
    "***TODO***\n",
    "\n",
    " * [ ] Check out the documentation for what we can do with lists [operations](https://docs.python.org/3.7/library/stdtypes.html#common-sequence-operations) and [manipulation](https://docs.python.org/3.7/library/stdtypes.html#mutable-sequence-types)."
   ]
  },
  {
   "cell_type": "markdown",
   "metadata": {},
   "source": [
    "## Dictionaries\n",
    "\n",
    "Documentation: [https://docs.python.org/3.7/library/stdtypes.html#mapping-types-dict](https://docs.python.org/3.7/library/stdtypes.html#mapping-types-dict)\n",
    "\n",
    "Dictionaries are one of the coolest things about Python, hands down.\n",
    "If you care to look under the hood, you should be amazed.\n",
    "But do that later, for now, let's just play with them.\n",
    "\n",
    "Dictionaries are basically lists with names, instead of indexes. \n",
    "Remember when we were indexing lists:"
   ]
  },
  {
   "cell_type": "code",
   "execution_count": null,
   "metadata": {
    "ExecuteTime": {
     "end_time": "2019-09-15T00:51:48.430982Z",
     "start_time": "2019-09-15T00:51:48.424658Z"
    }
   },
   "outputs": [],
   "source": [
    "[0, 1, 2, 3][0]"
   ]
  },
  {
   "cell_type": "markdown",
   "metadata": {},
   "source": [
    "The logic here is \"get the 0th index of the list\".\n",
    "Well what if we don't want to use numbers to index?\n",
    "What if we want to use names?\n",
    "\n",
    "Answer: Dictionaries."
   ]
  },
  {
   "cell_type": "code",
   "execution_count": null,
   "metadata": {
    "ExecuteTime": {
     "end_time": "2019-09-15T01:06:44.031229Z",
     "start_time": "2019-09-15T01:06:44.024998Z"
    }
   },
   "outputs": [],
   "source": [
    "a = {'key': 'value'}\n",
    "a['key']"
   ]
  },
  {
   "cell_type": "markdown",
   "metadata": {},
   "source": [
    "What this does is 'search' the dictionary a for the key 'key', and return whatever it finds.\n",
    "\n",
    "<br />\n",
    "<div style=\"font-size:90%\">Note for the curious: the search is actually not a search, but a <a href=\"https://stackoverflow.com/a/114831\" target=_blank>hash lookup</a>, which means it's super speedy. Isn't that awesome? Ignore this if it didn't make immediate sense. Just remember it's fast.</div>\n",
    "\n",
    "We can add to dictionaries by just assigning values to the key:"
   ]
  },
  {
   "cell_type": "code",
   "execution_count": null,
   "metadata": {
    "ExecuteTime": {
     "end_time": "2019-09-15T01:06:44.342274Z",
     "start_time": "2019-09-15T01:06:44.336232Z"
    }
   },
   "outputs": [],
   "source": [
    "print(\"Before:\", a)\n",
    "a['new key'] = \"new value\"\n",
    "print(\"After: \", a)"
   ]
  },
  {
   "cell_type": "markdown",
   "metadata": {},
   "source": [
    "What can be used as a key, I hear you ask?\n",
    "Anything ['hashable'](https://docs.python.org/3.7/glossary.html#term-hashable), so strings, numbers, simple tuples (with just strings or numbers), but not lists or other dicts:"
   ]
  },
  {
   "cell_type": "code",
   "execution_count": null,
   "metadata": {
    "ExecuteTime": {
     "end_time": "2019-09-15T01:06:44.611870Z",
     "start_time": "2019-09-15T01:06:44.605140Z"
    }
   },
   "outputs": [],
   "source": [
    "a[0] = \"Zero value\"\n",
    "print(a)\n",
    "a[0]"
   ]
  },
  {
   "cell_type": "code",
   "execution_count": null,
   "metadata": {
    "ExecuteTime": {
     "end_time": "2019-09-15T01:06:44.757885Z",
     "start_time": "2019-09-15T01:06:44.751296Z"
    }
   },
   "outputs": [],
   "source": [
    "a[(0, 1, 'string')] = \"Because why not?\"\n",
    "a"
   ]
  },
  {
   "cell_type": "markdown",
   "metadata": {},
   "source": [
    "Okay, that last one is annoying, let's get rid of it:"
   ]
  },
  {
   "cell_type": "code",
   "execution_count": null,
   "metadata": {
    "ExecuteTime": {
     "end_time": "2019-09-15T01:06:45.615755Z",
     "start_time": "2019-09-15T01:06:45.609488Z"
    }
   },
   "outputs": [],
   "source": [
    "del a[(0, 1, 'string')]\n",
    "a"
   ]
  },
  {
   "cell_type": "markdown",
   "metadata": {},
   "source": [
    "And of course, we can nest dictionaries:"
   ]
  },
  {
   "cell_type": "code",
   "execution_count": null,
   "metadata": {
    "ExecuteTime": {
     "end_time": "2019-09-15T01:06:46.674426Z",
     "start_time": "2019-09-15T01:06:46.668283Z"
    }
   },
   "outputs": [],
   "source": [
    "a['dict key'] = {'sub-key': 100}\n",
    "a"
   ]
  },
  {
   "cell_type": "markdown",
   "metadata": {},
   "source": [
    "And then we can access it with two indexes:"
   ]
  },
  {
   "cell_type": "code",
   "execution_count": null,
   "metadata": {
    "ExecuteTime": {
     "end_time": "2019-09-15T01:06:58.938415Z",
     "start_time": "2019-09-15T01:06:58.932215Z"
    }
   },
   "outputs": [],
   "source": [
    "a['dict key']['sub-key']"
   ]
  },
  {
   "cell_type": "markdown",
   "metadata": {},
   "source": [
    "Now here's where dictionaries get tricky: variables pointing to dictionaries.\n",
    "\n",
    "Remember up in the variables section I called variables 'pointers'?\n",
    "No? Scroll up, I'll wait.\n",
    "\n",
    "What this means for dictionaries, is that if two variables point to the SAME dictionary, changing ones changes the other.\n",
    "This is because they point to memory, you change the memory, that will be seen by the other pointer:"
   ]
  },
  {
   "cell_type": "code",
   "execution_count": null,
   "metadata": {
    "ExecuteTime": {
     "end_time": "2019-09-15T01:09:23.718314Z",
     "start_time": "2019-09-15T01:09:23.712930Z"
    }
   },
   "outputs": [],
   "source": [
    "b = a\n",
    "print(b)"
   ]
  },
  {
   "cell_type": "code",
   "execution_count": null,
   "metadata": {
    "ExecuteTime": {
     "end_time": "2019-09-15T01:09:41.681100Z",
     "start_time": "2019-09-15T01:09:41.675063Z"
    }
   },
   "outputs": [],
   "source": [
    "b['key'] = 'changed original value'\n",
    "print(b)\n",
    "print(a)"
   ]
  },
  {
   "cell_type": "code",
   "execution_count": null,
   "metadata": {
    "ExecuteTime": {
     "end_time": "2019-09-15T01:10:17.026424Z",
     "start_time": "2019-09-15T01:10:17.019547Z"
    }
   },
   "outputs": [],
   "source": [
    "b['new b key'] = [0, 1, 2, 3]\n",
    "a"
   ]
  },
  {
   "cell_type": "markdown",
   "metadata": {},
   "source": [
    "This also means we can point to sub-dictionaries:"
   ]
  },
  {
   "cell_type": "code",
   "execution_count": null,
   "metadata": {
    "ExecuteTime": {
     "end_time": "2019-09-15T01:11:05.393826Z",
     "start_time": "2019-09-15T01:11:05.386662Z"
    }
   },
   "outputs": [],
   "source": [
    "c = a['dict key']\n",
    "c['new sub-dict key'] = True\n",
    "a"
   ]
  },
  {
   "cell_type": "markdown",
   "metadata": {},
   "source": [
    "Like lists, dictionaries also have a 'length', which is the number of keys in them.\n",
    "Note: This does not count sub-dictionaries:"
   ]
  },
  {
   "cell_type": "code",
   "execution_count": null,
   "metadata": {
    "ExecuteTime": {
     "end_time": "2019-09-15T01:16:09.784257Z",
     "start_time": "2019-09-15T01:16:09.778154Z"
    }
   },
   "outputs": [],
   "source": [
    "len(a)"
   ]
  },
  {
   "cell_type": "markdown",
   "metadata": {},
   "source": [
    "Lastly (not actually, dictionaries are EVERYWHERE, so we'll see them a lot more below), the components of dictionaries are twofold:\n",
    "\n",
    "  1. keys: the keys in the dictionary. Note: does not descend into sub-dictionaries:"
   ]
  },
  {
   "cell_type": "code",
   "execution_count": null,
   "metadata": {
    "ExecuteTime": {
     "end_time": "2019-09-15T01:13:56.121905Z",
     "start_time": "2019-09-15T01:13:56.115142Z"
    }
   },
   "outputs": [],
   "source": [
    "list(a.keys())"
   ]
  },
  {
   "cell_type": "markdown",
   "metadata": {},
   "source": [
    " 2. values: the values associated with those keys:"
   ]
  },
  {
   "cell_type": "code",
   "execution_count": null,
   "metadata": {
    "ExecuteTime": {
     "end_time": "2019-09-15T01:14:11.748519Z",
     "start_time": "2019-09-15T01:14:11.742090Z"
    }
   },
   "outputs": [],
   "source": [
    "list(a.values())"
   ]
  },
  {
   "cell_type": "markdown",
   "metadata": {},
   "source": [
    "And we can get both at once with `.items()`:"
   ]
  },
  {
   "cell_type": "code",
   "execution_count": null,
   "metadata": {
    "ExecuteTime": {
     "end_time": "2019-09-15T01:14:41.459461Z",
     "start_time": "2019-09-15T01:14:41.452566Z"
    }
   },
   "outputs": [],
   "source": [
    "list(a.items())"
   ]
  },
  {
   "cell_type": "markdown",
   "metadata": {},
   "source": [
    "***TODO***:\n",
    " * [ ] Look at that last result, what does .items() return?\n",
    " * [ ] What happens if the key doesn't exist, and you try to access it? Try a['no key'].\n",
    " * [ ] Check out the dictionary's [.get()](https://docs.python.org/3.7/library/stdtypes.html#dict.get) function. How could that help the point above?\n",
    " * [ ] Play around with dictionaries below, and get comfortable with them. We will use them a lot to collect data."
   ]
  },
  {
   "cell_type": "code",
   "execution_count": null,
   "metadata": {
    "ExecuteTime": {
     "end_time": "2019-09-15T01:19:19.633810Z",
     "start_time": "2019-09-15T01:19:19.623066Z"
    }
   },
   "outputs": [],
   "source": [
    "a['no key']"
   ]
  },
  {
   "cell_type": "markdown",
   "metadata": {},
   "source": [
    "# Program Control Logic\n",
    "\n",
    "Documentation: https://docs.python.org/3/reference/index.html\n",
    "\n",
    "Now we know the basics of data in Python, it's time to move to the logic of programming.\n",
    "I don't expect to teach you that here, this is just the syntax behind the typical logical components you would expect.\n",
    "\n",
    "The first thing to know is about whitespace.\n",
    "Python defines 'blocks' by whitespace (tabs or spaces).\n",
    "This means where C would say:\n",
    "\n",
    "```c\n",
    "if (x > 5) {\n",
    "    sprintf(\"String\");\n",
    "}\n",
    "sprintf(\"Always prints\");\n",
    "```\n",
    "\n",
    "Python's version would read:\n",
    "\n",
    "```python\n",
    "if x > 5:\n",
    "    print(\"String)\n",
    "print(\"Always prints\")\n",
    "```\n",
    "\n",
    "Note two things:\n",
    "\n",
    "  1. Python doesn't use {} to denote what belongs to the `if` statement (i.e. what will run if True), it uses the indent. To 'end' the block, just don't indent the code.\n",
    "  2. Python doesn't use ; to end a command. Python assumes one command per line, which you can extend with `()` or `\\` (like we saw above in strings):"
   ]
  },
  {
   "cell_type": "code",
   "execution_count": null,
   "metadata": {
    "ExecuteTime": {
     "end_time": "2019-09-15T01:28:02.897769Z",
     "start_time": "2019-09-15T01:28:02.891590Z"
    }
   },
   "outputs": [],
   "source": [
    "\"string we want to count t's in\"\\\n",
    ".count('t')"
   ]
  },
  {
   "cell_type": "code",
   "execution_count": null,
   "metadata": {
    "ExecuteTime": {
     "end_time": "2019-09-15T01:28:57.810248Z",
     "start_time": "2019-09-15T01:28:57.804096Z"
    }
   },
   "outputs": [],
   "source": [
    "(\"string we want to count t's in\" # note, no \\, because python knows we're in a () expression,\n",
    " .count('t'))                     # so it will keep searching until it finds the closing )."
   ]
  },
  {
   "cell_type": "markdown",
   "metadata": {},
   "source": [
    "## If-then-else\n",
    "\n",
    "Documentation: [https://docs.python.org/3/reference/compound_stmts.html#the-if-statement](https://docs.python.org/3/reference/compound_stmts.html#the-if-statement)\n",
    "\n",
    "If-then-else controls what blocks of code to run given certain (boolean) conditions:"
   ]
  },
  {
   "cell_type": "code",
   "execution_count": null,
   "metadata": {
    "ExecuteTime": {
     "end_time": "2019-09-15T01:37:48.658327Z",
     "start_time": "2019-09-15T01:37:48.651322Z"
    }
   },
   "outputs": [],
   "source": [
    "a = 5\n",
    "if a > 5:\n",
    "    # This is the then part of the first if, it's indented 4 spaces.\n",
    "    print(\"A is greater than 5\")\n",
    "elif a >= 3:\n",
    "    # Note: this will not run if a is 6, so effectively this is also\n",
    "    # a <= 5. That's because if-else runs in order.\n",
    "    print(\"A is greater or equal to 3\")\n",
    "else:\n",
    "    # This runs if none of the above conditions are True.\n",
    "    print(\"If we get here, a must be less than 3.\")"
   ]
  },
  {
   "cell_type": "markdown",
   "metadata": {},
   "source": [
    "***TODO***\n",
    "  * [ ] Play around with the above logic, changing values of a.\n",
    "  * [ ] Check out '[ternary](https://docs.python.org/3/reference/expressions.html#conditional-expressions)' operators here, so you understand the following:"
   ]
  },
  {
   "cell_type": "code",
   "execution_count": null,
   "metadata": {
    "ExecuteTime": {
     "end_time": "2019-09-15T01:41:24.583179Z",
     "start_time": "2019-09-15T01:41:24.577022Z"
    }
   },
   "outputs": [],
   "source": [
    "a = 5\n",
    "b = \"a must be < 3\" if a < 3 else \"a must be >= 3\"\n",
    "print(f\"a-->{a}, b-->{b}\")"
   ]
  },
  {
   "cell_type": "markdown",
   "metadata": {},
   "source": [
    "## For loops\n",
    "\n",
    "Documentation: [https://docs.python.org/3/reference/compound_stmts.html#the-for-statement](https://docs.python.org/3/reference/compound_stmts.html#the-for-statement)\n",
    "\n",
    "For loops 'loop' over an iterable.\n",
    "Remember that's like a list, from above:"
   ]
  },
  {
   "cell_type": "code",
   "execution_count": null,
   "metadata": {
    "ExecuteTime": {
     "end_time": "2019-09-15T01:43:58.179443Z",
     "start_time": "2019-09-15T01:43:58.172503Z"
    }
   },
   "outputs": [],
   "source": [
    "for i in [0, 1, 2]:\n",
    "    print(i, i + 1)"
   ]
  },
  {
   "cell_type": "markdown",
   "metadata": {},
   "source": [
    "If you remember from above, dictionary items return a list of (key, value), so we can loop over those:"
   ]
  },
  {
   "cell_type": "code",
   "execution_count": null,
   "metadata": {
    "ExecuteTime": {
     "end_time": "2019-09-15T01:50:00.036040Z",
     "start_time": "2019-09-15T01:50:00.029152Z"
    }
   },
   "outputs": [],
   "source": [
    "a = {'key1': 'value1', 'key2':'value2'}\n",
    "for _key, _value in a.items():\n",
    "    print(f\"[{_key}] = {_value}\")"
   ]
  },
  {
   "cell_type": "markdown",
   "metadata": {},
   "source": [
    "There are also magical things called iterators (yes, same `iterator` we talked about with lists, the difference is unimportant at this point).\n",
    "Iterators are specifically designed to be 'looped' over.\n",
    "\n",
    "One example is `range(start, stop, skip)`, which just returns the numbers from `start` to `stop` (not inclusive), incrementing by `skip`:"
   ]
  },
  {
   "cell_type": "code",
   "execution_count": null,
   "metadata": {
    "ExecuteTime": {
     "end_time": "2019-09-15T01:52:24.883924Z",
     "start_time": "2019-09-15T01:52:24.878126Z"
    }
   },
   "outputs": [],
   "source": [
    "for i in range(5, 25, 10):\n",
    "    print(i)\n",
    "# won't print 15, because stop is not included"
   ]
  },
  {
   "cell_type": "markdown",
   "metadata": {},
   "source": [
    "But a more common use is to omit the start and skip, and just enter the stop (this is rare, but for `range` you don't have to specify that you are skipping the first argument):"
   ]
  },
  {
   "cell_type": "code",
   "execution_count": null,
   "metadata": {
    "ExecuteTime": {
     "end_time": "2019-09-15T01:52:24.883924Z",
     "start_time": "2019-09-15T01:52:24.878126Z"
    }
   },
   "outputs": [],
   "source": [
    "for i in range(2):\n",
    "    print(i)"
   ]
  },
  {
   "cell_type": "markdown",
   "metadata": {},
   "source": [
    "These iterators are scattered throughout almost every python script or library, so it's probably best to be very comfortable with them.\n",
    "(For the pedantic, yes range isn't an iterator, but it gets the point across.)\n",
    "\n",
    "One thing about iterators is that they are NOT lists.\n",
    "To see what this means in action:"
   ]
  },
  {
   "cell_type": "code",
   "execution_count": null,
   "metadata": {},
   "outputs": [],
   "source": [
    "range(2)"
   ]
  },
  {
   "cell_type": "markdown",
   "metadata": {},
   "source": [
    "Notice that it doesn't print out the list of 0 - 9?\n",
    "But it will if we ask it for its whole list:"
   ]
  },
  {
   "cell_type": "code",
   "execution_count": null,
   "metadata": {},
   "outputs": [],
   "source": [
    "list(range(2))"
   ]
  },
  {
   "cell_type": "markdown",
   "metadata": {},
   "source": [
    "***TODO***:\n",
    "  * [ ] Try loops with `break` and `continue` keywords in them ([docs](https://docs.python.org/3/reference/simple_stmts.html#break)). We use those a lot!\n",
    "  * [ ] Check out the else statement that for loops have. Play around with it to learn what it does, or check the [docs](https://docs.python.org/3/reference/compound_stmts.html#the-for-statement)."
   ]
  },
  {
   "cell_type": "code",
   "execution_count": null,
   "metadata": {},
   "outputs": [],
   "source": [
    "for i in range(3):\n",
    "    if i > 1: # try changing this 1 to 5\n",
    "        break\n",
    "    print(i)\n",
    "else:\n",
    "    print(\"What have we here?\")"
   ]
  },
  {
   "cell_type": "markdown",
   "metadata": {},
   "source": [
    "## List-comprehension\n",
    "\n",
    "Documentation: [https://docs.python.org/3/tutorial/datastructures.html#list-comprehensions](https://docs.python.org/3/tutorial/datastructures.html#list-comprehensions)\n",
    "\n",
    "List comprehension is one of the coolest things in Python.\n",
    "You can think of them like one-line for-loops:"
   ]
  },
  {
   "cell_type": "code",
   "execution_count": null,
   "metadata": {},
   "outputs": [],
   "source": [
    "[i * 5 for i in range(5)]"
   ]
  },
  {
   "cell_type": "markdown",
   "metadata": {},
   "source": [
    "They are really convenient for doing things like filtering lists by using the if statement:"
   ]
  },
  {
   "cell_type": "code",
   "execution_count": null,
   "metadata": {},
   "outputs": [],
   "source": [
    "str_list = \"the quick brown fox jumped over the lazy dog\".split() # split with no arguments splits string by whitespace.\n",
    "[s for s in str_list if s != 'the']"
   ]
  },
  {
   "cell_type": "markdown",
   "metadata": {},
   "source": [
    "Or for changing some values in the list without a big for loop:"
   ]
  },
  {
   "cell_type": "code",
   "execution_count": null,
   "metadata": {},
   "outputs": [],
   "source": [
    "[s if s=='the' else s.upper() for s in str_list]"
   ]
  },
  {
   "cell_type": "markdown",
   "metadata": {},
   "source": [
    "The equivalent, without a for loop, might look like:"
   ]
  },
  {
   "cell_type": "code",
   "execution_count": null,
   "metadata": {},
   "outputs": [],
   "source": [
    "new_str_list = str_list.copy()\n",
    "for i,s in enumerate(new_str_list): # Google python enumerate to learn what it does.\n",
    "    if s != 'the':\n",
    "        new_str_list[i] = s.upper()\n",
    "new_str_list"
   ]
  },
  {
   "cell_type": "markdown",
   "metadata": {},
   "source": [
    "***TODO****\n",
    "  * [ ] Play with the following examples, to get comfortable with list comprehension.\n",
    "  * [ ] Glance over the data structures documentation [here](https://docs.python.org/3/tutorial/datastructures.html). It's a great reference."
   ]
  },
  {
   "cell_type": "code",
   "execution_count": null,
   "metadata": {},
   "outputs": [],
   "source": [
    "[f\"{' '*i}{s}\" for i,s in enumerate(str_list)]"
   ]
  },
  {
   "cell_type": "code",
   "execution_count": null,
   "metadata": {},
   "outputs": [],
   "source": [
    "[f\"{' '*(10 - len(s))}{s}\" for i,s in enumerate(str_list)]"
   ]
  },
  {
   "cell_type": "code",
   "execution_count": null,
   "metadata": {},
   "outputs": [],
   "source": [
    "# Dictionary comprehension!!! But where'd the 0 go?\n",
    "{s: i for i,s in enumerate(str_list)}"
   ]
  },
  {
   "cell_type": "code",
   "execution_count": null,
   "metadata": {},
   "outputs": [],
   "source": [
    "# list comprehensions with () return iterators. Try putting list out front.\n",
    "(s.replace('t', 'T') for s in str_list)"
   ]
  },
  {
   "cell_type": "code",
   "execution_count": null,
   "metadata": {},
   "outputs": [],
   "source": [
    "max([len(s) for s in str_list])"
   ]
  },
  {
   "cell_type": "code",
   "execution_count": null,
   "metadata": {},
   "outputs": [],
   "source": [
    "# replace dict with list to see what zip does. This isn't a comprehension, sorry.\n",
    "dict(zip(str_list, 'abcdefg'))"
   ]
  },
  {
   "cell_type": "markdown",
   "metadata": {},
   "source": [
    "# Functions\n",
    "\n",
    "Documentation: [https://docs.python.org/3/reference/compound_stmts.html#function-definitions](https://docs.python.org/3/reference/compound_stmts.html#function-definitions)\n",
    "\n",
    "Functions are our bread and butter.\n",
    "You will thank yourself if you write good functions, because they will be reusable.\n",
    "\n",
    "Functions basically wrap some code in a name which allows you to reuse that code anywhere:"
   ]
  },
  {
   "cell_type": "code",
   "execution_count": null,
   "metadata": {},
   "outputs": [],
   "source": [
    "def FUNction(): # def tells Python you're making a function, and the name before the () is the name of the function\n",
    "    print(\"Functions are my happy place.\")\n",
    "FUNction()"
   ]
  },
  {
   "cell_type": "markdown",
   "metadata": {},
   "source": [
    "Functions are really useful when you start passing in  parameters.\n",
    "Think of parameters like $x$ in the math function $f(x)=x^2$:"
   ]
  },
  {
   "cell_type": "code",
   "execution_count": null,
   "metadata": {},
   "outputs": [],
   "source": [
    "def f(x):\n",
    "    return x**2\n",
    "f(5)"
   ]
  },
  {
   "cell_type": "markdown",
   "metadata": {},
   "source": [
    "Notice the return statement, that exits the function and returns whatever you write after return.\n",
    "Our first function didn't have a return statement, so it returned None:"
   ]
  },
  {
   "cell_type": "code",
   "execution_count": null,
   "metadata": {},
   "outputs": [],
   "source": [
    "a = FUNction()\n",
    "print(f'a = {a}')"
   ]
  },
  {
   "cell_type": "markdown",
   "metadata": {},
   "source": [
    "There are two ways to pass in arguments to functions, position and keyword.\n",
    "Position arguments have to come before keyword, and are required, meaning when calling the function you must supply values for all positional arguments.\n",
    "Keyword arguments have an = sign, and must have a default value, because they are not required.\n",
    "\n",
    "Here's all that in action:"
   ]
  },
  {
   "cell_type": "code",
   "execution_count": null,
   "metadata": {},
   "outputs": [],
   "source": [
    "def f(x, y, math_func=\"power\", noisy=False):\n",
    "    if math_func == 'power':\n",
    "        return_val = x ** y\n",
    "    elif math_func.lower().startswith('mul'):\n",
    "        return_val = x * y\n",
    "    elif math_func.lower().startswith('div'):\n",
    "        return_val = x / y\n",
    "    elif math_func.lower().startswith('add'):\n",
    "        return_val = x + y\n",
    "    elif math_func.lower().startswith('sub'):\n",
    "        return_val = x - y\n",
    "    else:\n",
    "        # We can throw our own exceptions to tell the user they messed up\n",
    "        raise ValueError(\"Sorry, only power, multiply, divide, add, subtract allowed. \" # we can split strings like this\n",
    "                         \"You passed: {}\".format(math_func))\n",
    "        \n",
    "    if noisy:\n",
    "        print(return_val)\n",
    "    \n",
    "    return return_val"
   ]
  },
  {
   "cell_type": "code",
   "execution_count": null,
   "metadata": {},
   "outputs": [],
   "source": [
    "f() # this error is actually helpful!"
   ]
  },
  {
   "cell_type": "code",
   "execution_count": null,
   "metadata": {},
   "outputs": [],
   "source": [
    "f(2, 3) # Why is the answer 8?"
   ]
  },
  {
   "cell_type": "code",
   "execution_count": null,
   "metadata": {},
   "outputs": [],
   "source": [
    "f(2, 3, math_func='multiply')"
   ]
  },
  {
   "cell_type": "markdown",
   "metadata": {},
   "source": [
    "We don't need to name our keyword arguments, but we have to know the right order if we don't:"
   ]
  },
  {
   "cell_type": "code",
   "execution_count": null,
   "metadata": {},
   "outputs": [],
   "source": [
    "f(2, 5, 'subtract', noisy=True)"
   ]
  },
  {
   "cell_type": "code",
   "execution_count": null,
   "metadata": {},
   "outputs": [],
   "source": [
    "f(2, 5, noisy=False, math_func='subtract')"
   ]
  },
  {
   "cell_type": "code",
   "execution_count": null,
   "metadata": {},
   "outputs": [],
   "source": [
    "f(2, 5, 'error') # try out our error, can you see why it might be useful to write descriptive errors?"
   ]
  },
  {
   "cell_type": "markdown",
   "metadata": {},
   "source": [
    "One thing to note, and this might not be useful now, is that we can pass dictionaries and lists into our functions to act as the arguments.\n",
    "The magic beans to make this work is `*` (sometimes called 'splat') for lists, and `**` for dictionaries:"
   ]
  },
  {
   "cell_type": "code",
   "execution_count": null,
   "metadata": {},
   "outputs": [],
   "source": [
    "pos_args = [2, 5]\n",
    "key_args = {'math_func': 'subtract'}\n",
    "f(*pos_args, **key_args)"
   ]
  },
  {
   "cell_type": "markdown",
   "metadata": {},
   "source": [
    "That might be confusing, so don't worry about it.\n",
    "Just file it away in your brain, and one day it will become useful and you'll scream \"EUREKA\" and love your life.\n",
    "\n",
    "The flip side of that same splat nonsense is actually in defining a function (like print, actually):"
   ]
  },
  {
   "cell_type": "code",
   "execution_count": null,
   "metadata": {},
   "outputs": [],
   "source": [
    "def crazy(*args, **kwargs): # args-kwargs is very google-able, that's almost always what these are named\n",
    "    print(\"args is:\", type(args))\n",
    "    print(\"kwargs is:\", type(kwargs))\n",
    "    \n",
    "    for one_arg in enumerate(args):\n",
    "        print(f\"Argument {i}: {one_arg}\")\n",
    "    \n",
    "    for arg_key, arg_val in kwargs.items():\n",
    "        print(f\"Argument {arg_key}: {arg_val}\")"
   ]
  },
  {
   "cell_type": "code",
   "execution_count": null,
   "metadata": {},
   "outputs": [],
   "source": [
    "crazy(1, 2, 3, 'and to the', 4, this=\"that\", up=\"down\")"
   ]
  },
  {
   "cell_type": "markdown",
   "metadata": {},
   "source": [
    "# Reading files\n",
    "\n",
    "Documentation: [https://docs.python.org/3.7/library/functions.html?highlight=open#open](https://docs.python.org/3.7/library/functions.html?highlight=open#open)\n",
    "\n",
    "Reading files in Python is pretty hard, try and follow along:"
   ]
  },
  {
   "cell_type": "code",
   "execution_count": null,
   "metadata": {},
   "outputs": [],
   "source": [
    "with open(\"data/greatgatsby.txt\") as fh:\n",
    "    text = fh.read()"
   ]
  },
  {
   "cell_type": "markdown",
   "metadata": {},
   "source": [
    "That's it.\n",
    "\n",
    "Now we can view what we've read in:"
   ]
  },
  {
   "cell_type": "code",
   "execution_count": null,
   "metadata": {},
   "outputs": [],
   "source": [
    "print(text[:1000].strip().split('\\n')[0])"
   ]
  },
  {
   "cell_type": "markdown",
   "metadata": {},
   "source": [
    "There are must more complexities, like file encoding, error handling, etc.\n",
    "But for now, that's all we need to know.\n",
    "\n",
    "In later lessons, we'll use something else to read/write files, because given that most of our data is tabulated, parsing all that by hand is wasted effort."
   ]
  },
  {
   "cell_type": "markdown",
   "metadata": {},
   "source": [
    "***TODO***:\n",
    "  * [ ] Sit for a moment and reflect on how wonderful Python is.\n",
    "  * [ ] Read this web comic: [https://xkcd.com/353/](https://xkcd.com/353/)\n",
    "  * [ ] Try it yourself. \n",
    "  * [ ] Really, run that `import` command.\n",
    "  * [ ] Then try `import this`"
   ]
  },
  {
   "cell_type": "markdown",
   "metadata": {},
   "source": [
    "# Viewing data\n",
    "\n",
    "Documentation: [https://ipython.readthedocs.io/en/stable/api/generated/IPython.display.html](https://ipython.readthedocs.io/en/stable/api/generated/IPython.display.html)\n",
    "\n",
    "This is Jupyter Notebook specific, but there are some great commands for viewing data.\n",
    "\n",
    "We'll start with things like text, which is pretty straight forward:"
   ]
  },
  {
   "cell_type": "code",
   "execution_count": null,
   "metadata": {},
   "outputs": [],
   "source": [
    "try:\n",
    "    # having emoticons in our prints will drive us crazy. Let's undo that.\n",
    "    print = _print\n",
    "except:\n",
    "    pass"
   ]
  },
  {
   "cell_type": "code",
   "execution_count": null,
   "metadata": {},
   "outputs": [],
   "source": [
    "print(text[:5000])"
   ]
  },
  {
   "cell_type": "markdown",
   "metadata": {},
   "source": [
    "5000 characters of text is pretty long, notice how Jupyter condensed it into a little scrollable box?\n",
    "You can click the left side of that box to expand it.\n",
    "\n",
    "To get rid of long boxes, I enter command mode (press Escape), and type `my`\n",
    "\n",
    "But what if we want to display a webpage?\n",
    "For example, an 8-K?"
   ]
  },
  {
   "cell_type": "code",
   "execution_count": null,
   "metadata": {},
   "outputs": [],
   "source": [
    "with open(\"data/8-K.html\") as fh:\n",
    "    html = fh.read()"
   ]
  },
  {
   "cell_type": "code",
   "execution_count": null,
   "metadata": {},
   "outputs": [],
   "source": [
    "len(html)"
   ]
  },
  {
   "cell_type": "code",
   "execution_count": null,
   "metadata": {},
   "outputs": [],
   "source": [
    "print(html[:1000])"
   ]
  },
  {
   "cell_type": "markdown",
   "metadata": {},
   "source": [
    "Eww. Let's fix that."
   ]
  },
  {
   "cell_type": "code",
   "execution_count": null,
   "metadata": {},
   "outputs": [],
   "source": [
    "# Imports tell python we want to use another library's functionality\n",
    "from IPython.display import display_html\n",
    "display_html(html, raw=True)"
   ]
  },
  {
   "cell_type": "markdown",
   "metadata": {},
   "source": [
    "When we get into parsing HTML documents, specifically sub-sections of them, this will be IMMENSELY helpful.\n",
    "\n",
    "There are lots more display methods in Notebooks, you can read about them in the Documentation above."
   ]
  },
  {
   "cell_type": "markdown",
   "metadata": {},
   "source": [
    "# Regular Expressions\n",
    "\n",
    "Documentation: [https://docs.python.org/3.6/library/re.html](https://docs.python.org/3.6/library/re.html)\n",
    "\n",
    "Bookmark that, seriously.\n",
    "It's my most visited doc page.\n",
    "\n",
    "Regular expressions are special 'programs' to match strings that are 'regular'.\n",
    "What this means in general is that if you want to find some string, but there are some minor variations in the format, regular expressions allow you to define what you're looking for in general.\n",
    "For example, if we want to find \"earnings announcement\", but also \"earnings-announcements\" or \"Earnings Announcement\", we would write:"
   ]
  },
  {
   "cell_type": "code",
   "execution_count": null,
   "metadata": {},
   "outputs": [],
   "source": [
    "# load the regular expression library\n",
    "import re"
   ]
  },
  {
   "cell_type": "code",
   "execution_count": null,
   "metadata": {},
   "outputs": [],
   "source": [
    "re_earn_annc = re.compile('earnings[\\s-]+announcements?', re.I)"
   ]
  },
  {
   "cell_type": "code",
   "execution_count": null,
   "metadata": {},
   "outputs": [],
   "source": [
    "search_string = '''\n",
    "For example, if we want to find \"earnings announcement\",\n",
    "but also \"earnings-announcements\" or \"Earnings \n",
    "Announcement\", we would write:'''"
   ]
  },
  {
   "cell_type": "code",
   "execution_count": null,
   "metadata": {},
   "outputs": [],
   "source": [
    "re_earn_annc.findall(search_string)"
   ]
  },
  {
   "cell_type": "markdown",
   "metadata": {},
   "source": [
    "Learning regular expressions is a life-time pursuit, because as soon as you think you've figured it out, you come across a string that proves you wrong.\n",
    "\n",
    "Maybe this python tutorial might help: [https://docs.python.org/3/howto/regex.html](https://docs.python.org/3/howto/regex.html)"
   ]
  },
  {
   "cell_type": "markdown",
   "metadata": {},
   "source": [
    "# Extracting data\n",
    "\n",
    "So now you're a Python expert, let's get to some useful data-extraction."
   ]
  },
  {
   "cell_type": "markdown",
   "metadata": {},
   "source": [
    "***TODO***\n",
    "  1. Load the Great Gatsby text from above.\n",
    "  2. Look at the first 5000 characters of the file. Notice it has a header? Let's get rid of that.\n",
    "     1. Remove the header from the text, and start your new text variable at \"Title:      The Great Gatsby\"\n",
    "  1. If each tweet is 280 characters, how many tweets would it take to put the whole Great Gatsby on twitter?\n",
    "  1. How many words are in the text?\n",
    "  1. How many times does Gatsby show up?\n",
    "  1. How many capitalized words are there?\n",
    "  1. What's the most common word in the file?\n",
    "  1. Are there any numbers in the text? Which ones?\n",
    "  1. When are some significant dates in the book?"
   ]
  }
 ],
 "metadata": {
  "kernelspec": {
   "display_name": "Python 3",
   "language": "python",
   "name": "python3"
  },
  "language_info": {
   "codemirror_mode": {
    "name": "ipython",
    "version": 3
   },
   "file_extension": ".py",
   "mimetype": "text/x-python",
   "name": "python",
   "nbconvert_exporter": "python",
   "pygments_lexer": "ipython3",
   "version": "3.7.3"
  }
 },
 "nbformat": 4,
 "nbformat_minor": 2
}
