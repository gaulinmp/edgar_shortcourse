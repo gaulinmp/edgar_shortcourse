{
 "cells": [
  {
   "cell_type": "markdown",
   "metadata": {},
   "source": [
    "# How to make data and influence people\n",
    "\n",
    "This short course is intended to get you up and running on how to get any data you want.\n",
    "Our focus here is on downloading and scraping files from EDGAR, but it extends to any dataset on the web (or off).\n",
    "\n",
    "**Overview**\n",
    "\n",
    "  1. [Installing your Environment](#Installing-your-Environment)\n",
    "     1. [Downloading Anaconda](#Downloading)\n",
    "     1. [Installing Anaconda](#Installing)\n",
    "     1. [Installing Git](#Installing-Git)\n",
    "  1. [Testing things](#Testing-things)\n",
    "  1. [Setting up your Environment](#Setting-up-your-Environment)\n",
    "  1. [Extra Credit](#Extra-Credit)"
   ]
  },
  {
   "cell_type": "markdown",
   "metadata": {},
   "source": [
    "## Installing your Environment\n",
    "These instructions will set you up with a computer that is ready to download all the data!"
   ]
  },
  {
   "cell_type": "markdown",
   "metadata": {},
   "source": [
    "### Jargon\n",
    "\n",
    "Before we start installing, let's introduce some jargon.\n",
    "\n",
    "**terminal**: A text-entry method of controlling your computer. We use this to run python programs, because a .py file isn't like an executable (.exe) you can just double-click on and run. Well it can be, but that's for another day.\n",
    "   - If you use a Windows computer, I suggest you use [PowerShell](https://github.com/PowerShell/PowerShell) as your terminal.\n",
    "   - If you use macOS, I suggest you use [iTerm2](https://www.iterm2.com/) as your terminal.\n",
    "   - If you use Linux, you don't need my advice.\n",
    "   \n",
    "**Python**: The best language to program in, in my naive opinion. It is not a compiled language, meaning you don't need to know anything fancy to run it, other than typing `python program.py` into your *terminal*.\n",
    "\n",
    "**Anaconda**: a huge `.exe` file you can download from [here](https://www.anaconda.com/distribution/), which contains *Python*, but also every library that you might ever find useful for data-science work.\n",
    "\n",
    "**conda**: a *Python* program you run from your *terminal*, which installs packages for you.\n",
    "\n",
    "**pip**: Same as conda, but harder to use and covering a broader set of packages.\n",
    "\n",
    "**git**: A way of saving off versions of your code over time. Integrated into [github](https://github.com), which allows for public sharing of really anything, but usually code (WARNING: also an instant trigger word for Brian Cadman)."
   ]
  },
  {
   "cell_type": "markdown",
   "metadata": {},
   "source": [
    "### Downloading\n",
    "\n",
    "We will be installing [Anaconda](https://www.anaconda.com/distribution/) Python, and then some specific libraries to help us get EDGAR documents a bit more easily."
   ]
  },
  {
   "cell_type": "markdown",
   "metadata": {},
   "source": [
    "#### Downloading on Windows\n",
    "\n",
    "  1. Download the Anaconda executable from here: [www.anaconda.com/distribution/](https://www.anaconda.com/distribution/#download-section)\n",
    "     1. You want the Windows 64 bit version\n",
    "     1. You also want the Python 3.7 version.\n",
    "     1. It should look like this:\n",
    "\n",
    "  <img src=\"img/anaconda_windows.png\" alt=\"Download Anaconda: Windows 64bit Python 3.7\" style=\"width: 80%;\"/> "
   ]
  },
  {
   "cell_type": "markdown",
   "metadata": {},
   "source": [
    "#### Downloading on macOS\n",
    "\n",
    "  1. Download the Anaconda executable from here: [www.anaconda.com/distribution/](https://www.anaconda.com/distribution/#download-section)\n",
    "     1. You want the macOS 64 bit version\n",
    "     1. You also want the Python 3.7 version.\n",
    "     1. It should look like this (click the red boxes):\n",
    "\n",
    "  <img src=\"img/anaconda_osx.png\" alt=\"Download Anaconda: macOS 64bit Python 3.7\" style=\"width: 80%;\"/>"
   ]
  },
  {
   "cell_type": "markdown",
   "metadata": {},
   "source": [
    "#### Downloading on Linux\n",
    "\n",
    "  1. Download the Anaconda executable from here: [www.anaconda.com/distribution/](https://www.anaconda.com/distribution/#download-section)\n",
    "     1. You want the Linux 64 bit version\n",
    "     1. You also want the Python 3.7 version.\n",
    "     1. It should look like this (click the red boxes):\n",
    "\n",
    "  <img src=\"img/anaconda_linux.png\" alt=\"Download Anaconda: Linux 64bit Python 3.7\" style=\"width: 80%;\"/>"
   ]
  },
  {
   "cell_type": "markdown",
   "metadata": {},
   "source": [
    "### Installing\n",
    "\n",
    "I have images for installing on Windows, let's hope the other three platforms are similar. \n",
    "My general approach is that I accept the defaults, so that should work on the other platforms. \n",
    "I do have a note about Linux below.\n",
    "\n",
    "  1. Run the installer.\n",
    "  <img src=\"img/installation_1.png\" alt=\"Installer Welcome\" style=\"width: 500px;\"/> \n",
    "  \n",
    "  2. Accept the EULA if you so choose\n",
    "  <img src=\"img/installation_2.png\" alt=\"Installer EULA\" style=\"width: 500px;\"/>\n",
    "  \n",
    "  3. Choose who to install it for. I suggest just your User.\n",
    "  <img src=\"img/installation_3.png\" alt=\"Installer Scope\" style=\"width: 500px;\"/>\n",
    "  \n",
    "  4. Choose installation location. I like `$HOME/Anaconda`, but the default `Anaconda3` is great too.\n",
    "  <img src=\"img/installation_4.png\" alt=\"Installer Location\" style=\"width: 500px;\"/>\n",
    "  \n",
    "  5. Choose whether to install environmental variables. I suggest adding to path, but if you are wary, feel free not to!\n",
    "  <img src=\"img/installation_5.png\" alt=\"Installer Env Vars\" style=\"width: 500px;\"/>\n",
    "     NOTE: you will only get this pop-up if you already have Anaconda installed and checked the second box. IF you don't see this, don't panic, it's a good thing.\n",
    "  <img src=\"img/installation_5p.png\" alt=\"Installer Error Box\" style=\"width: 300px;\"/>\n",
    "  \n",
    "  6. The install will proceede, great job! You're now done.\n",
    "  <img src=\"img/installation_6.png\" alt=\"Installing\" style=\"width: 500px;\"/>"
   ]
  },
  {
   "cell_type": "markdown",
   "metadata": {},
   "source": [
    "**Note on Linux installation**: The linux installation downloads a .sh file, so you must make it executable and run it from your shell. For example:\n",
    "\n",
    "```bash\n",
    "cd\n",
    "mkdir ~/sources/\n",
    "wget https://repo.anaconda.com/archive/Anaconda3-2019.07-Linux-x86_64.sh\n",
    "chmod u+x Anaconda3-2019.07-Linux-x86_64.sh\n",
    "./Anaconda3-2019.07-Linux-x86_64.sh\n",
    "```\n",
    "\n",
    "\n",
    "then follow the defaults, which should be similar to the windows ones above."
   ]
  },
  {
   "cell_type": "markdown",
   "metadata": {},
   "source": [
    "### Installing Git\n",
    "\n",
    "#### on Windows\n",
    "\n",
    "Download [git](https://gitforwindows.org/) and install it, accepting defaults.\n",
    "\n",
    "#### on macOS\n",
    "\n",
    "If you have xcode installed already, you already have git.\n",
    "If not, download and install a graphical installer from [here](https://sourceforge.net/projects/git-osx-installer/files/)\n",
    "\n",
    "#### on Linux\n",
    "\n",
    "```shell\n",
    "sudo apt-get update\n",
    "sudo apt-get upgrade\n",
    "sudo apt-get install git\n",
    "```\n"
   ]
  },
  {
   "cell_type": "markdown",
   "metadata": {},
   "source": [
    "## Testing things\n",
    "\n",
    "You should have both Python and Git installed, so let's test it!\n",
    "\n",
    "Step 1) Open your terminal. Instructions: \n",
    "     [Windows](https://docs.microsoft.com/en-us/powershell/scripting/getting-started/starting-windows-powershell?view=powershell-6),\n",
    "     [macOS (search iTerm)](https://support.apple.com/en-us/HT204014),\n",
    "     [Linux](https://help.ubuntu.com/community/UsingTheTerminal#Starting_a_terminal)\n",
    "\n",
    "Step 2) Type the following (or copy and paste):\n",
    "\n",
    "```bash\n",
    "python --version\n",
    "conda --version\n",
    "pip --version\n",
    "git --version\n",
    "jupyter --version\n",
    "```\n",
    "\n",
    "On windows, I get:\n",
    "\n",
    "```bash\n",
    "$ python --version\n",
    "Python 3.7.2\n",
    "\n",
    "$ conda --version\n",
    "conda 4.7.11\n",
    "\n",
    "$ pip --version\n",
    "pip 19.0.1 from C:\\Users\\gaulinmp\\Anaconda\\lib\\site-packages\\pip (python 3.7)\n",
    "\n",
    "$ git --version\n",
    "git version 2.20.1.windows.1\n",
    "\n",
    "$ jupyter --version\n",
    "jupyter core     : 4.5.0\n",
    "jupyter-notebook : 6.0.0\n",
    "ipython          : 7.7.0\n",
    "```\n",
    "\n",
    "On linux, I get:\n",
    "\n",
    "```bash\n",
    "$ python --version\n",
    "Python 3.7.3\n",
    "\n",
    "$ conda --version\n",
    "conda 4.7.11\n",
    "\n",
    "$ pip --version\n",
    "pip 19.1.1 from /home/gaulinmp/anaconda/lib/python3.7/site-packages/pip (python 3.7)\n",
    "\n",
    "$ git --version\n",
    "git version 2.17.1\n",
    "\n",
    "$ jupyter --version\n",
    "jupyter core     : 4.5.0\n",
    "jupyter-notebook : 6.0.0\n",
    "ipython          : 7.7.0\n",
    "```\n",
    "\n",
    "If none of these three throw errors, everything is awesome! You're done!\n",
    "\n",
    "Note: You may see more things beneath `jupyter --version`. Don't worry if you do, I did too. I just deleted them, because really all we care about is the core jupyter, notebook, and ipython."
   ]
  },
  {
   "cell_type": "markdown",
   "metadata": {},
   "source": [
    "## Setting up your Environment\n",
    "\n",
    "So you have everything installed, it's time to add a few more conveniences that will make our lives easier."
   ]
  },
  {
   "cell_type": "markdown",
   "metadata": {},
   "source": [
    "### VSCode\n",
    "\n",
    "At some point, everyone needs to write a text file or a python file.\n",
    "I believe the best editor out there right now to do this in is [VS Code](https://code.visualstudio.com/).\n",
    "I suggest you install that, then install a few extensions (Open VSCode and click on the red-boxed icon below, then search where it says *Search Extensions*):\n",
    "\n",
    "<img src=\"img/vscode_extensions.png\" alt=\"VSCode Extensions\" style=\"width: 500px;\"/>\n",
    "\n",
    "  1. **Magic Python**: highlights the Python syntax. It's very pretty.\n",
    "  1. **Python**: Adds lots of features for programming in Python. It's mandatory.\n",
    "  1. **SAS Language**: Ads syntax highlighting for writing SAS code\n",
    "  1. **Stata Enhanced**: Ads syntax highlighting for writing Stata code\n",
    "  1. **Visual Studio IntelliCode**: Offers code-completion. It's amazing, just hit tab.\n",
    "  \n",
    "*Note*: I use VSCode for SAS and Stata, and in VSCode, I select lines I want to run, hit Ctrl-Alt-N, and those lines of code are run in SAS or Stata, just like if I were using their built in editors. If you want to set this up, drop by my office some time."
   ]
  },
  {
   "cell_type": "markdown",
   "metadata": {},
   "source": [
    "### Extra Python Libraries\n",
    "\n",
    "When we scrape EDGAR documents, it requires downloading them, parsing them, and extracting out data.\n",
    "That first step can be kind of indimidating.\n",
    "\n",
    "To solve this, I've written a library on Github, which facilitates the downloading and parsing of filings. So let's get that installed.\n",
    "\n",
    "Step 1) Open terminal.\n",
    "\n",
    "Step 2) Make a directory where the code might live. I like ~/sources/:\n",
    "\n",
    "```bash\n",
    "cd ~\n",
    "mkdir sources\n",
    "cd sources\n",
    "git clone https://github.com/gaulinmp/pyedgar.git\n",
    "cd pyedgar\n",
    "pip install -e ./\n",
    "```\n",
    "\n",
    "Thats it! Don't forget the -e, so that you can `git pull` new changes as they come out. This doesn't have to make sense now, it may some day."
   ]
  },
  {
   "cell_type": "markdown",
   "metadata": {},
   "source": [
    "# Extra Credit\n",
    "\n",
    "You may have noticed that these instructions are in an odd format.\n",
    "That's because it's actually a Jupyter Notebook.\n",
    "This is python 'code' you're reading!\n",
    "\n",
    "So for extra credit, let's open it up and take a look.\n",
    "\n",
    "In terminal (if ~/sources exists, otherwise wherever you like to put it):\n",
    "\n",
    "```bash\n",
    "cd ~/sources/\n",
    "git clone https://github.com/gaulinmp/edgar_shortcourse.git\n",
    "cd edgar_shortcourse\n",
    "jupyter notebook ./notebooks/\n",
    "```\n",
    "\n",
    "By default, that should start a jupyter notebook kernel (the program that runs notebooks), and launch a browser window. If not, go to [http://localhost:8888](http://localhost:8888).\n",
    "\n",
    "You should see `1_Installation.ipynb`, which you can click on.\n",
    "You will now be in the notebook environment.\n",
    "\n",
    "Scroll all the way down the bottom here (or click the Extra Credit link up top), and run the next cell.\n",
    "\n",
    "You run cells by clicking in the cell, and either pressing the Run button up top, or holding Shift and pressing Enter (Ctrl-Enter and Alt-Enter also work!)."
   ]
  },
  {
   "cell_type": "code",
   "execution_count": 1,
   "metadata": {},
   "outputs": [
    {
     "name": "stdout",
     "output_type": "stream",
     "text": [
      "Hello World!\n"
     ]
    }
   ],
   "source": [
    "print(\"Hello World!\")"
   ]
  },
  {
   "cell_type": "code",
   "execution_count": 2,
   "metadata": {},
   "outputs": [
    {
     "name": "stdout",
     "output_type": "stream",
     "text": [
      "I am an amazing Python hacker already. 1337.\n"
     ]
    }
   ],
   "source": [
    "print(\"I am an amazing Python hacker already. 1337.\")"
   ]
  },
  {
   "cell_type": "code",
   "execution_count": 3,
   "metadata": {},
   "outputs": [
    {
     "name": "stdout",
     "output_type": "stream",
     "text": [
      "0, 1, 2, 3, 4, 5, 6, 7, 8, 9, "
     ]
    }
   ],
   "source": [
    "for i in range(10):\n",
    "    print(i, end=', ')"
   ]
  },
  {
   "cell_type": "code",
   "execution_count": 4,
   "metadata": {},
   "outputs": [
    {
     "name": "stdout",
     "output_type": "stream",
     "text": [
      "['string 10', 'string 20']\n"
     ]
    }
   ],
   "source": [
    "list_comprehension_is_amazing = [f'string {i}' for i in range(10, 30, 10)]\n",
    "print(list_comprehension_is_amazing)"
   ]
  },
  {
   "cell_type": "code",
   "execution_count": null,
   "metadata": {},
   "outputs": [],
   "source": [
    "with open('1_Installation.ipynb', 'r') as file_pointer:\n",
    "    txt = file_pointer.read()\n",
    "\n",
    "with_open = txt.find('\"with open')\n",
    "print_close = txt.find('print_close])')\n",
    "print(txt[with_open:print_close+63])"
   ]
  },
  {
   "cell_type": "code",
   "execution_count": null,
   "metadata": {},
   "outputs": [],
   "source": [
    "from IPython.display import IFrame\n",
    "IFrame(\"https://www.youtube.com/embed/5drjr9PmTMA?rel=0&amp;showinfo=0\",\n",
    "       width=560, height=415)"
   ]
  }
 ],
 "metadata": {
  "kernelspec": {
   "display_name": "Python 3",
   "language": "python",
   "name": "python3"
  },
  "language_info": {
   "codemirror_mode": {
    "name": "ipython",
    "version": 3
   },
   "file_extension": ".py",
   "mimetype": "text/x-python",
   "name": "python",
   "nbconvert_exporter": "python",
   "pygments_lexer": "ipython3",
   "version": "3.7.3"
  }
 },
 "nbformat": 4,
 "nbformat_minor": 2
}
