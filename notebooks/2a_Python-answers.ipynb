{
 "cells": [
  {
   "cell_type": "markdown",
   "metadata": {},
   "source": [
    "# Extracting data - One potential solution\n",
    "\n",
    "There are always many ways to solve a problem.\n",
    "This is why I don't like providing a framework for answers, because you might think about it entirely differently.\n",
    "However makes most sense to you, that's the right way to do it.\n",
    "\n",
    "Below are my solutions to the questions from `2_Python`."
   ]
  },
  {
   "cell_type": "markdown",
   "metadata": {},
   "source": [
    "***Questions***\n",
    "  1. [x] Load the Great Gatsby text from above. [link](#(1)-Load-data)\n",
    "  2. [x] Look at the first 5000 characters of the file. Notice it has a header? Let's get rid of that. [link](#(2)-Look-at-data)\n",
    "     1. [x] Remove the header from the text, and start your new text variable at \"Title:      The Great Gatsby\"\n",
    "  1. [x] If each tweet is 280 characters, how many tweets would it take to put the whole Great Gatsby on twitter? [link](#(3)-Calculate-Tweets)\n",
    "  1. [x] How many words are in the text? [link](#(4)-Count-words)\n",
    "  1. [x] How many times does Gatsby show up? [link](#(5)-Count-Gatsby)\n",
    "  1. [x] How many capitalized words are there? [link](#(6)-Count-capital-words)\n",
    "  1. [x] What's the most common word in the file? [link](#(7)-Word-frequency)\n",
    "  1. [x] Are there any numbers in the text? Which ones? [link](#(8)-Find-numbers)\n",
    "  1. [x] When are some significant dates in the book? [link](#(9)-Find-dates)"
   ]
  },
  {
   "cell_type": "code",
   "execution_count": 1,
   "metadata": {
    "ExecuteTime": {
     "end_time": "2019-09-16T03:34:22.270267Z",
     "start_time": "2019-09-16T03:34:22.265773Z"
    }
   },
   "outputs": [],
   "source": [
    "import re\n",
    "import math"
   ]
  },
  {
   "cell_type": "markdown",
   "metadata": {},
   "source": [
    "#  (1) Load data"
   ]
  },
  {
   "cell_type": "code",
   "execution_count": 2,
   "metadata": {
    "ExecuteTime": {
     "end_time": "2019-09-16T03:34:22.843858Z",
     "start_time": "2019-09-16T03:34:22.837565Z"
    }
   },
   "outputs": [],
   "source": [
    "with open(\"data/greatgatsby.txt\") as fh:\n",
    "    text = fh.read()"
   ]
  },
  {
   "cell_type": "markdown",
   "metadata": {},
   "source": [
    "# (2) Look at data"
   ]
  },
  {
   "cell_type": "code",
   "execution_count": 3,
   "metadata": {
    "ExecuteTime": {
     "end_time": "2019-09-16T03:34:23.522235Z",
     "start_time": "2019-09-16T03:34:23.516652Z"
    }
   },
   "outputs": [
    {
     "name": "stdout",
     "output_type": "stream",
     "text": [
      "\n",
      "Title:      The Great Gatsby\n",
      "Author:     F. Scott Fitzgerald\n",
      "* A Project Gutenberg of Australia eBook *\n",
      "eBook No.:  0200041.txt\n",
      "Language:   English\n",
      "Date first posted: January 2002\n",
      "Date most recently updated: July 2017\n",
      "\n",
      "This eBook was produced by: Colin Choat\n",
      "\n",
      "Project Gutenberg of Australia eBooks are created from printed editions\n",
      "which are in the public domain in Australia, unless a copyright notice\n",
      "is included. We do NOT keep any eBooks in compliance with a particular\n",
      "paper edition.\n",
      "\n",
      "Copyright laws are changing all over the world. Be sure to check the\n",
      "copyright laws for your country before downloading or redistributing this\n",
      "file.\n",
      "\n",
      "This eBook is made available at no cost and with almost no restrictions\n",
      "whatsoever. You may copy it, give it away or re-use it under the terms\n",
      "of the Project Gutenberg of Australia License which may be viewed online at\n",
      "http://gutenberg.net.au/licence.html\n",
      "\n",
      "To contact Project Gutenberg of Australia go to http://gutenberg.net.au\n",
      "\n",
      "\n",
      "Title:      The Great Gatsby\n"
     ]
    }
   ],
   "source": [
    "print(text[:1000])"
   ]
  },
  {
   "cell_type": "code",
   "execution_count": 4,
   "metadata": {
    "ExecuteTime": {
     "end_time": "2019-09-16T03:34:23.827156Z",
     "start_time": "2019-09-16T03:34:23.822897Z"
    }
   },
   "outputs": [],
   "source": [
    "# hard coding the start:\n",
    "txt = text[972:].strip()"
   ]
  },
  {
   "cell_type": "code",
   "execution_count": 5,
   "metadata": {
    "ExecuteTime": {
     "end_time": "2019-09-16T03:34:24.148530Z",
     "start_time": "2019-09-16T03:34:24.141744Z"
    }
   },
   "outputs": [
    {
     "name": "stdout",
     "output_type": "stream",
     "text": [
      "Start: 972\n"
     ]
    }
   ],
   "source": [
    "# finding the start:\n",
    "start = text.find(\"Title: \", 100) # there's two titles, skip the first one.\n",
    "print(f\"Start: {start}\")\n",
    "txt = text[start:].strip()"
   ]
  },
  {
   "cell_type": "code",
   "execution_count": 6,
   "metadata": {
    "ExecuteTime": {
     "end_time": "2019-09-16T03:34:24.477395Z",
     "start_time": "2019-09-16T03:34:24.472380Z"
    }
   },
   "outputs": [
    {
     "name": "stdout",
     "output_type": "stream",
     "text": [
      "Title:      The Great Gatsby\n",
      "Author:     F. Scott Fitzgerald\n",
      "\n",
      "\n",
      "\n",
      "Then wear the gold hat, if that will move her;\n",
      "  If you can bounce high, bounce for her too,\n",
      "Till she cry \"Lover, gold-hatted, high-boun\n"
     ]
    }
   ],
   "source": [
    "print(txt[:200])"
   ]
  },
  {
   "cell_type": "markdown",
   "metadata": {},
   "source": [
    "# (3) Calculate Tweets"
   ]
  },
  {
   "cell_type": "code",
   "execution_count": 7,
   "metadata": {
    "ExecuteTime": {
     "end_time": "2019-09-16T03:34:25.130816Z",
     "start_time": "2019-09-16T03:34:25.125804Z"
    }
   },
   "outputs": [
    {
     "name": "stdout",
     "output_type": "stream",
     "text": [
      "Number of tweets to tweet the Great Gatsby: 960\n"
     ]
    }
   ],
   "source": [
    "# without assuming spaces should be collapsed:\n",
    "print(f\"Number of tweets to tweet the Great Gatsby: {math.ceil(len(txt)/280)}\")"
   ]
  },
  {
   "cell_type": "code",
   "execution_count": 8,
   "metadata": {
    "ExecuteTime": {
     "end_time": "2019-09-16T03:34:25.487857Z",
     "start_time": "2019-09-16T03:34:25.469741Z"
    }
   },
   "outputs": [
    {
     "name": "stdout",
     "output_type": "stream",
     "text": [
      "Number of tweets to tweet the Great Gatsby (no multiple-spaces/newlines): 953\n"
     ]
    }
   ],
   "source": [
    "# without assuming spaces should be collapsed:\n",
    "re_space_remover = re.compile('\\s{2,}') # more than 2 spaces consecutively, if it's just one, leave it there\n",
    "len_wo_spaces = len(re_space_remover.sub(' ', txt))\n",
    "print(f\"Number of tweets to tweet the Great Gatsby (no multiple-spaces/newlines): {math.ceil(len_wo_spaces/280)}\")"
   ]
  },
  {
   "cell_type": "markdown",
   "metadata": {},
   "source": [
    "# (4) Count words"
   ]
  },
  {
   "cell_type": "code",
   "execution_count": 9,
   "metadata": {
    "ExecuteTime": {
     "end_time": "2019-09-16T03:34:26.099580Z",
     "start_time": "2019-09-16T03:34:26.090816Z"
    }
   },
   "outputs": [
    {
     "name": "stdout",
     "output_type": "stream",
     "text": [
      "Number of words: 48,454\n"
     ]
    }
   ],
   "source": [
    "# naieve word-count:\n",
    "num_words = len(txt.split())\n",
    "print(f\"Number of words: {num_words:,d}\")"
   ]
  },
  {
   "cell_type": "code",
   "execution_count": 10,
   "metadata": {
    "ExecuteTime": {
     "end_time": "2019-09-16T03:34:26.459034Z",
     "start_time": "2019-09-16T03:34:26.428387Z"
    }
   },
   "outputs": [
    {
     "name": "stdout",
     "output_type": "stream",
     "text": [
      "Number of words: 49,477\n"
     ]
    }
   ],
   "source": [
    "# Counting only words which are alphabetic, no numbers or special characters\n",
    "re_word_finder = re.compile(\n",
    "    r'\\b'       # word-boundry, so match beginning or ends of words\n",
    "    r'[a-z\\-]+' # a-z, and dashes. + means 1 or more\n",
    "    r'\\b'       # ending word-boundry\n",
    "    , re.IGNORECASE\n",
    ")\n",
    "num_words = len(re_word_finder.findall(txt))\n",
    "print(f\"Number of words: {num_words:,d}\")"
   ]
  },
  {
   "cell_type": "code",
   "execution_count": 11,
   "metadata": {
    "ExecuteTime": {
     "end_time": "2019-09-16T03:34:26.696342Z",
     "start_time": "2019-09-16T03:34:26.682985Z"
    }
   },
   "outputs": [
    {
     "name": "stdout",
     "output_type": "stream",
     "text": [
      "D'INVILLIERS\n"
     ]
    }
   ],
   "source": [
    "# That's odd, our regular expression approach yielded MORE words, not fewer.\n",
    "# Let's see why (it must mean some words count as 2 with the regex):\n",
    "for word in txt.split():\n",
    "    if len(re_word_finder.findall(word)) > 1:\n",
    "        print(word)\n",
    "        # we can iteratively look at results, stop after the first one\n",
    "        break"
   ]
  },
  {
   "cell_type": "code",
   "execution_count": 12,
   "metadata": {
    "ExecuteTime": {
     "end_time": "2019-09-16T03:34:27.014234Z",
     "start_time": "2019-09-16T03:34:27.000524Z"
    }
   },
   "outputs": [
    {
     "data": {
      "text/plain": [
       "['you', 're']"
      ]
     },
     "execution_count": 12,
     "metadata": {},
     "output_type": "execute_result"
    }
   ],
   "source": [
    "# ah, we didn't think about apostrophes in words, you're would count as two words.\n",
    "re_word_finder.findall(\"you're\")"
   ]
  },
  {
   "cell_type": "code",
   "execution_count": 13,
   "metadata": {
    "ExecuteTime": {
     "end_time": "2019-09-16T03:34:27.372215Z",
     "start_time": "2019-09-16T03:34:27.340259Z"
    }
   },
   "outputs": [
    {
     "name": "stdout",
     "output_type": "stream",
     "text": [
      "Number of words: 48,187\n"
     ]
    }
   ],
   "source": [
    "# So let's add apostrophes into our regex\n",
    "re_word_finder = re.compile(\n",
    "    r'\\b'        # word-boundry, so match beginning or ends of words\n",
    "    r\"[a-z\\-']+\" # a-z, and dashes and apostrophe now too. + means 1 or more\n",
    "    r'\\b'        # ending word-boundry\n",
    "    , re.IGNORECASE\n",
    ")\n",
    "num_words = len(re_word_finder.findall(txt))\n",
    "print(f\"Number of words: {num_words:,d}\")"
   ]
  },
  {
   "cell_type": "code",
   "execution_count": 14,
   "metadata": {
    "ExecuteTime": {
     "end_time": "2019-09-16T03:34:27.685193Z",
     "start_time": "2019-09-16T03:34:27.667780Z"
    }
   },
   "outputs": [
    {
     "name": "stdout",
     "output_type": "stream",
     "text": [
      "1\n",
      "1915,\n",
      "Hôtel\n",
      "2\n",
      "158th\n"
     ]
    }
   ],
   "source": [
    "# Let's see what doesn't count as a word.\n",
    "# Checking your results is always a good idea\n",
    "i = 0\n",
    "for word in txt.split():\n",
    "    if not re_word_finder.search(word):\n",
    "        print(word)\n",
    "        i += 1\n",
    "        if i > 4:\n",
    "            break"
   ]
  },
  {
   "cell_type": "code",
   "execution_count": 15,
   "metadata": {
    "ExecuteTime": {
     "end_time": "2019-09-16T03:34:27.994456Z",
     "start_time": "2019-09-16T03:34:27.953700Z"
    }
   },
   "outputs": [
    {
     "name": "stdout",
     "output_type": "stream",
     "text": [
      "Number of words: 48,201\n"
     ]
    }
   ],
   "source": [
    "# I'm being picky, but I don't like that Hôtel was removed.\n",
    "# It was not matched because it had ô in it, which doesn't match a-z. \n",
    "# So the last thing is to add all alphabetical characters\n",
    "re_word_finder = re.compile(\n",
    "    r'\\b'                 # word-boundry, so match beginning or ends of words\n",
    "    r\"(?:[^\\W\\d_]|[-'])+\" # (?: is a non-capture group, just means we can use | for or.\n",
    "                          # ^\\W\\d_ means not (^) a non-word, or a digit or underscore\n",
    "    r'\\b'                 # ending word-boundry\n",
    "    , re.IGNORECASE\n",
    ")\n",
    "num_words = len(re_word_finder.findall(txt))\n",
    "print(f\"Number of words: {num_words:,d}\")"
   ]
  },
  {
   "cell_type": "code",
   "execution_count": 16,
   "metadata": {
    "ExecuteTime": {
     "end_time": "2019-09-16T03:34:28.277874Z",
     "start_time": "2019-09-16T03:34:28.261109Z"
    }
   },
   "outputs": [
    {
     "name": "stdout",
     "output_type": "stream",
     "text": [
      "1\n",
      "1915,\n",
      "2\n",
      "158th\n",
      "\"\n"
     ]
    }
   ],
   "source": [
    "# Let's see if that worked\n",
    "i = 0\n",
    "for word in txt.split():\n",
    "    if not re_word_finder.search(word):\n",
    "        print(word)\n",
    "        i += 1\n",
    "        if i > 4:\n",
    "            break"
   ]
  },
  {
   "cell_type": "code",
   "execution_count": 17,
   "metadata": {
    "ExecuteTime": {
     "end_time": "2019-09-16T03:34:28.572585Z",
     "start_time": "2019-09-16T03:34:28.568340Z"
    }
   },
   "outputs": [
    {
     "name": "stdout",
     "output_type": "stream",
     "text": [
      "a\\nb\n"
     ]
    }
   ],
   "source": [
    "# Note the r in front of texts in the regular expressions above.\n",
    "# It's so we can use \\b and it won't look like a special character.\n",
    "# It also breaks our usual escape characters:\n",
    "print(r'a\\nb')"
   ]
  },
  {
   "cell_type": "markdown",
   "metadata": {},
   "source": [
    "# (5) Count Gatsby"
   ]
  },
  {
   "cell_type": "code",
   "execution_count": 18,
   "metadata": {
    "ExecuteTime": {
     "end_time": "2019-09-16T03:34:29.238454Z",
     "start_time": "2019-09-16T03:34:29.233888Z"
    }
   },
   "outputs": [],
   "source": [
    "re_gatsby = re.compile('Gatsby', re.I)"
   ]
  },
  {
   "cell_type": "code",
   "execution_count": 19,
   "metadata": {
    "ExecuteTime": {
     "end_time": "2019-09-16T03:34:29.587269Z",
     "start_time": "2019-09-16T03:34:29.536298Z"
    }
   },
   "outputs": [
    {
     "ename": "TypeError",
     "evalue": "object of type 'callable_iterator' has no len()",
     "output_type": "error",
     "traceback": [
      "\u001b[0;31m---------------------------------------------------------------------------\u001b[0m",
      "\u001b[0;31mTypeError\u001b[0m                                 Traceback (most recent call last)",
      "\u001b[0;32m<ipython-input-19-6d4f46a36f29>\u001b[0m in \u001b[0;36m<module>\u001b[0;34m\u001b[0m\n\u001b[1;32m      1\u001b[0m \u001b[0;31m# Let's use finditer. It returns an iterator.\u001b[0m\u001b[0;34m\u001b[0m\u001b[0;34m\u001b[0m\u001b[0;34m\u001b[0m\u001b[0m\n\u001b[1;32m      2\u001b[0m \u001b[0mnum_gatsbys\u001b[0m \u001b[0;34m=\u001b[0m \u001b[0mre_gatsby\u001b[0m\u001b[0;34m.\u001b[0m\u001b[0mfinditer\u001b[0m\u001b[0;34m(\u001b[0m\u001b[0mtxt\u001b[0m\u001b[0;34m)\u001b[0m\u001b[0;34m\u001b[0m\u001b[0;34m\u001b[0m\u001b[0m\n\u001b[0;32m----> 3\u001b[0;31m \u001b[0mprint\u001b[0m\u001b[0;34m(\u001b[0m\u001b[0;34mf\"Number of Gastbys: {len(num_gatsbys)}\"\u001b[0m\u001b[0;34m)\u001b[0m\u001b[0;34m\u001b[0m\u001b[0;34m\u001b[0m\u001b[0m\n\u001b[0m",
      "\u001b[0;31mTypeError\u001b[0m: object of type 'callable_iterator' has no len()"
     ]
    }
   ],
   "source": [
    "# Let's use finditer. It returns an iterator.\n",
    "num_gatsbys = re_gatsby.finditer(txt)\n",
    "print(f\"Number of Gastbys: {len(num_gatsbys)}\")"
   ]
  },
  {
   "cell_type": "code",
   "execution_count": 20,
   "metadata": {
    "ExecuteTime": {
     "end_time": "2019-09-16T03:34:29.870612Z",
     "start_time": "2019-09-16T03:34:29.858621Z"
    }
   },
   "outputs": [
    {
     "name": "stdout",
     "output_type": "stream",
     "text": [
      "Number of Gastbys: 264\n"
     ]
    }
   ],
   "source": [
    "# Aww shucks. How can we get the lenght?\n",
    "num_gatsbys = list(re_gatsby.finditer(txt))\n",
    "print(f\"Number of Gastbys: {len(num_gatsbys)}\")"
   ]
  },
  {
   "cell_type": "markdown",
   "metadata": {
    "ExecuteTime": {
     "end_time": "2019-09-16T02:32:30.811080Z",
     "start_time": "2019-09-16T02:32:30.807314Z"
    }
   },
   "source": [
    "**I wonder if we can do it faster. Do we need to keep the whole list of \"Gatsby\"s?**"
   ]
  },
  {
   "cell_type": "code",
   "execution_count": 21,
   "metadata": {
    "ExecuteTime": {
     "end_time": "2019-09-16T03:34:32.505774Z",
     "start_time": "2019-09-16T03:34:30.493029Z"
    }
   },
   "outputs": [
    {
     "name": "stdout",
     "output_type": "stream",
     "text": [
      "2.45 ms ± 1.66 µs per loop (mean ± std. dev. of 7 runs, 100 loops each)\n"
     ]
    }
   ],
   "source": [
    "%timeit num_gatsbys = list(re_gatsby.finditer(txt))"
   ]
  },
  {
   "cell_type": "code",
   "execution_count": 22,
   "metadata": {
    "ExecuteTime": {
     "end_time": "2019-09-16T03:34:34.521649Z",
     "start_time": "2019-09-16T03:34:32.507126Z"
    }
   },
   "outputs": [
    {
     "name": "stdout",
     "output_type": "stream",
     "text": [
      "2.48 ms ± 1.61 µs per loop (mean ± std. dev. of 7 runs, 100 loops each)\n"
     ]
    }
   ],
   "source": [
    "%timeit num_gatsbys = [None for _ in re_gatsby.finditer(txt)]"
   ]
  },
  {
   "cell_type": "markdown",
   "metadata": {
    "ExecuteTime": {
     "end_time": "2019-09-16T02:32:44.679878Z",
     "start_time": "2019-09-16T02:32:44.676166Z"
    }
   },
   "source": [
    "**I guess it doesn't matter, unless it was the shortness of the list?**"
   ]
  },
  {
   "cell_type": "code",
   "execution_count": 23,
   "metadata": {
    "ExecuteTime": {
     "end_time": "2019-09-16T03:34:37.052892Z",
     "start_time": "2019-09-16T03:34:34.523393Z"
    }
   },
   "outputs": [
    {
     "name": "stdout",
     "output_type": "stream",
     "text": [
      "31.1 ms ± 40.9 µs per loop (mean ± std. dev. of 7 runs, 10 loops each)\n"
     ]
    }
   ],
   "source": [
    "%timeit num_gatsbys = list(re_word_finder.finditer(txt))"
   ]
  },
  {
   "cell_type": "code",
   "execution_count": 24,
   "metadata": {
    "ExecuteTime": {
     "end_time": "2019-09-16T03:34:39.541783Z",
     "start_time": "2019-09-16T03:34:37.054604Z"
    }
   },
   "outputs": [
    {
     "name": "stdout",
     "output_type": "stream",
     "text": [
      "30.5 ms ± 45.5 µs per loop (mean ± std. dev. of 7 runs, 10 loops each)\n"
     ]
    }
   ],
   "source": [
    "%timeit num_gatsbys = tuple(re_word_finder.finditer(txt))"
   ]
  },
  {
   "cell_type": "code",
   "execution_count": 25,
   "metadata": {
    "ExecuteTime": {
     "end_time": "2019-09-16T03:34:41.962743Z",
     "start_time": "2019-09-16T03:34:39.543326Z"
    }
   },
   "outputs": [
    {
     "name": "stdout",
     "output_type": "stream",
     "text": [
      "29.8 ms ± 30 µs per loop (mean ± std. dev. of 7 runs, 10 loops each)\n"
     ]
    }
   ],
   "source": [
    "%timeit num_gatsbys = [None for _ in re_word_finder.finditer(txt)]"
   ]
  },
  {
   "cell_type": "markdown",
   "metadata": {
    "ExecuteTime": {
     "end_time": "2019-09-16T02:34:57.020825Z",
     "start_time": "2019-09-16T02:34:57.017391Z"
    }
   },
   "source": [
    "**Probably doesn't matter. But this is a good way to optimize your code if things run slowly.**\n",
    "\n",
    "And finditer isn't necessarily the best either:"
   ]
  },
  {
   "cell_type": "code",
   "execution_count": 26,
   "metadata": {
    "ExecuteTime": {
     "end_time": "2019-09-16T03:34:44.210923Z",
     "start_time": "2019-09-16T03:34:41.964032Z"
    }
   },
   "outputs": [
    {
     "name": "stdout",
     "output_type": "stream",
     "text": [
      "27.6 ms ± 40 µs per loop (mean ± std. dev. of 7 runs, 10 loops each)\n"
     ]
    }
   ],
   "source": [
    "%timeit num_gatsbys = re_word_finder.findall(txt)"
   ]
  },
  {
   "cell_type": "markdown",
   "metadata": {},
   "source": [
    "# (6) Count capital words"
   ]
  },
  {
   "cell_type": "code",
   "execution_count": 27,
   "metadata": {
    "ExecuteTime": {
     "end_time": "2019-09-16T03:34:44.215108Z",
     "start_time": "2019-09-16T03:34:44.212252Z"
    }
   },
   "outputs": [],
   "source": [
    "# We can't use re.IGNORECASE anymore\n",
    "re_capital = re.compile(\n",
    "    r\"\\b\"\n",
    "    r\"[A-Z]\"              # One capital letter\n",
    "    r\"(?:[^\\W\\d_]|[-'])*\" # The rest can be whatever alphabetical characters\n",
    "    r\"\\b\"                 # * means 0 or more, so I will match\n",
    ")"
   ]
  },
  {
   "cell_type": "code",
   "execution_count": 28,
   "metadata": {
    "ExecuteTime": {
     "end_time": "2019-09-16T03:34:44.230606Z",
     "start_time": "2019-09-16T03:34:44.216983Z"
    }
   },
   "outputs": [
    {
     "name": "stdout",
     "output_type": "stream",
     "text": [
      "Number of Capitals: 6,426\n"
     ]
    }
   ],
   "source": [
    "num_capitals = re_capital.findall(txt)\n",
    "print(f\"Number of Capitals: {len(num_capitals):,d}\")"
   ]
  },
  {
   "cell_type": "markdown",
   "metadata": {},
   "source": [
    "# (7) Word frequency"
   ]
  },
  {
   "cell_type": "code",
   "execution_count": 29,
   "metadata": {
    "ExecuteTime": {
     "end_time": "2019-09-16T03:34:44.235383Z",
     "start_time": "2019-09-16T03:34:44.231870Z"
    }
   },
   "outputs": [
    {
     "name": "stdout",
     "output_type": "stream",
     "text": [
      "\\b(?:[^\\W\\d_]|[-'])+\\b\n"
     ]
    }
   ],
   "source": [
    "# Let's start with our word-finder above:\n",
    "print(re_word_finder.pattern)"
   ]
  },
  {
   "cell_type": "code",
   "execution_count": 30,
   "metadata": {
    "ExecuteTime": {
     "end_time": "2019-09-16T03:34:44.239554Z",
     "start_time": "2019-09-16T03:34:44.236595Z"
    }
   },
   "outputs": [],
   "source": [
    "# Let's use a dict to count the words. I use this approach constantly.\n",
    "counts = {}"
   ]
  },
  {
   "cell_type": "code",
   "execution_count": 31,
   "metadata": {
    "ExecuteTime": {
     "end_time": "2019-09-16T03:34:44.247276Z",
     "start_time": "2019-09-16T03:34:44.240912Z"
    }
   },
   "outputs": [
    {
     "ename": "KeyError",
     "evalue": "<re.Match object; span=(0, 5), match='Title'>",
     "output_type": "error",
     "traceback": [
      "\u001b[0;31m---------------------------------------------------------------------------\u001b[0m",
      "\u001b[0;31mKeyError\u001b[0m                                  Traceback (most recent call last)",
      "\u001b[0;32m<ipython-input-31-625a2f6e5a81>\u001b[0m in \u001b[0;36m<module>\u001b[0;34m\u001b[0m\n\u001b[1;32m      1\u001b[0m \u001b[0;31m# Let' use finditer, so it starts running immediately, instead of finding them all, then starting the loop.\u001b[0m\u001b[0;34m\u001b[0m\u001b[0;34m\u001b[0m\u001b[0;34m\u001b[0m\u001b[0m\n\u001b[1;32m      2\u001b[0m \u001b[0;32mfor\u001b[0m \u001b[0mword\u001b[0m \u001b[0;32min\u001b[0m \u001b[0mre_word_finder\u001b[0m\u001b[0;34m.\u001b[0m\u001b[0mfinditer\u001b[0m\u001b[0;34m(\u001b[0m\u001b[0mtxt\u001b[0m\u001b[0;34m)\u001b[0m\u001b[0;34m:\u001b[0m\u001b[0;34m\u001b[0m\u001b[0;34m\u001b[0m\u001b[0m\n\u001b[0;32m----> 3\u001b[0;31m     \u001b[0mcounts\u001b[0m\u001b[0;34m[\u001b[0m\u001b[0mword\u001b[0m\u001b[0;34m]\u001b[0m \u001b[0;34m=\u001b[0m \u001b[0mcounts\u001b[0m\u001b[0;34m[\u001b[0m\u001b[0mword\u001b[0m\u001b[0;34m]\u001b[0m \u001b[0;34m+\u001b[0m \u001b[0;36m1\u001b[0m\u001b[0;34m\u001b[0m\u001b[0;34m\u001b[0m\u001b[0m\n\u001b[0m",
      "\u001b[0;31mKeyError\u001b[0m: <re.Match object; span=(0, 5), match='Title'>"
     ]
    }
   ],
   "source": [
    "# Let' use finditer, so it starts running immediately, instead of finding them all, then starting the loop.\n",
    "for word in re_word_finder.finditer(txt): \n",
    "    counts[word] = counts[word] + 1"
   ]
  },
  {
   "cell_type": "code",
   "execution_count": 32,
   "metadata": {
    "ExecuteTime": {
     "end_time": "2019-09-16T03:34:50.871583Z",
     "start_time": "2019-09-16T03:34:50.859637Z"
    }
   },
   "outputs": [
    {
     "ename": "KeyError",
     "evalue": "'Title'",
     "output_type": "error",
     "traceback": [
      "\u001b[0;31m---------------------------------------------------------------------------\u001b[0m",
      "\u001b[0;31mKeyError\u001b[0m                                  Traceback (most recent call last)",
      "\u001b[0;32m<ipython-input-32-e7f62153e8a0>\u001b[0m in \u001b[0;36m<module>\u001b[0;34m\u001b[0m\n\u001b[1;32m      2\u001b[0m \u001b[0;32mfor\u001b[0m \u001b[0mword\u001b[0m \u001b[0;32min\u001b[0m \u001b[0mre_word_finder\u001b[0m\u001b[0;34m.\u001b[0m\u001b[0mfinditer\u001b[0m\u001b[0;34m(\u001b[0m\u001b[0mtxt\u001b[0m\u001b[0;34m)\u001b[0m\u001b[0;34m:\u001b[0m\u001b[0;34m\u001b[0m\u001b[0;34m\u001b[0m\u001b[0m\n\u001b[1;32m      3\u001b[0m     \u001b[0mword_str\u001b[0m \u001b[0;34m=\u001b[0m \u001b[0mword\u001b[0m\u001b[0;34m.\u001b[0m\u001b[0mgroup\u001b[0m\u001b[0;34m(\u001b[0m\u001b[0;36m0\u001b[0m\u001b[0;34m)\u001b[0m\u001b[0;34m\u001b[0m\u001b[0;34m\u001b[0m\u001b[0m\n\u001b[0;32m----> 4\u001b[0;31m     \u001b[0mcounts\u001b[0m\u001b[0;34m[\u001b[0m\u001b[0mword_str\u001b[0m\u001b[0;34m]\u001b[0m \u001b[0;34m=\u001b[0m \u001b[0mcounts\u001b[0m\u001b[0;34m[\u001b[0m\u001b[0mword_str\u001b[0m\u001b[0;34m]\u001b[0m \u001b[0;34m+\u001b[0m \u001b[0;36m1\u001b[0m\u001b[0;34m\u001b[0m\u001b[0;34m\u001b[0m\u001b[0m\n\u001b[0m",
      "\u001b[0;31mKeyError\u001b[0m: 'Title'"
     ]
    }
   ],
   "source": [
    "# Hmm, two problems here. First, our key is a re.Match object. That's not right.\n",
    "for word in re_word_finder.finditer(txt):\n",
    "    word_str = word.group(0)\n",
    "    counts[word_str] = counts[word_str] + 1"
   ]
  },
  {
   "cell_type": "code",
   "execution_count": 33,
   "metadata": {
    "ExecuteTime": {
     "end_time": "2019-09-16T03:34:51.753007Z",
     "start_time": "2019-09-16T03:34:51.690241Z"
    }
   },
   "outputs": [],
   "source": [
    "# Second, our word isn't in the dictionary yet. Let's use .get for that:\n",
    "for word in re_word_finder.finditer(txt):\n",
    "    word_str = word.group(0)\n",
    "    counts[word_str] = counts.get(word_str, 0) + 1"
   ]
  },
  {
   "cell_type": "code",
   "execution_count": 34,
   "metadata": {
    "ExecuteTime": {
     "end_time": "2019-09-16T03:34:52.381171Z",
     "start_time": "2019-09-16T03:34:52.374274Z"
    }
   },
   "outputs": [
    {
     "name": "stdout",
     "output_type": "stream",
     "text": [
      "     Title --> 1\n",
      "       The --> 174\n",
      "     Great --> 2\n",
      "    Gatsby --> 189\n",
      "    Author --> 1\n",
      "         F --> 2\n",
      "     Scott --> 1\n",
      "Fitzgerald --> 1\n",
      "      Then --> 50\n",
      "      wear --> 3\n",
      "       the --> 2205\n"
     ]
    }
   ],
   "source": [
    "# Wahoo! Now how do we read it? (note the parens in the for loop)\n",
    "for i, (word, count) in enumerate(counts.items()):\n",
    "    if i > 10:\n",
    "        break\n",
    "    print(f\"{word: >10s} --> {count}\")"
   ]
  },
  {
   "cell_type": "code",
   "execution_count": 35,
   "metadata": {
    "ExecuteTime": {
     "end_time": "2019-09-16T03:34:52.785165Z",
     "start_time": "2019-09-16T03:34:52.776289Z"
    }
   },
   "outputs": [
    {
     "name": "stdout",
     "output_type": "stream",
     "text": [
      "Most common word: 'the' at 2,205\n"
     ]
    }
   ],
   "source": [
    "# Let's get the most-used word:\n",
    "most_used_word = None\n",
    "most_used_word_count = -1\n",
    "\n",
    "for word, count in counts.items():\n",
    "    if count > most_used_word_count:\n",
    "        most_used_word_count = count\n",
    "        most_used_word = word\n",
    "\n",
    "print(f\"Most common word: '{most_used_word}' at {most_used_word_count:,d}\")"
   ]
  },
  {
   "cell_type": "code",
   "execution_count": 36,
   "metadata": {
    "ExecuteTime": {
     "end_time": "2019-09-16T03:34:53.159799Z",
     "start_time": "2019-09-16T03:34:53.156498Z"
    }
   },
   "outputs": [],
   "source": [
    "# Well that's boring, what's the second most common used word?\n",
    "\n",
    "# Full disclosure, I'm not going to find it. You could. But I'm lazy.\n",
    "\n",
    "# And hopefully, by now, you're starting to think \"isn't there a better way?\"\n",
    "\n",
    "# This is Python. Of course there is."
   ]
  },
  {
   "cell_type": "code",
   "execution_count": 37,
   "metadata": {
    "ExecuteTime": {
     "end_time": "2019-09-16T03:34:53.535274Z",
     "start_time": "2019-09-16T03:34:53.531290Z"
    }
   },
   "outputs": [],
   "source": [
    "from collections import Counter"
   ]
  },
  {
   "cell_type": "code",
   "execution_count": 38,
   "metadata": {
    "ExecuteTime": {
     "end_time": "2019-09-16T03:34:53.991156Z",
     "start_time": "2019-09-16T03:34:53.924680Z"
    }
   },
   "outputs": [
    {
     "data": {
      "text/plain": [
       "[('the', 2205),\n",
       " ('and', 1472),\n",
       " ('a', 1331),\n",
       " ('I', 1179),\n",
       " ('to', 1119),\n",
       " ('of', 1097),\n",
       " ('in', 767),\n",
       " ('was', 763),\n",
       " ('he', 563),\n",
       " ('that', 551)]"
      ]
     },
     "execution_count": 38,
     "metadata": {},
     "output_type": "execute_result"
    }
   ],
   "source": [
    "counts_easy = Counter()\n",
    "\n",
    "for word in re_word_finder.finditer(txt):\n",
    "    counts_easy[word.group(0)] += 1 \n",
    "    # x += 1 is the same as x = x + 1\n",
    "\n",
    "counts_easy.most_common(10)"
   ]
  },
  {
   "cell_type": "markdown",
   "metadata": {},
   "source": [
    "If writing code in Python doesn't bring a smile to your face at some point...\n",
    "you're probably a grad student with too much work weighing you down."
   ]
  },
  {
   "cell_type": "markdown",
   "metadata": {},
   "source": [
    "# (8) Find numbers"
   ]
  },
  {
   "cell_type": "code",
   "execution_count": 39,
   "metadata": {
    "ExecuteTime": {
     "end_time": "2019-09-16T03:34:55.096661Z",
     "start_time": "2019-09-16T03:34:55.082820Z"
    }
   },
   "outputs": [
    {
     "name": "stdout",
     "output_type": "stream",
     "text": [
      "Number of numbers: 49\n"
     ]
    }
   ],
   "source": [
    "re_num = re.compile(r\"\\d+\")\n",
    "print(f\"Number of numbers: {len(re_num.findall(txt))}\")"
   ]
  },
  {
   "cell_type": "code",
   "execution_count": 40,
   "metadata": {
    "ExecuteTime": {
     "end_time": "2019-09-16T03:34:55.435967Z",
     "start_time": "2019-09-16T03:34:55.428097Z"
    }
   },
   "outputs": [
    {
     "name": "stdout",
     "output_type": "stream",
     "text": [
      "Number of numbers: 34\n"
     ]
    }
   ],
   "source": [
    "# Maybe we should allow for decimals and commas:\n",
    "re_num = re.compile(r\"\\d[\\d,.]*\")\n",
    "print(f\"Number of numbers: {len(re_num.findall(txt))}\")"
   ]
  },
  {
   "cell_type": "markdown",
   "metadata": {},
   "source": [
    "# (9) Find dates"
   ]
  },
  {
   "cell_type": "markdown",
   "metadata": {},
   "source": [
    "I'm going to write a date finder in steps, to show how I would think about generating the ultimate regex pattern.\n",
    "\n",
    "I'm going to start with a nice way to see what we've found."
   ]
  },
  {
   "cell_type": "code",
   "execution_count": 41,
   "metadata": {
    "ExecuteTime": {
     "end_time": "2019-09-16T03:34:56.482393Z",
     "start_time": "2019-09-16T03:34:56.478274Z"
    }
   },
   "outputs": [],
   "source": [
    "from IPython.display import display_html"
   ]
  },
  {
   "cell_type": "code",
   "execution_count": 42,
   "metadata": {
    "ExecuteTime": {
     "end_time": "2019-09-16T03:34:56.851011Z",
     "start_time": "2019-09-16T03:34:56.841352Z"
    }
   },
   "outputs": [],
   "source": [
    "def show_regex_results(regex, text, surrounding_len=40):\n",
    "    \"\"\"\n",
    "    This method displays a list of regular expression \n",
    "    matches while highlighting the actual match.\n",
    "    \"\"\"\n",
    "    \n",
    "    html_template = \"<p>{}<span style='font-weight:  bold;color: white;background-color: black;'>{}</span>{}</p>\"\n",
    "    \n",
    "    html_list = []\n",
    "    for match in regex.finditer(txt):\n",
    "        # match objects are neato. They have a start and an end. Let's look around the matches\n",
    "        str_before = text[match.start() - surrounding_len: match.start()]\n",
    "        str_match = match.group(0) # group(0) is the whole match\n",
    "        str_after = text[match.end(): match.end() + surrounding_len]\n",
    "        \n",
    "        html_list.append(html_template.format(str_before, str_match, str_after))\n",
    "        \n",
    "    display_html(''.join(html_list), raw=True)"
   ]
  },
  {
   "cell_type": "code",
   "execution_count": 43,
   "metadata": {
    "ExecuteTime": {
     "end_time": "2019-09-16T03:34:57.210412Z",
     "start_time": "2019-09-16T03:34:57.188586Z"
    }
   },
   "outputs": [
    {
     "name": "stdout",
     "output_type": "stream",
     "text": [
      "33\n"
     ]
    }
   ],
   "source": [
    "# Start with just the obvious ones, months and 19XX/18XX\n",
    "re_date_1 = re.compile(\n",
    "    r\"(?:January|February|March|April|May|June|July|August|September|October|November|December)\\b|1[89]\\d\\d\"\n",
    ")\n",
    "\n",
    "print(len(re_date_1.findall(txt)))"
   ]
  },
  {
   "cell_type": "code",
   "execution_count": 44,
   "metadata": {
    "ExecuteTime": {
     "end_time": "2019-09-16T03:34:57.569438Z",
     "start_time": "2019-09-16T03:34:57.550953Z"
    }
   },
   "outputs": [
    {
     "data": {
      "text/html": [
       "<p>s office. I graduated from New Haven in <span style='font-weight:  bold;color: white;background-color: black;'>1915</span>, just a quarter of a\n",
       "century after my f</p><p> It was a few days before\n",
       "the Fourth of <span style='font-weight:  bold;color: white;background-color: black;'>July</span>, and a grey, scrawny Italian child was </p><p>\"\n",
       "\n",
       "\"I was in the Seventh Infantry until <span style='font-weight:  bold;color: white;background-color: black;'>June</span> nineteen-eighteen. I knew I'd\n",
       "seen you </p><p>so much attention at Carnegie Hall last <span style='font-weight:  bold;color: white;background-color: black;'>May</span>. If you read the papers\n",
       "you know there </p><p>ion so when she went on her vacation in <span style='font-weight:  bold;color: white;background-color: black;'>July</span> I let it blow\n",
       "quietly away.\n",
       "\n",
       "I took din</p><p>lds and headed \"This schedule in effect\n",
       "<span style='font-weight:  bold;color: white;background-color: black;'>July</span> 5th, 1922.\" But I can still read the gr</p><p>aded \"This schedule in effect\n",
       "July 5th, <span style='font-weight:  bold;color: white;background-color: black;'>1922</span>.\" But I can still read the grey names a</p><p>, or else Consuela or Gloria\n",
       "or Judy or <span style='font-weight:  bold;color: white;background-color: black;'>June</span>, and their last names were either the m</p><p>\n",
       "\n",
       "\n",
       "At nine o'clock, one morning late in <span style='font-weight:  bold;color: white;background-color: black;'>July</span> Gatsby's gorgeous car\n",
       "lurched up the ro</p><p>an who fixed the World's Series back in <span style='font-weight:  bold;color: white;background-color: black;'>1919</span>.\"\n",
       "\n",
       "\"Fixed the World's Series?\" I repeat</p><p>at the World's Series\n",
       "had been fixed in <span style='font-weight:  bold;color: white;background-color: black;'>1919</span> but if I had thought of it at all I wou</p><p>tsby, but he was no longer there.\n",
       "\n",
       "\n",
       "One <span style='font-weight:  bold;color: white;background-color: black;'>October</span> day in nineteen-seventeen----\n",
       "(said Jor</p><p>had a debut\n",
       "after the Armistice, and in <span style='font-weight:  bold;color: white;background-color: black;'>February</span> she was presumably engaged to a\n",
       "man fro</p><p>y engaged to a\n",
       "man from New Orleans. In <span style='font-weight:  bold;color: white;background-color: black;'>June</span> she married Tom Buchanan of Chicago wit</p><p>d her lying on her bed as lovely as the <span style='font-weight:  bold;color: white;background-color: black;'>June</span> night in\n",
       "her flowered dress--and as dru</p><p>n a\n",
       "hushed, fascinated way. That was in <span style='font-weight:  bold;color: white;background-color: black;'>August</span>. A week after I left Santa\n",
       "Barbara Tom </p><p>s\n",
       "in the Santa Barbara Hotel.\n",
       "\n",
       "The next <span style='font-weight:  bold;color: white;background-color: black;'>April</span> Daisy had her little girl and they went</p><p>e stars to which he had aspired\n",
       "on that <span style='font-weight:  bold;color: white;background-color: black;'>June</span> night. He came alive to me, delivered s</p><p>\n",
       "as it could ever be.\n",
       "\n",
       "\"Five years next <span style='font-weight:  bold;color: white;background-color: black;'>November</span>.\"\n",
       "\n",
       "The automatic quality of Gatsby's an</p><p>n knowledge to the turgid journalism\n",
       "of <span style='font-weight:  bold;color: white;background-color: black;'>1902</span>. He had been coasting along all too hos</p><p> down the drive, disappearing under the <span style='font-weight:  bold;color: white;background-color: black;'>August</span>\n",
       "foliage just as Gatsby with hat and lig</p><p>tentous chords of Mendelssohn's Wedding <span style='font-weight:  bold;color: white;background-color: black;'>March</span>\n",
       "from the ballroom below.\n",
       "\n",
       "\"Imagine marr</p><p>\n",
       "\"Still--I was married in the middle of <span style='font-weight:  bold;color: white;background-color: black;'>June</span>,\" Daisy remembered,\n",
       "\"Louisville in June</p><p>June,\" Daisy remembered,\n",
       "\"Louisville in <span style='font-weight:  bold;color: white;background-color: black;'>June</span>! Somebody fainted. Who was it fainted, </p><p>ssing the porch where we had dined\n",
       "that <span style='font-weight:  bold;color: white;background-color: black;'>June</span> night three months before I came to a s</p><p>sly--eventually he took Daisy one still <span style='font-weight:  bold;color: white;background-color: black;'>October</span> night,\n",
       "took her because he had no real </p><p>tsteps had clicked together through the\n",
       "<span style='font-weight:  bold;color: white;background-color: black;'>November</span> night and revisiting the out-of-the-way</p><p>in a long cheap ulster against the warm <span style='font-weight:  bold;color: white;background-color: black;'>September</span> day. His\n",
       "eyes leaked continuously with </p><p>luded the World's Series transaction\n",
       "in <span style='font-weight:  bold;color: white;background-color: black;'>1919</span>.\n",
       "\n",
       "\"Now he's dead,\" I said after a momen</p><p>printed the word SCHEDULE, and the date\n",
       "<span style='font-weight:  bold;color: white;background-color: black;'>September</span> 12th, 1906. And underneath:\n",
       "\n",
       "\n",
       "Rise from</p><p> SCHEDULE, and the date\n",
       "September 12th, <span style='font-weight:  bold;color: white;background-color: black;'>1906</span>. And underneath:\n",
       "\n",
       "\n",
       "Rise from bed . . . </p><p>d dim Union Station at six o'clock of a\n",
       "<span style='font-weight:  bold;color: white;background-color: black;'>December</span> evening with a few Chicago friends alre</p><p> I turned away.\n",
       "\n",
       "\n",
       "One afternoon late in <span style='font-weight:  bold;color: white;background-color: black;'>October</span> I saw Tom Buchanan. He was walking ahea</p>"
      ]
     },
     "metadata": {},
     "output_type": "display_data"
    }
   ],
   "source": [
    "# That's not too many to look at, let's print it out\n",
    "show_regex_results(re_date_1, txt)"
   ]
  },
  {
   "cell_type": "markdown",
   "metadata": {},
   "source": [
    "Looking through the above, I saw a few patterns to add:\n",
    "  * Month ..... \\*\\*\\*teen-\\*\\*\\*teen. Let's grab that.\n",
    "  * Month 9th, 1905"
   ]
  },
  {
   "cell_type": "code",
   "execution_count": 45,
   "metadata": {
    "ExecuteTime": {
     "end_time": "2019-09-16T03:34:58.343113Z",
     "start_time": "2019-09-16T03:34:58.321809Z"
    }
   },
   "outputs": [
    {
     "name": "stdout",
     "output_type": "stream",
     "text": [
      "33\n"
     ]
    }
   ],
   "source": [
    "re_date_2 = re.compile(\n",
    "    r\"(?:(?:January|February|March|April|May|June|July|August|September|October|November|December)\\b|1[89]\\d\\d)\"\n",
    "    r\"(?:\"  # open one big or\n",
    "        # First, let's do the teen-teen\n",
    "        r\".{0,10}\" # let some random characters be in there. . matches everything\n",
    "        r\"[a-z]*teen-[a-z]*teen\"\n",
    "    r\"|\"    # or\n",
    "        # Then let's do the 9th, 1906\n",
    "        r\"\\s+\\d{1,2}[thrds]{2},\\s+1[89]\\d\\d\"\n",
    "    r\")?\"    # cloes that big or, with a ? meaning find 0 or 1\n",
    ")\n",
    "\n",
    "print(len(re_date_1.findall(txt)))"
   ]
  },
  {
   "cell_type": "code",
   "execution_count": 46,
   "metadata": {
    "ExecuteTime": {
     "end_time": "2019-09-16T03:34:58.893245Z",
     "start_time": "2019-09-16T03:34:58.872463Z"
    }
   },
   "outputs": [
    {
     "data": {
      "text/html": [
       "<p>s office. I graduated from New Haven in <span style='font-weight:  bold;color: white;background-color: black;'>1915</span>, just a quarter of a\n",
       "century after my f</p><p> It was a few days before\n",
       "the Fourth of <span style='font-weight:  bold;color: white;background-color: black;'>July</span>, and a grey, scrawny Italian child was </p><p>\"\n",
       "\n",
       "\"I was in the Seventh Infantry until <span style='font-weight:  bold;color: white;background-color: black;'>June nineteen-eighteen</span>. I knew I'd\n",
       "seen you somewhere before.\"</p><p>so much attention at Carnegie Hall last <span style='font-weight:  bold;color: white;background-color: black;'>May</span>. If you read the papers\n",
       "you know there </p><p>ion so when she went on her vacation in <span style='font-weight:  bold;color: white;background-color: black;'>July</span> I let it blow\n",
       "quietly away.\n",
       "\n",
       "I took din</p><p>lds and headed \"This schedule in effect\n",
       "<span style='font-weight:  bold;color: white;background-color: black;'>July 5th, 1922</span>.\" But I can still read the grey names a</p><p>, or else Consuela or Gloria\n",
       "or Judy or <span style='font-weight:  bold;color: white;background-color: black;'>June</span>, and their last names were either the m</p><p>\n",
       "\n",
       "\n",
       "At nine o'clock, one morning late in <span style='font-weight:  bold;color: white;background-color: black;'>July</span> Gatsby's gorgeous car\n",
       "lurched up the ro</p><p>an who fixed the World's Series back in <span style='font-weight:  bold;color: white;background-color: black;'>1919</span>.\"\n",
       "\n",
       "\"Fixed the World's Series?\" I repeat</p><p>at the World's Series\n",
       "had been fixed in <span style='font-weight:  bold;color: white;background-color: black;'>1919</span> but if I had thought of it at all I wou</p><p>tsby, but he was no longer there.\n",
       "\n",
       "\n",
       "One <span style='font-weight:  bold;color: white;background-color: black;'>October day in nineteen-seventeen</span>----\n",
       "(said Jordan Baker that afternoon, </p><p>had a debut\n",
       "after the Armistice, and in <span style='font-weight:  bold;color: white;background-color: black;'>February</span> she was presumably engaged to a\n",
       "man fro</p><p>y engaged to a\n",
       "man from New Orleans. In <span style='font-weight:  bold;color: white;background-color: black;'>June</span> she married Tom Buchanan of Chicago wit</p><p>d her lying on her bed as lovely as the <span style='font-weight:  bold;color: white;background-color: black;'>June</span> night in\n",
       "her flowered dress--and as dru</p><p>n a\n",
       "hushed, fascinated way. That was in <span style='font-weight:  bold;color: white;background-color: black;'>August</span>. A week after I left Santa\n",
       "Barbara Tom </p><p>s\n",
       "in the Santa Barbara Hotel.\n",
       "\n",
       "The next <span style='font-weight:  bold;color: white;background-color: black;'>April</span> Daisy had her little girl and they went</p><p>e stars to which he had aspired\n",
       "on that <span style='font-weight:  bold;color: white;background-color: black;'>June</span> night. He came alive to me, delivered s</p><p>\n",
       "as it could ever be.\n",
       "\n",
       "\"Five years next <span style='font-weight:  bold;color: white;background-color: black;'>November</span>.\"\n",
       "\n",
       "The automatic quality of Gatsby's an</p><p>n knowledge to the turgid journalism\n",
       "of <span style='font-weight:  bold;color: white;background-color: black;'>1902</span>. He had been coasting along all too hos</p><p> down the drive, disappearing under the <span style='font-weight:  bold;color: white;background-color: black;'>August</span>\n",
       "foliage just as Gatsby with hat and lig</p><p>tentous chords of Mendelssohn's Wedding <span style='font-weight:  bold;color: white;background-color: black;'>March</span>\n",
       "from the ballroom below.\n",
       "\n",
       "\"Imagine marr</p><p>\n",
       "\"Still--I was married in the middle of <span style='font-weight:  bold;color: white;background-color: black;'>June</span>,\" Daisy remembered,\n",
       "\"Louisville in June</p><p>June,\" Daisy remembered,\n",
       "\"Louisville in <span style='font-weight:  bold;color: white;background-color: black;'>June</span>! Somebody fainted. Who was it fainted, </p><p>ssing the porch where we had dined\n",
       "that <span style='font-weight:  bold;color: white;background-color: black;'>June</span> night three months before I came to a s</p><p>sly--eventually he took Daisy one still <span style='font-weight:  bold;color: white;background-color: black;'>October</span> night,\n",
       "took her because he had no real </p><p>tsteps had clicked together through the\n",
       "<span style='font-weight:  bold;color: white;background-color: black;'>November</span> night and revisiting the out-of-the-way</p><p>in a long cheap ulster against the warm <span style='font-weight:  bold;color: white;background-color: black;'>September</span> day. His\n",
       "eyes leaked continuously with </p><p>luded the World's Series transaction\n",
       "in <span style='font-weight:  bold;color: white;background-color: black;'>1919</span>.\n",
       "\n",
       "\"Now he's dead,\" I said after a momen</p><p>printed the word SCHEDULE, and the date\n",
       "<span style='font-weight:  bold;color: white;background-color: black;'>September 12th, 1906</span>. And underneath:\n",
       "\n",
       "\n",
       "Rise from bed . . . </p><p>d dim Union Station at six o'clock of a\n",
       "<span style='font-weight:  bold;color: white;background-color: black;'>December</span> evening with a few Chicago friends alre</p><p> I turned away.\n",
       "\n",
       "\n",
       "One afternoon late in <span style='font-weight:  bold;color: white;background-color: black;'>October</span> I saw Tom Buchanan. He was walking ahea</p>"
      ]
     },
     "metadata": {},
     "output_type": "display_data"
    }
   ],
   "source": [
    "# That's not too many to look at, let's print it out\n",
    "show_regex_results(re_date_2, txt)"
   ]
  },
  {
   "cell_type": "code",
   "execution_count": 47,
   "metadata": {
    "ExecuteTime": {
     "end_time": "2019-09-16T03:34:59.564323Z",
     "start_time": "2019-09-16T03:34:59.560982Z"
    }
   },
   "outputs": [],
   "source": [
    "# I think that'll do."
   ]
  }
 ],
 "metadata": {
  "kernelspec": {
   "display_name": "Python 3",
   "language": "python",
   "name": "python3"
  },
  "language_info": {
   "codemirror_mode": {
    "name": "ipython",
    "version": 3
   },
   "file_extension": ".py",
   "mimetype": "text/x-python",
   "name": "python",
   "nbconvert_exporter": "python",
   "pygments_lexer": "ipython3",
   "version": "3.7.4"
  }
 },
 "nbformat": 4,
 "nbformat_minor": 2
}
